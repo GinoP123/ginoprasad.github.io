{
 "cells": [
  {
   "cell_type": "code",
   "execution_count": 1,
   "id": "da4db7fd",
   "metadata": {},
   "outputs": [],
   "source": [
    "import os\n",
    "import glob\n",
    "import subprocess as sp\n",
    "import yaml\n",
    "import shutil\n",
    "from tqdm import tqdm\n",
    "import numpy as np\n",
    "import datetime\n",
    "import re"
   ]
  },
  {
   "cell_type": "markdown",
   "id": "d30106f3",
   "metadata": {},
   "source": [
    "# Convert notebooks to html"
   ]
  },
  {
   "cell_type": "code",
   "execution_count": 2,
   "id": "934dc49f",
   "metadata": {},
   "outputs": [],
   "source": [
    "os.chdir('/home/giprasad/ginoprasad.github.io')\n",
    "index_html_path = 'index.html'\n",
    "header_html_path = 'header.html'\n",
    "metadata_path = 'metadata.yaml'\n",
    "temp_path = f'{os.getcwd()}/projects/temp.html'\n",
    "max_base_filename_length = 50"
   ]
  },
  {
   "cell_type": "code",
   "execution_count": 15,
   "id": "1b1568a7",
   "metadata": {},
   "outputs": [],
   "source": [
    "with open(metadata_path) as infile:\n",
    "    metadata = yaml.safe_load(infile)"
   ]
  },
  {
   "cell_type": "code",
   "execution_count": 4,
   "id": "2399cda7",
   "metadata": {},
   "outputs": [],
   "source": [
    "def path_exists(path):\n",
    "    if path.endswith('pdf'):\n",
    "        return os.path.exists(path) and os.path.exists(path[:-3]+'yaml')\n",
    "    else:\n",
    "        return os.path.exists(path)"
   ]
  },
  {
   "cell_type": "code",
   "execution_count": 5,
   "id": "5183729c",
   "metadata": {},
   "outputs": [],
   "source": [
    "for project_notebook_path in metadata['Projects'][:]:\n",
    "    if not path_exists(project_notebook_path):\n",
    "        print(f\"REMOVING {project_notebook_path}\")\n",
    "        metadata['Projects'].remove(project_notebook_path)\n",
    "        with open(metadata_path, 'w') as outfile:\n",
    "            yaml.dump(metadata, outfile, default_flow_style=False)"
   ]
  },
  {
   "cell_type": "code",
   "execution_count": 6,
   "id": "5e201280",
   "metadata": {},
   "outputs": [],
   "source": [
    "def get_notebook_metadata(project_notebook_path):\n",
    "    if project_notebook_path.endswith('pdf'):\n",
    "        with open(f\"{project_notebook_path[:-4]}.yaml\") as infile:\n",
    "            return yaml.safe_load(infile)\n",
    "    \n",
    "    notebook_metadata_str = sp.run(f\"head -n 200 '{project_notebook_path}'\", shell=True, capture_output=True).stdout.decode().split('\\n')\n",
    "    notebook_metadata_str = ''.join(notebook_metadata_str[notebook_metadata_str.index('   \"source\": [')+1:notebook_metadata_str.index('   ]')])\n",
    "    \n",
    "    notebook_metadata = {}\n",
    "    notebook_metadata['title'] = re.search('(?<=# ).*?(?<=\\\\\\\\n)', notebook_metadata_str).group(0)[:-2]\n",
    "    notebook_metadata['authors'] = re.search('(?<=#### ).*?(?<=\\\\\\\\n)', notebook_metadata_str).group(0)[:-2]\n",
    "    notebook_metadata['date'] = re.search('[0-9][0-9]/[0-9][0-9]/[0-9][0-9][0-9][0-9]', notebook_metadata_str).group(0)\n",
    "    \n",
    "    return notebook_metadata"
   ]
  },
  {
   "cell_type": "code",
   "execution_count": 7,
   "id": "f0153e26",
   "metadata": {},
   "outputs": [
    {
     "name": "stderr",
     "output_type": "stream",
     "text": [
      "  0%|                                      | 0/26 [00:00<?, ?it/s]"
     ]
    },
    {
     "name": "stdout",
     "output_type": "stream",
     "text": [
      "QC_Protein_Folding.pdf\n",
      "Project Name: Quantum Computing Algorithm for Protein Structure Prediction\n",
      "neural_odes.html\n",
      "Project Name: Neural Ordinary Differential Equations\n",
      "Converting /home/giprasad/project_archive/neural_odes.ipynb\n"
     ]
    },
    {
     "name": "stderr",
     "output_type": "stream",
     "text": [
      "[NbConvertApp] Converting notebook /home/giprasad/project_archive/neural_odes.ipynb to html\n",
      "[NbConvertApp] WARNING | Alternative text is missing on 3 image(s).\n",
      "[NbConvertApp] Writing 553550 bytes to /home/giprasad/ginoprasad.github.io/projects/temp.html\n",
      "  8%|██▎                           | 2/26 [00:00<00:11,  2.02it/s]"
     ]
    },
    {
     "name": "stdout",
     "output_type": "stream",
     "text": [
      "\n",
      "\n",
      "Euler_Lagrange_Equation_Derivation.html\n",
      "Project Name: Euler-Lagrange Equation Derivation\n",
      "Converting /home/giprasad/project_archive/Euler_Lagrange_Equation_Derivation.ipynb\n"
     ]
    },
    {
     "name": "stderr",
     "output_type": "stream",
     "text": [
      "[NbConvertApp] Converting notebook /home/giprasad/project_archive/Euler_Lagrange_Equation_Derivation.ipynb to html\n",
      "[NbConvertApp] Writing 286706 bytes to /home/giprasad/ginoprasad.github.io/projects/temp.html\n",
      " 12%|███▍                          | 3/26 [00:01<00:13,  1.69it/s]"
     ]
    },
    {
     "name": "stdout",
     "output_type": "stream",
     "text": [
      "\n",
      "\n",
      "normalizing_flow_implementation.html\n",
      "Project Name: Normalizing Flow Implementation\n",
      "Converting /home/giprasad/project_archive/normalizing_flow_implementation.ipynb\n"
     ]
    },
    {
     "name": "stderr",
     "output_type": "stream",
     "text": [
      "[NbConvertApp] Converting notebook /home/giprasad/project_archive/normalizing_flow_implementation.ipynb to html\n",
      "[NbConvertApp] WARNING | Alternative text is missing on 4 image(s).\n",
      "[NbConvertApp] Writing 345417 bytes to /home/giprasad/ginoprasad.github.io/projects/temp.html\n",
      " 15%|████▌                         | 4/26 [00:02<00:15,  1.44it/s]"
     ]
    },
    {
     "name": "stdout",
     "output_type": "stream",
     "text": [
      "\n",
      "\n",
      "earth_movers_distance.html\n",
      "Project Name: Earth Mover's Distance for NLP using Network Simplex\n",
      "Converting /home/giprasad/project_archive/earth_movers_distance.ipynb\n"
     ]
    },
    {
     "name": "stderr",
     "output_type": "stream",
     "text": [
      "[NbConvertApp] Converting notebook /home/giprasad/project_archive/earth_movers_distance.ipynb to html\n",
      "[NbConvertApp] Writing 307235 bytes to /home/giprasad/ginoprasad.github.io/projects/temp.html\n",
      " 19%|█████▊                        | 5/26 [00:03<00:15,  1.33it/s]"
     ]
    },
    {
     "name": "stdout",
     "output_type": "stream",
     "text": [
      "\n",
      "\n",
      "transformer_seq_to_seq.html\n",
      "Project Name: English to French Translation using Transformers\n",
      "Converting /home/giprasad/project_archive/transformer_seq_to_seq.ipynb\n"
     ]
    },
    {
     "name": "stderr",
     "output_type": "stream",
     "text": [
      "[NbConvertApp] Converting notebook /home/giprasad/project_archive/transformer_seq_to_seq.ipynb to html\n",
      "[NbConvertApp] WARNING | Alternative text is missing on 1 image(s).\n",
      "[NbConvertApp] Writing 353347 bytes to /home/giprasad/ginoprasad.github.io/projects/temp.html\n",
      " 23%|██████▉                       | 6/26 [00:04<00:15,  1.25it/s]"
     ]
    },
    {
     "name": "stdout",
     "output_type": "stream",
     "text": [
      "\n",
      "\n",
      "VAE.html\n",
      "Project Name: Variational Auto Encoders for Simulating Human Faces\n",
      "Converting /home/giprasad/project_archive/VAE.ipynb\n"
     ]
    },
    {
     "name": "stderr",
     "output_type": "stream",
     "text": [
      "[NbConvertApp] Converting notebook /home/giprasad/project_archive/VAE.ipynb to html\n",
      "[NbConvertApp] WARNING | Alternative text is missing on 3 image(s).\n",
      "[NbConvertApp] Writing 1323611 bytes to /home/giprasad/ginoprasad.github.io/projects/temp.html\n",
      " 27%|████████                      | 7/26 [00:05<00:15,  1.19it/s]"
     ]
    },
    {
     "name": "stdout",
     "output_type": "stream",
     "text": [
      "\n",
      "\n",
      "audio_transcription.html\n",
      "Project Name: MUS 15 Project 2: Audio Transcription\n",
      "Converting /home/giprasad/project_archive/audio_transcription.ipynb\n"
     ]
    },
    {
     "name": "stderr",
     "output_type": "stream",
     "text": [
      "[NbConvertApp] Converting notebook /home/giprasad/project_archive/audio_transcription.ipynb to html\n",
      "[NbConvertApp] WARNING | Alternative text is missing on 2 image(s).\n",
      "[NbConvertApp] Writing 44448405 bytes to /home/giprasad/ginoprasad.github.io/projects/temp.html\n",
      " 31%|█████████▏                    | 8/26 [00:06<00:19,  1.07s/it]"
     ]
    },
    {
     "name": "stdout",
     "output_type": "stream",
     "text": [
      "\n",
      "\n",
      "cropping_image_logo.html\n",
      "Project Name: Cropping Image Logo for the Website\n",
      "Converting /home/giprasad/project_archive/cropping_image_logo.ipynb\n"
     ]
    },
    {
     "name": "stderr",
     "output_type": "stream",
     "text": [
      "[NbConvertApp] Converting notebook /home/giprasad/project_archive/cropping_image_logo.ipynb to html\n",
      "[NbConvertApp] WARNING | Alternative text is missing on 7 image(s).\n",
      "[NbConvertApp] Writing 1731423 bytes to /home/giprasad/ginoprasad.github.io/projects/temp.html\n",
      " 35%|██████████▍                   | 9/26 [00:07<00:17,  1.00s/it]"
     ]
    },
    {
     "name": "stdout",
     "output_type": "stream",
     "text": [
      "\n",
      "\n",
      "Stable_Diffusion_Pretrained.html\n",
      "Project Name: Using Pretrained Stable Diffusion for the Website Logo\n",
      "Converting /home/giprasad/project_archive/Stable_Diffusion_Pretrained.ipynb\n"
     ]
    },
    {
     "name": "stderr",
     "output_type": "stream",
     "text": [
      "[NbConvertApp] Converting notebook /home/giprasad/project_archive/Stable_Diffusion_Pretrained.ipynb to html\n",
      "[NbConvertApp] WARNING | Alternative text is missing on 2 image(s).\n",
      "[NbConvertApp] Writing 4039407 bytes to /home/giprasad/ginoprasad.github.io/projects/temp.html\n",
      " 38%|███████████▏                 | 10/26 [00:08<00:15,  1.04it/s]"
     ]
    },
    {
     "name": "stdout",
     "output_type": "stream",
     "text": [
      "\n",
      "\n",
      "solution_11.html\n",
      "Project Name: Google Foobar Expanding Nebula Problem\n",
      "Converting /home/giprasad/project_archive/solution_11.ipynb\n"
     ]
    },
    {
     "name": "stderr",
     "output_type": "stream",
     "text": [
      "[NbConvertApp] Converting notebook /home/giprasad/project_archive/solution_11.ipynb to html\n",
      "[NbConvertApp] Writing 298502 bytes to /home/giprasad/ginoprasad.github.io/projects/temp.html\n",
      " 42%|████████████▎                | 11/26 [00:09<00:13,  1.08it/s]"
     ]
    },
    {
     "name": "stdout",
     "output_type": "stream",
     "text": [
      "\n",
      "\n",
      "complex_inner_product.html\n",
      "Project Name: Inner Product in Hilbert Space\n",
      "Converting /home/giprasad/project_archive/complex_inner_product.ipynb\n"
     ]
    },
    {
     "name": "stderr",
     "output_type": "stream",
     "text": [
      "[NbConvertApp] Converting notebook /home/giprasad/project_archive/complex_inner_product.ipynb to html\n",
      "[NbConvertApp] Writing 291137 bytes to /home/giprasad/ginoprasad.github.io/projects/temp.html\n",
      " 46%|█████████████▍               | 12/26 [00:10<00:12,  1.10it/s]"
     ]
    },
    {
     "name": "stdout",
     "output_type": "stream",
     "text": [
      "\n",
      "\n",
      "Autotune_MUS_15.html\n",
      "Project Name: MUS 15 Project 1: Creating Autotune From Scratch Using Phase Vocoders\n",
      "Converting /home/giprasad/project_archive/Autotune_MUS_15.ipynb\n"
     ]
    },
    {
     "name": "stderr",
     "output_type": "stream",
     "text": [
      "[NbConvertApp] Converting notebook /home/giprasad/project_archive/Autotune_MUS_15.ipynb to html\n",
      "[NbConvertApp] Writing 284897 bytes to /home/giprasad/ginoprasad.github.io/projects/temp.html\n",
      " 50%|██████████████▌              | 13/26 [00:11<00:11,  1.17it/s]"
     ]
    },
    {
     "name": "stdout",
     "output_type": "stream",
     "text": [
      "\n",
      "\n",
      "autotune_combined.html\n",
      "Project Name: Autotune Implementation Using Phase Vocoder\n",
      "Converting /home/giprasad/project_archive/autotune_combined.ipynb\n"
     ]
    },
    {
     "name": "stderr",
     "output_type": "stream",
     "text": [
      "[NbConvertApp] Converting notebook /home/giprasad/project_archive/autotune_combined.ipynb to html\n",
      "[NbConvertApp] Writing 4391023 bytes to /home/giprasad/ginoprasad.github.io/projects/temp.html\n",
      " 54%|███████████████▌             | 14/26 [00:11<00:10,  1.15it/s]"
     ]
    },
    {
     "name": "stdout",
     "output_type": "stream",
     "text": [
      "\n",
      "\n",
      "Phase_Vocoder.html\n",
      "Project Name: Phase Vocoder Implementation\n",
      "Converting /home/giprasad/project_archive/Phase_Vocoder.ipynb\n"
     ]
    },
    {
     "name": "stderr",
     "output_type": "stream",
     "text": [
      "[NbConvertApp] Converting notebook /home/giprasad/project_archive/Phase_Vocoder.ipynb to html\n",
      "[NbConvertApp] Writing 3726795 bytes to /home/giprasad/ginoprasad.github.io/projects/temp.html\n",
      " 58%|████████████████▋            | 15/26 [00:12<00:09,  1.12it/s]"
     ]
    },
    {
     "name": "stdout",
     "output_type": "stream",
     "text": [
      "\n",
      "\n",
      "yin_pitch_prediction.html\n",
      "Project Name: Yin Pitch Prediction Implementation\n",
      "Converting /home/giprasad/project_archive/yin_pitch_prediction.ipynb\n"
     ]
    },
    {
     "name": "stderr",
     "output_type": "stream",
     "text": [
      "[NbConvertApp] Converting notebook /home/giprasad/project_archive/yin_pitch_prediction.ipynb to html\n",
      "[NbConvertApp] Writing 1550312 bytes to /home/giprasad/ginoprasad.github.io/projects/temp.html\n",
      " 62%|█████████████████▊           | 16/26 [00:13<00:08,  1.12it/s]"
     ]
    },
    {
     "name": "stdout",
     "output_type": "stream",
     "text": [
      "\n",
      "\n",
      "fast_fourier_transform.html\n",
      "Project Name: Fast Fourier Transform Implementation\n",
      "Converting /home/giprasad/project_archive/fast_fourier_transform.ipynb\n"
     ]
    },
    {
     "name": "stderr",
     "output_type": "stream",
     "text": [
      "[NbConvertApp] Converting notebook /home/giprasad/project_archive/fast_fourier_transform.ipynb to html\n",
      "[NbConvertApp] WARNING | Alternative text is missing on 4 image(s).\n",
      "[NbConvertApp] Writing 521540 bytes to /home/giprasad/ginoprasad.github.io/projects/temp.html\n",
      " 65%|██████████████████▉          | 17/26 [00:14<00:08,  1.10it/s]"
     ]
    },
    {
     "name": "stdout",
     "output_type": "stream",
     "text": [
      "\n",
      "\n",
      "unet_implementation.html\n",
      "Project Name: U-Net Convolutional Neural Network Implementation\n",
      "Converting /home/giprasad/project_archive/unet_implementation.ipynb\n"
     ]
    },
    {
     "name": "stderr",
     "output_type": "stream",
     "text": [
      "[NbConvertApp] Converting notebook /home/giprasad/project_archive/unet_implementation.ipynb to html\n",
      "[NbConvertApp] WARNING | Alternative text is missing on 4 image(s).\n",
      "[NbConvertApp] Writing 899943 bytes to /home/giprasad/ginoprasad.github.io/projects/temp.html\n",
      " 69%|████████████████████         | 18/26 [00:15<00:07,  1.12it/s]"
     ]
    },
    {
     "name": "stdout",
     "output_type": "stream",
     "text": [
      "\n",
      "\n",
      "Multilayer_Neural_Network.html\n",
      "Project Name: Multilayer Neural Network Implementation From Scratch: Handwritten Text Parser\n",
      "Converting /home/giprasad/project_archive/Multilayer_Neural_Network.ipynb\n"
     ]
    },
    {
     "name": "stderr",
     "output_type": "stream",
     "text": [
      "[NbConvertApp] Converting notebook /home/giprasad/project_archive/Multilayer_Neural_Network.ipynb to html\n",
      "[NbConvertApp] WARNING | Alternative text is missing on 1 image(s).\n",
      "[NbConvertApp] Writing 305641 bytes to /home/giprasad/ginoprasad.github.io/projects/temp.html\n",
      " 73%|█████████████████████▏       | 19/26 [00:16<00:06,  1.13it/s]"
     ]
    },
    {
     "name": "stdout",
     "output_type": "stream",
     "text": [
      "\n",
      "\n",
      "Image_Segmenter.html\n",
      "Project Name: Image Segmenter Using Connected Components\n",
      "Converting /home/giprasad/project_archive/Image_Segmenter.ipynb\n"
     ]
    },
    {
     "name": "stderr",
     "output_type": "stream",
     "text": [
      "[NbConvertApp] Converting notebook /home/giprasad/project_archive/Image_Segmenter.ipynb to html\n",
      "[NbConvertApp] WARNING | Alternative text is missing on 19 image(s).\n",
      "[NbConvertApp] Writing 470624 bytes to /home/giprasad/ginoprasad.github.io/projects/temp.html\n",
      " 77%|██████████████████████▎      | 20/26 [00:17<00:05,  1.13it/s]"
     ]
    },
    {
     "name": "stdout",
     "output_type": "stream",
     "text": [
      "\n",
      "\n",
      "Handwriten_Text_Parser.html\n",
      "Project Name: Perceptron Implementation From Scratch: Handwritten Text Parser\n",
      "Converting /home/giprasad/project_archive/Handwriten_Text_Parser.ipynb\n"
     ]
    },
    {
     "name": "stderr",
     "output_type": "stream",
     "text": [
      "[NbConvertApp] Converting notebook /home/giprasad/project_archive/Handwriten_Text_Parser.ipynb to html\n",
      "[NbConvertApp] WARNING | Alternative text is missing on 1 image(s).\n",
      "[NbConvertApp] Writing 315805 bytes to /home/giprasad/ginoprasad.github.io/projects/temp.html\n",
      " 81%|███████████████████████▍     | 21/26 [00:18<00:04,  1.13it/s]"
     ]
    },
    {
     "name": "stdout",
     "output_type": "stream",
     "text": [
      "\n",
      "\n",
      "Gaussian_Blur.html\n",
      "Project Name: Gaussian Filter Implementation\n",
      "Converting /home/giprasad/project_archive/Gaussian_Blur.ipynb\n"
     ]
    },
    {
     "name": "stderr",
     "output_type": "stream",
     "text": [
      "[NbConvertApp] Converting notebook /home/giprasad/project_archive/Gaussian_Blur.ipynb to html\n",
      "[NbConvertApp] WARNING | Alternative text is missing on 6 image(s).\n",
      "[NbConvertApp] Writing 854203 bytes to /home/giprasad/ginoprasad.github.io/projects/temp.html\n",
      " 85%|████████████████████████▌    | 22/26 [00:19<00:03,  1.13it/s]"
     ]
    },
    {
     "name": "stdout",
     "output_type": "stream",
     "text": [
      "\n",
      "\n",
      "play_note.html\n",
      "Project Name: Pitch Reconstruction with Audio Processing\n",
      "Converting /home/giprasad/project_archive/play_note.ipynb\n"
     ]
    },
    {
     "name": "stderr",
     "output_type": "stream",
     "text": [
      "[NbConvertApp] Converting notebook /home/giprasad/project_archive/play_note.ipynb to html\n",
      "[NbConvertApp] WARNING | Alternative text is missing on 1 image(s).\n",
      "[NbConvertApp] Writing 578069 bytes to /home/giprasad/ginoprasad.github.io/projects/temp.html\n",
      " 88%|█████████████████████████▋   | 23/26 [00:19<00:02,  1.14it/s]"
     ]
    },
    {
     "name": "stdout",
     "output_type": "stream",
     "text": [
      "\n",
      "\n",
      "wordle_bot.html\n",
      "Project Name: Wordle Bot\n",
      "Converting /home/giprasad/project_archive/wordle_bot.ipynb\n"
     ]
    },
    {
     "name": "stderr",
     "output_type": "stream",
     "text": [
      "[NbConvertApp] Converting notebook /home/giprasad/project_archive/wordle_bot.ipynb to html\n",
      "[NbConvertApp] Writing 434713 bytes to /home/giprasad/ginoprasad.github.io/projects/temp.html\n",
      " 92%|██████████████████████████▊  | 24/26 [00:20<00:01,  1.15it/s]"
     ]
    },
    {
     "name": "stdout",
     "output_type": "stream",
     "text": [
      "\n",
      "\n",
      "interpolation.html\n",
      "Project Name: Lagrange Interpolation and Gregory-Newton Interpolation\n",
      "Converting /home/giprasad/project_archive/interpolation.ipynb\n"
     ]
    },
    {
     "name": "stderr",
     "output_type": "stream",
     "text": [
      "[NbConvertApp] Converting notebook /home/giprasad/project_archive/interpolation.ipynb to html\n",
      "[NbConvertApp] Writing 281005 bytes to /home/giprasad/ginoprasad.github.io/projects/temp.html\n",
      " 96%|███████████████████████████▉ | 25/26 [00:21<00:00,  1.17it/s]"
     ]
    },
    {
     "name": "stdout",
     "output_type": "stream",
     "text": [
      "\n",
      "\n",
      "edge_detector.html\n",
      "Project Name: Image Edge Detector\n",
      "Converting /home/giprasad/project_archive/edge_detector.ipynb\n"
     ]
    },
    {
     "name": "stderr",
     "output_type": "stream",
     "text": [
      "[NbConvertApp] Converting notebook /home/giprasad/project_archive/edge_detector.ipynb to html\n",
      "[NbConvertApp] Writing 286399 bytes to /home/giprasad/ginoprasad.github.io/projects/temp.html\n",
      "100%|█████████████████████████████| 26/26 [00:22<00:00,  1.16it/s]"
     ]
    },
    {
     "name": "stdout",
     "output_type": "stream",
     "text": [
      "\n",
      "\n"
     ]
    },
    {
     "name": "stderr",
     "output_type": "stream",
     "text": [
      "\n"
     ]
    }
   ],
   "source": [
    "project_names, project_paths, project_dates = [], [], []\n",
    "for project_notebook_path in tqdm(metadata['Projects']):\n",
    "    notebook_metadata = get_notebook_metadata(project_notebook_path)\n",
    "    extension = project_notebook_path.split('.')[-1]\n",
    "    project_base_path = os.path.basename(project_notebook_path)[:-len(f'.{extension}')]\n",
    "\n",
    "    while len(project_base_path) > max_base_filename_length:\n",
    "        project_base_path = ' '.join(project_base_path.split(' ')[:-1])\n",
    "    if not project_base_path:\n",
    "        print(f\"\\n\\n\\n\\n\\tWarning: Project '{notebook_metadata['title']}' Name exceeds recommended length\\n\\n\\n\\n\")\n",
    "        project_base_path = notebook_metadata['title']\n",
    "    \n",
    "    project_base_path = f\"{project_base_path}.html\"\n",
    "    if extension == 'pdf':\n",
    "        project_base_path = project_base_path[:-5] + '.pdf'\n",
    "    notebook_metadata['project_path'] = f'{os.getcwd()}/projects/{project_base_path}'\n",
    "    \n",
    "    assert notebook_metadata['project_path'] not in project_paths\n",
    "    project_names.append(notebook_metadata['title'])\n",
    "    project_paths.append(notebook_metadata['project_path'])\n",
    "    project_dates.append(notebook_metadata['date'])\n",
    "    \n",
    "    if os.path.exists(notebook_metadata['project_path']) and os.path.getmtime(notebook_metadata['project_path']) > os.path.getmtime(project_notebook_path):\n",
    "        continue\n",
    "    \n",
    "    print(project_base_path)\n",
    "    print(f\"Project Name: {notebook_metadata['title']}\")\n",
    "\n",
    "    if extension == 'ipynb':\n",
    "        print(f\"Converting {project_notebook_path}\")\n",
    "        sp.run(f\"jupyter nbconvert --to html '{project_notebook_path}' --output '{temp_path}'\", shell=True)\n",
    "    else:\n",
    "        sp.run(f\"cp '{project_notebook_path}' '{notebook_metadata['project_path']}'\", shell=True)\n",
    "        continue\n",
    "        \n",
    "    with open(temp_path) as infile:\n",
    "        lines = infile.readlines()\n",
    "\n",
    "\n",
    "    title = ' '.join(map(lambda x: x[0].upper() + x[1:] if x else x, project_base_path.split('_')))\n",
    "    lines[5] = lines[5][:len('<title>')] + title + lines[5][lines[5].index('</title>'):]\n",
    " \n",
    "    with open(temp_path, 'w') as outfile:\n",
    "        lines.insert(5, '<link rel=\"icon\" href=\"../docs/assets/logo.png\"><iframe src=\"../header.html\" style=\"height: 12rem; width: 100%\" frameborder=\"0\" scrolling=\"no\"></iframe>\\n')\n",
    "        outfile.write(''.join(lines))\n",
    "    os.rename(temp_path, notebook_metadata['project_path'])\n",
    "    \n",
    "    print('\\n')\n",
    "\n",
    "datetimes = [datetime.datetime.strptime(project_date, '%m/%d/%Y') for project_date in project_dates]\n",
    "sort_list = lambda ls: [y[1] for y in sorted(enumerate(ls), key=lambda x: datetimes[x[0]], reverse=True)]\n",
    "project_names, project_paths, project_dates = map(sort_list, (project_names, project_paths, project_dates))\n",
    "[os.remove(x) for x in glob.glob(f'{os.getcwd()}/projects/*') if x not in project_paths]\n",
    "None"
   ]
  },
  {
   "cell_type": "code",
   "execution_count": 8,
   "id": "f2eaadff",
   "metadata": {},
   "outputs": [],
   "source": [
    "with open(index_html_path) as infile:\n",
    "    index_html_lines = infile.readlines()"
   ]
  },
  {
   "cell_type": "code",
   "execution_count": 9,
   "id": "52ad2069",
   "metadata": {},
   "outputs": [],
   "source": [
    "project_template = \"\\t\\t\\t<li><div class=link><a href=\\\"projects/{}\\\">{}</a></div><div class='date'><img src='docs/assets/calendar_icon.png'><span class=date>{}</span></div></li>\\n\"\n",
    "\n",
    "project_list_index_start = [\"Cool Projects\" in x for x in index_html_lines].index(True) + 2\n",
    "project_list_index_end = index_html_lines[project_list_index_start:].index('\\t\\t</ul>\\n') + project_list_index_start\n",
    "\n",
    "new_project_list =  [project_template.format(os.path.basename(html_path), name, date) for name, html_path, date in zip(project_names, project_paths, project_dates)]\n",
    "index_html_lines = index_html_lines[:project_list_index_start] + new_project_list + index_html_lines[project_list_index_end:]\n",
    "index_html_lines[project_list_index_start-2] = re.sub(\"(?<=\\\\().*?(?=\\\\))\",  str(len(metadata['Projects'])), index_html_lines[project_list_index_start-2])"
   ]
  },
  {
   "cell_type": "code",
   "execution_count": 10,
   "id": "0fab5c98",
   "metadata": {},
   "outputs": [],
   "source": [
    "with open(index_html_path, 'w') as outfile:\n",
    "    outfile.write(''.join(index_html_lines))"
   ]
  },
  {
   "cell_type": "markdown",
   "id": "d7745fbd",
   "metadata": {},
   "source": [
    "# Copying CV and Updating Links"
   ]
  },
  {
   "cell_type": "code",
   "execution_count": 16,
   "id": "af3c5d55-8cfb-4270-8e31-fbd5376c199a",
   "metadata": {},
   "outputs": [
    {
     "data": {
      "text/plain": [
       "'/home/giprasad/_Receipts/pdf_files/Gino_Prasad_CV.pdf'"
      ]
     },
     "execution_count": 16,
     "metadata": {},
     "output_type": "execute_result"
    }
   ],
   "source": [
    "metadata['CV']"
   ]
  },
  {
   "cell_type": "code",
   "execution_count": 17,
   "id": "6e3b72ba",
   "metadata": {},
   "outputs": [],
   "source": [
    "assert shutil.copy(metadata['CV'], f\"projects/{os.path.basename(metadata['CV'])}\")"
   ]
  },
  {
   "cell_type": "code",
   "execution_count": 18,
   "id": "e6770f3e",
   "metadata": {},
   "outputs": [
    {
     "data": {
      "text/plain": [
       "'/home/giprasad/_Receipts/pdf_files/Gino_Prasad_CV.pdf'"
      ]
     },
     "execution_count": 18,
     "metadata": {},
     "output_type": "execute_result"
    }
   ],
   "source": [
    "metadata['CV']"
   ]
  },
  {
   "cell_type": "code",
   "execution_count": 19,
   "id": "5967d7cc",
   "metadata": {},
   "outputs": [],
   "source": [
    "tag_dict = {tag: metadata[tag] for tag in ['CV', 'LinkedIn', 'GitHub', 'GoogleScholar', 'ORCID']}\n",
    "tag_dict['CV'] = f\"projects/{os.path.basename(tag_dict['CV'])}\"\n",
    "tag_dict['Logo'] = metadata['DomainLink']"
   ]
  },
  {
   "cell_type": "code",
   "execution_count": 20,
   "id": "5a4fa652",
   "metadata": {},
   "outputs": [],
   "source": [
    "with open(\"header.html\") as infile:\n",
    "    header_html_string = infile.read()"
   ]
  },
  {
   "cell_type": "code",
   "execution_count": 21,
   "id": "da233e95",
   "metadata": {},
   "outputs": [],
   "source": [
    "for tag_name, tag_value in tag_dict.items():\n",
    "    header_html_string = re.sub(f\"(?<=<a id='{tag_name}' href=').*?(?='>)\", tag_value, header_html_string)"
   ]
  },
  {
   "cell_type": "code",
   "execution_count": 22,
   "id": "1b213b15",
   "metadata": {},
   "outputs": [],
   "source": [
    "with open(\"header.html\", 'w') as outfile:\n",
    "    outfile.write(header_html_string)"
   ]
  },
  {
   "cell_type": "markdown",
   "id": "549403c3",
   "metadata": {},
   "source": [
    "# Writing Updated Index File"
   ]
  },
  {
   "cell_type": "code",
   "execution_count": 23,
   "id": "2b451d85",
   "metadata": {},
   "outputs": [
    {
     "name": "stdout",
     "output_type": "stream",
     "text": [
      "[main fc71106] Automated Website Update\n",
      " 30 files changed, 118119 insertions(+), 297403 deletions(-)\n"
     ]
    },
    {
     "name": "stderr",
     "output_type": "stream",
     "text": [
      "To https://github.com/GinoP123/ginoprasad.github.io.git\n",
      "   b0f45aa..fc71106  main -> main\n"
     ]
    },
    {
     "data": {
      "text/plain": [
       "CompletedProcess(args=\"cd '/home/giprasad/ginoprasad.github.io'; git add .; git commit -m 'Automated Website Update'; git push origin main\", returncode=0)"
      ]
     },
     "execution_count": 23,
     "metadata": {},
     "output_type": "execute_result"
    }
   ],
   "source": [
    "sp.run(f\"cd '{os.getcwd()}'; git add .; git commit -m 'Automated Website Update'; git push origin main\", shell=True)"
   ]
  },
  {
   "cell_type": "markdown",
   "id": "ea967e3c",
   "metadata": {},
   "source": [
    "# Updating Python Script"
   ]
  },
  {
   "cell_type": "code",
   "execution_count": 24,
   "id": "9589d4fd",
   "metadata": {},
   "outputs": [
    {
     "name": "stderr",
     "output_type": "stream",
     "text": [
      "[NbConvertApp] Converting notebook update_website.ipynb to script\n",
      "[NbConvertApp] Writing 6878 bytes to update_website.py\n"
     ]
    }
   ],
   "source": [
    "if hasattr(__builtins__,'__IPYTHON__'):\n",
    "    sp.run(f\"jupyter nbconvert --to script 'update_website.ipynb' --output 'update_website'\", shell=True)"
   ]
  },
  {
   "cell_type": "code",
   "execution_count": null,
   "id": "8b0951db-3fde-4ffc-b4f4-fbd2d9e252ce",
   "metadata": {},
   "outputs": [],
   "source": []
  }
 ],
 "metadata": {
  "kernelspec": {
   "display_name": "Python 3 (ipykernel)",
   "language": "python",
   "name": "python3"
  },
  "language_info": {
   "codemirror_mode": {
    "name": "ipython",
    "version": 3
   },
   "file_extension": ".py",
   "mimetype": "text/x-python",
   "name": "python",
   "nbconvert_exporter": "python",
   "pygments_lexer": "ipython3",
   "version": "3.12.7"
  }
 },
 "nbformat": 4,
 "nbformat_minor": 5
}
