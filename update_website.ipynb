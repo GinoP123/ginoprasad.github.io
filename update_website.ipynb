{
 "cells": [
  {
   "cell_type": "code",
   "execution_count": 4,
   "id": "da4db7fd",
   "metadata": {},
   "outputs": [],
   "source": [
    "import os\n",
    "import glob\n",
    "import subprocess as sp\n",
    "import yaml\n",
    "import shutil\n",
    "from tqdm import tqdm\n",
    "import numpy as np\n",
    "import datetime\n",
    "import re"
   ]
  },
  {
   "cell_type": "markdown",
   "id": "d30106f3",
   "metadata": {},
   "source": [
    "# Convert notebooks to html"
   ]
  },
  {
   "cell_type": "code",
   "execution_count": 5,
   "id": "934dc49f",
   "metadata": {},
   "outputs": [],
   "source": [
    "os.chdir(os.path.expanduser('~/ginoprasad.github.io'))\n",
    "index_html_path = 'index.html'\n",
    "header_html_path = 'header.html'\n",
    "metadata_path = 'metadata.yaml'\n",
    "temp_path = f'{os.getcwd()}/projects/temp.html'\n",
    "max_base_filename_length = 50"
   ]
  },
  {
   "cell_type": "code",
   "execution_count": 6,
   "id": "1b1568a7",
   "metadata": {},
   "outputs": [],
   "source": [
    "with open(metadata_path) as infile:\n",
    "    metadata = yaml.safe_load(infile)"
   ]
  },
  {
   "cell_type": "code",
   "execution_count": 7,
   "id": "2399cda7",
   "metadata": {},
   "outputs": [],
   "source": [
    "def path_exists(path):\n",
    "    if path.endswith('pdf'):\n",
    "        return os.path.exists(path) and os.path.exists(path[:-3]+'yaml')\n",
    "    else:\n",
    "        return os.path.exists(path)"
   ]
  },
  {
   "cell_type": "code",
   "execution_count": 8,
   "id": "5183729c",
   "metadata": {},
   "outputs": [],
   "source": [
    "for project_notebook_path in metadata['Projects'][:]:\n",
    "    if not path_exists(project_notebook_path):\n",
    "        print(f\"REMOVING {project_notebook_path}\")\n",
    "        metadata['Projects'].remove(project_notebook_path)\n",
    "        with open(metadata_path, 'w') as outfile:\n",
    "            yaml.dump(metadata, outfile, default_flow_style=False)"
   ]
  },
  {
   "cell_type": "code",
   "execution_count": 9,
   "id": "5e201280",
   "metadata": {},
   "outputs": [],
   "source": [
    "def get_notebook_metadata(project_notebook_path):\n",
    "    if project_notebook_path.endswith('pdf'):\n",
    "        with open(f\"{project_notebook_path[:-4]}.yaml\") as infile:\n",
    "            return yaml.safe_load(infile)\n",
    "    \n",
    "    notebook_metadata_str = sp.run(f\"head -n 200 '{project_notebook_path}'\", shell=True, capture_output=True).stdout.decode().split('\\n')\n",
    "    notebook_metadata_str = ''.join(notebook_metadata_str[notebook_metadata_str.index('   \"source\": [')+1:notebook_metadata_str.index('   ]')])\n",
    "    \n",
    "    notebook_metadata = {}\n",
    "    notebook_metadata['title'] = re.search('(?<=# ).*?(?<=\\\\\\\\n)', notebook_metadata_str).group(0)[:-2]\n",
    "    notebook_metadata['authors'] = re.search('(?<=#### ).*?(?<=\\\\\\\\n)', notebook_metadata_str).group(0)[:-2]\n",
    "    notebook_metadata['date'] = re.search('[0-9][0-9]/[0-9][0-9]/[0-9][0-9][0-9][0-9]', notebook_metadata_str).group(0)\n",
    "    \n",
    "    return notebook_metadata"
   ]
  },
  {
   "cell_type": "code",
   "execution_count": 21,
   "id": "f0153e26",
   "metadata": {},
   "outputs": [
    {
     "name": "stderr",
     "output_type": "stream",
     "text": [
      "\r",
      "  0%|                                    | 0/27 [00:00<?, ?it/s]"
     ]
    },
    {
     "name": "stdout",
     "output_type": "stream",
     "text": [
      "Stochastic_Modeling_of_Tumor_Evolution.html\n",
      "Project Name: Stochastic Modeling Of Tumor Evolution\n",
      "Converting /Users/ginoprasad/project_archive/Stochastic_Modeling_of_Tumor_Evolution.ipynb\n"
     ]
    },
    {
     "name": "stderr",
     "output_type": "stream",
     "text": [
      "[NbConvertApp] WARNING | Config option `extra_template_paths` not recognized by `HTMLExporter`.  Did you mean `template_path`?\n",
      "[NbConvertApp] Converting notebook /Users/ginoprasad/project_archive/Stochastic_Modeling_of_Tumor_Evolution.ipynb to html\n",
      "[NbConvertApp] Writing 307734 bytes to /Users/ginoprasad/ginoprasad.github.io/projects/temp.html\n",
      "  4%|█                           | 1/27 [00:01<00:29,  1.15s/it]"
     ]
    },
    {
     "name": "stdout",
     "output_type": "stream",
     "text": [
      "\n",
      "\n",
      "neural_odes.html\n",
      "Project Name: Neural Ordinary Differential Equations\n",
      "Converting /Users/ginoprasad/project_archive/neural_odes.ipynb\n"
     ]
    },
    {
     "name": "stderr",
     "output_type": "stream",
     "text": [
      "[NbConvertApp] WARNING | Config option `extra_template_paths` not recognized by `HTMLExporter`.  Did you mean `template_path`?\n",
      "[NbConvertApp] Converting notebook /Users/ginoprasad/project_archive/neural_odes.ipynb to html\n",
      "[NbConvertApp] Writing 548495 bytes to /Users/ginoprasad/ginoprasad.github.io/projects/temp.html\n",
      " 11%|███                         | 3/27 [00:02<00:17,  1.36it/s]"
     ]
    },
    {
     "name": "stdout",
     "output_type": "stream",
     "text": [
      "\n",
      "\n",
      "Euler_Lagrange_Equation_Derivation.html\n",
      "Project Name: Euler-Lagrange Equation Derivation\n",
      "Converting /Users/ginoprasad/project_archive/Euler_Lagrange_Equation_Derivation.ipynb\n"
     ]
    },
    {
     "name": "stderr",
     "output_type": "stream",
     "text": [
      "[NbConvertApp] WARNING | Config option `extra_template_paths` not recognized by `HTMLExporter`.  Did you mean `template_path`?\n",
      "[NbConvertApp] Converting notebook /Users/ginoprasad/project_archive/Euler_Lagrange_Equation_Derivation.ipynb to html\n",
      "[NbConvertApp] Writing 282701 bytes to /Users/ginoprasad/ginoprasad.github.io/projects/temp.html\n",
      " 15%|████▏                       | 4/27 [00:03<00:18,  1.25it/s]"
     ]
    },
    {
     "name": "stdout",
     "output_type": "stream",
     "text": [
      "\n",
      "\n",
      "normalizing_flow_implementation.html\n",
      "Project Name: Normalizing Flow Implementation\n",
      "Converting /Users/ginoprasad/project_archive/normalizing_flow_implementation.ipynb\n"
     ]
    },
    {
     "name": "stderr",
     "output_type": "stream",
     "text": [
      "[NbConvertApp] WARNING | Config option `extra_template_paths` not recognized by `HTMLExporter`.  Did you mean `template_path`?\n",
      "[NbConvertApp] Converting notebook /Users/ginoprasad/project_archive/normalizing_flow_implementation.ipynb to html\n",
      "[NbConvertApp] Writing 342835 bytes to /Users/ginoprasad/ginoprasad.github.io/projects/temp.html\n",
      " 19%|█████▏                      | 5/27 [00:04<00:20,  1.09it/s]"
     ]
    },
    {
     "name": "stdout",
     "output_type": "stream",
     "text": [
      "\n",
      "\n",
      "earth_movers_distance.html\n",
      "Project Name: Earth Mover's Distance for NLP using Network Simplex\n",
      "Converting /Users/ginoprasad/project_archive/earth_movers_distance.ipynb\n"
     ]
    },
    {
     "name": "stderr",
     "output_type": "stream",
     "text": [
      "[NbConvertApp] WARNING | Config option `extra_template_paths` not recognized by `HTMLExporter`.  Did you mean `template_path`?\n",
      "[NbConvertApp] Converting notebook /Users/ginoprasad/project_archive/earth_movers_distance.ipynb to html\n",
      "[NbConvertApp] Writing 303076 bytes to /Users/ginoprasad/ginoprasad.github.io/projects/temp.html\n",
      " 22%|██████▏                     | 6/27 [00:05<00:20,  1.00it/s]"
     ]
    },
    {
     "name": "stdout",
     "output_type": "stream",
     "text": [
      "\n",
      "\n",
      "transformer_seq_to_seq.html\n",
      "Project Name: English to French Translation using Transformers\n",
      "Converting /Users/ginoprasad/project_archive/transformer_seq_to_seq.ipynb\n"
     ]
    },
    {
     "name": "stderr",
     "output_type": "stream",
     "text": [
      "[NbConvertApp] WARNING | Config option `extra_template_paths` not recognized by `HTMLExporter`.  Did you mean `template_path`?\n",
      "[NbConvertApp] Converting notebook /Users/ginoprasad/project_archive/transformer_seq_to_seq.ipynb to html\n",
      "[NbConvertApp] Writing 350569 bytes to /Users/ginoprasad/ginoprasad.github.io/projects/temp.html\n",
      " 26%|███████▎                    | 7/27 [00:06<00:20,  1.04s/it]"
     ]
    },
    {
     "name": "stdout",
     "output_type": "stream",
     "text": [
      "\n",
      "\n",
      "VAE.html\n",
      "Project Name: Variational Auto Encoders for Simulating Human Faces\n",
      "Converting /Users/ginoprasad/project_archive/VAE.ipynb\n"
     ]
    },
    {
     "name": "stderr",
     "output_type": "stream",
     "text": [
      "[NbConvertApp] WARNING | Config option `extra_template_paths` not recognized by `HTMLExporter`.  Did you mean `template_path`?\n",
      "[NbConvertApp] Converting notebook /Users/ginoprasad/project_archive/VAE.ipynb to html\n",
      "[NbConvertApp] Writing 1321443 bytes to /Users/ginoprasad/ginoprasad.github.io/projects/temp.html\n",
      " 30%|████████▎                   | 8/27 [00:07<00:20,  1.07s/it]"
     ]
    },
    {
     "name": "stdout",
     "output_type": "stream",
     "text": [
      "\n",
      "\n",
      "audio_transcription.html\n",
      "Project Name: MUS 15 Project 2: Audio Transcription\n",
      "Converting /Users/ginoprasad/project_archive/audio_transcription.ipynb\n"
     ]
    },
    {
     "name": "stderr",
     "output_type": "stream",
     "text": [
      "[NbConvertApp] WARNING | Config option `extra_template_paths` not recognized by `HTMLExporter`.  Did you mean `template_path`?\n",
      "[NbConvertApp] Converting notebook /Users/ginoprasad/project_archive/audio_transcription.ipynb to html\n",
      "[NbConvertApp] Writing 44436085 bytes to /Users/ginoprasad/ginoprasad.github.io/projects/temp.html\n",
      " 33%|█████████▎                  | 9/27 [00:09<00:21,  1.22s/it]"
     ]
    },
    {
     "name": "stdout",
     "output_type": "stream",
     "text": [
      "\n",
      "\n",
      "cropping_image_logo.html\n",
      "Project Name: Cropping Image Logo for the Website\n",
      "Converting /Users/ginoprasad/project_archive/cropping_image_logo.ipynb\n"
     ]
    },
    {
     "name": "stderr",
     "output_type": "stream",
     "text": [
      "[NbConvertApp] WARNING | Config option `extra_template_paths` not recognized by `HTMLExporter`.  Did you mean `template_path`?\n",
      "[NbConvertApp] Converting notebook /Users/ginoprasad/project_archive/cropping_image_logo.ipynb to html\n",
      "[NbConvertApp] Writing 1728160 bytes to /Users/ginoprasad/ginoprasad.github.io/projects/temp.html\n",
      " 37%|██████████                 | 10/27 [00:10<00:20,  1.20s/it]"
     ]
    },
    {
     "name": "stdout",
     "output_type": "stream",
     "text": [
      "\n",
      "\n",
      "Stable_Diffusion_Pretrained.html\n",
      "Project Name: Using Pretrained Stable Diffusion for the Website Logo\n",
      "Converting /Users/ginoprasad/project_archive/Stable_Diffusion_Pretrained.ipynb\n"
     ]
    },
    {
     "name": "stderr",
     "output_type": "stream",
     "text": [
      "[NbConvertApp] WARNING | Config option `extra_template_paths` not recognized by `HTMLExporter`.  Did you mean `template_path`?\n",
      "[NbConvertApp] Converting notebook /Users/ginoprasad/project_archive/Stable_Diffusion_Pretrained.ipynb to html\n",
      "[NbConvertApp] Writing 4042087 bytes to /Users/ginoprasad/ginoprasad.github.io/projects/temp.html\n",
      " 41%|███████████                | 11/27 [00:11<00:19,  1.19s/it]"
     ]
    },
    {
     "name": "stdout",
     "output_type": "stream",
     "text": [
      "\n",
      "\n",
      "solution_11.html\n",
      "Project Name: Google Foobar Expanding Nebula Problem\n",
      "Converting /Users/ginoprasad/project_archive/solution_11.ipynb\n"
     ]
    },
    {
     "name": "stderr",
     "output_type": "stream",
     "text": [
      "[NbConvertApp] WARNING | Config option `extra_template_paths` not recognized by `HTMLExporter`.  Did you mean `template_path`?\n",
      "[NbConvertApp] Converting notebook /Users/ginoprasad/project_archive/solution_11.ipynb to html\n",
      "[NbConvertApp] Writing 295353 bytes to /Users/ginoprasad/ginoprasad.github.io/projects/temp.html\n",
      " 44%|████████████               | 12/27 [00:12<00:17,  1.18s/it]"
     ]
    },
    {
     "name": "stdout",
     "output_type": "stream",
     "text": [
      "\n",
      "\n",
      "complex_inner_product.html\n",
      "Project Name: Inner Product in Hilbert Space\n",
      "Converting /Users/ginoprasad/project_archive/complex_inner_product.ipynb\n"
     ]
    },
    {
     "name": "stderr",
     "output_type": "stream",
     "text": [
      "[NbConvertApp] WARNING | Config option `extra_template_paths` not recognized by `HTMLExporter`.  Did you mean `template_path`?\n",
      "[NbConvertApp] Converting notebook /Users/ginoprasad/project_archive/complex_inner_product.ipynb to html\n",
      "[NbConvertApp] Writing 283936 bytes to /Users/ginoprasad/ginoprasad.github.io/projects/temp.html\n",
      " 48%|█████████████              | 13/27 [00:14<00:16,  1.17s/it]"
     ]
    },
    {
     "name": "stdout",
     "output_type": "stream",
     "text": [
      "\n",
      "\n",
      "Autotune_MUS_15.html\n",
      "Project Name: MUS 15 Project 1: Creating Autotune From Scratch Using Phase Vocoders\n",
      "Converting /Users/ginoprasad/project_archive/Autotune_MUS_15.ipynb\n"
     ]
    },
    {
     "name": "stderr",
     "output_type": "stream",
     "text": [
      "[NbConvertApp] WARNING | Config option `extra_template_paths` not recognized by `HTMLExporter`.  Did you mean `template_path`?\n",
      "[NbConvertApp] Converting notebook /Users/ginoprasad/project_archive/Autotune_MUS_15.ipynb to html\n",
      "[NbConvertApp] Writing 282811 bytes to /Users/ginoprasad/ginoprasad.github.io/projects/temp.html\n",
      " 52%|██████████████             | 14/27 [00:14<00:14,  1.09s/it]"
     ]
    },
    {
     "name": "stdout",
     "output_type": "stream",
     "text": [
      "\n",
      "\n",
      "autotune_combined.html\n",
      "Project Name: Autotune Implementation Using Phase Vocoder\n",
      "Converting /Users/ginoprasad/project_archive/autotune_combined.ipynb\n"
     ]
    },
    {
     "name": "stderr",
     "output_type": "stream",
     "text": [
      "[NbConvertApp] WARNING | Config option `extra_template_paths` not recognized by `HTMLExporter`.  Did you mean `template_path`?\n",
      "[NbConvertApp] Converting notebook /Users/ginoprasad/project_archive/autotune_combined.ipynb to html\n",
      "[NbConvertApp] Writing 4388905 bytes to /Users/ginoprasad/ginoprasad.github.io/projects/temp.html\n",
      " 56%|███████████████            | 15/27 [00:16<00:13,  1.13s/it]"
     ]
    },
    {
     "name": "stdout",
     "output_type": "stream",
     "text": [
      "\n",
      "\n",
      "Phase_Vocoder.html\n",
      "Project Name: Phase Vocoder Implementation\n",
      "Converting /Users/ginoprasad/project_archive/Phase_Vocoder.ipynb\n"
     ]
    },
    {
     "name": "stderr",
     "output_type": "stream",
     "text": [
      "[NbConvertApp] WARNING | Config option `extra_template_paths` not recognized by `HTMLExporter`.  Did you mean `template_path`?\n",
      "[NbConvertApp] Converting notebook /Users/ginoprasad/project_archive/Phase_Vocoder.ipynb to html\n",
      "[NbConvertApp] Writing 3722352 bytes to /Users/ginoprasad/ginoprasad.github.io/projects/temp.html\n",
      " 59%|████████████████           | 16/27 [00:17<00:12,  1.16s/it]"
     ]
    },
    {
     "name": "stdout",
     "output_type": "stream",
     "text": [
      "\n",
      "\n",
      "yin_pitch_prediction.html\n",
      "Project Name: Yin Pitch Prediction Implementation\n",
      "Converting /Users/ginoprasad/project_archive/yin_pitch_prediction.ipynb\n"
     ]
    },
    {
     "name": "stderr",
     "output_type": "stream",
     "text": [
      "[NbConvertApp] WARNING | Config option `extra_template_paths` not recognized by `HTMLExporter`.  Did you mean `template_path`?\n",
      "[NbConvertApp] Converting notebook /Users/ginoprasad/project_archive/yin_pitch_prediction.ipynb to html\n",
      "[NbConvertApp] Writing 1546807 bytes to /Users/ginoprasad/ginoprasad.github.io/projects/temp.html\n",
      " 63%|█████████████████          | 17/27 [00:18<00:11,  1.16s/it]"
     ]
    },
    {
     "name": "stdout",
     "output_type": "stream",
     "text": [
      "\n",
      "\n",
      "fast_fourier_transform.html\n",
      "Project Name: Fast Fourier Transform Implementation\n",
      "Converting /Users/ginoprasad/project_archive/fast_fourier_transform.ipynb\n"
     ]
    },
    {
     "name": "stderr",
     "output_type": "stream",
     "text": [
      "[NbConvertApp] WARNING | Config option `extra_template_paths` not recognized by `HTMLExporter`.  Did you mean `template_path`?\n",
      "[NbConvertApp] Converting notebook /Users/ginoprasad/project_archive/fast_fourier_transform.ipynb to html\n",
      "[NbConvertApp] Writing 510688 bytes to /Users/ginoprasad/ginoprasad.github.io/projects/temp.html\n",
      " 67%|██████████████████         | 18/27 [00:19<00:10,  1.17s/it]"
     ]
    },
    {
     "name": "stdout",
     "output_type": "stream",
     "text": [
      "\n",
      "\n",
      "unet_implementation.html\n",
      "Project Name: U-Net Convolutional Neural Network Implementation\n",
      "Converting /Users/ginoprasad/project_archive/unet_implementation.ipynb\n"
     ]
    },
    {
     "name": "stderr",
     "output_type": "stream",
     "text": [
      "[NbConvertApp] WARNING | Config option `extra_template_paths` not recognized by `HTMLExporter`.  Did you mean `template_path`?\n",
      "[NbConvertApp] Converting notebook /Users/ginoprasad/project_archive/unet_implementation.ipynb to html\n",
      "[NbConvertApp] Writing 895592 bytes to /Users/ginoprasad/ginoprasad.github.io/projects/temp.html\n",
      " 70%|███████████████████        | 19/27 [00:20<00:09,  1.15s/it]"
     ]
    },
    {
     "name": "stdout",
     "output_type": "stream",
     "text": [
      "\n",
      "\n",
      "Multilayer_Neural_Network.html\n",
      "Project Name: Multilayer Neural Network Implementation From Scratch: Handwritten Text Parser\n",
      "Converting /Users/ginoprasad/project_archive/Multilayer_Neural_Network.ipynb\n"
     ]
    },
    {
     "name": "stderr",
     "output_type": "stream",
     "text": [
      "[NbConvertApp] WARNING | Config option `extra_template_paths` not recognized by `HTMLExporter`.  Did you mean `template_path`?\n",
      "[NbConvertApp] Converting notebook /Users/ginoprasad/project_archive/Multilayer_Neural_Network.ipynb to html\n",
      "[NbConvertApp] Writing 304244 bytes to /Users/ginoprasad/ginoprasad.github.io/projects/temp.html\n",
      " 74%|████████████████████       | 20/27 [00:22<00:08,  1.15s/it]"
     ]
    },
    {
     "name": "stdout",
     "output_type": "stream",
     "text": [
      "\n",
      "\n",
      "Image_Segmenter.html\n",
      "Project Name: Image Segmenter Using Connected Components\n",
      "Converting /Users/ginoprasad/project_archive/Image_Segmenter.ipynb\n"
     ]
    },
    {
     "name": "stderr",
     "output_type": "stream",
     "text": [
      "[NbConvertApp] WARNING | Config option `extra_template_paths` not recognized by `HTMLExporter`.  Did you mean `template_path`?\n",
      "[NbConvertApp] Converting notebook /Users/ginoprasad/project_archive/Image_Segmenter.ipynb to html\n",
      "[NbConvertApp] Writing 468724 bytes to /Users/ginoprasad/ginoprasad.github.io/projects/temp.html\n",
      " 78%|█████████████████████      | 21/27 [00:23<00:06,  1.15s/it]"
     ]
    },
    {
     "name": "stdout",
     "output_type": "stream",
     "text": [
      "\n",
      "\n",
      "Handwriten_Text_Parser.html\n",
      "Project Name: Perceptron Implementation From Scratch: Handwritten Text Parser\n",
      "Converting /Users/ginoprasad/project_archive/Handwriten_Text_Parser.ipynb\n"
     ]
    },
    {
     "name": "stderr",
     "output_type": "stream",
     "text": [
      "[NbConvertApp] WARNING | Config option `extra_template_paths` not recognized by `HTMLExporter`.  Did you mean `template_path`?\n",
      "[NbConvertApp] Converting notebook /Users/ginoprasad/project_archive/Handwriten_Text_Parser.ipynb to html\n",
      "[NbConvertApp] Writing 309134 bytes to /Users/ginoprasad/ginoprasad.github.io/projects/temp.html\n",
      " 81%|██████████████████████     | 22/27 [00:24<00:05,  1.16s/it]"
     ]
    },
    {
     "name": "stdout",
     "output_type": "stream",
     "text": [
      "\n",
      "\n",
      "Gaussian_Blur.html\n",
      "Project Name: Gaussian Filter Implementation\n",
      "Converting /Users/ginoprasad/project_archive/Gaussian_Blur.ipynb\n"
     ]
    },
    {
     "name": "stderr",
     "output_type": "stream",
     "text": [
      "[NbConvertApp] WARNING | Config option `extra_template_paths` not recognized by `HTMLExporter`.  Did you mean `template_path`?\n",
      "[NbConvertApp] Converting notebook /Users/ginoprasad/project_archive/Gaussian_Blur.ipynb to html\n",
      "[NbConvertApp] Writing 847026 bytes to /Users/ginoprasad/ginoprasad.github.io/projects/temp.html\n",
      " 85%|███████████████████████    | 23/27 [00:25<00:04,  1.16s/it]"
     ]
    },
    {
     "name": "stdout",
     "output_type": "stream",
     "text": [
      "\n",
      "\n",
      "play_note.html\n",
      "Project Name: Pitch Reconstruction with Audio Processing\n",
      "Converting /Users/ginoprasad/project_archive/play_note.ipynb\n"
     ]
    },
    {
     "name": "stderr",
     "output_type": "stream",
     "text": [
      "[NbConvertApp] WARNING | Config option `extra_template_paths` not recognized by `HTMLExporter`.  Did you mean `template_path`?\n",
      "[NbConvertApp] Converting notebook /Users/ginoprasad/project_archive/play_note.ipynb to html\n",
      "[NbConvertApp] Writing 574293 bytes to /Users/ginoprasad/ginoprasad.github.io/projects/temp.html\n",
      " 89%|████████████████████████   | 24/27 [00:26<00:03,  1.17s/it]"
     ]
    },
    {
     "name": "stdout",
     "output_type": "stream",
     "text": [
      "\n",
      "\n",
      "wordle_bot.html\n",
      "Project Name: Wordle Bot\n",
      "Converting /Users/ginoprasad/project_archive/wordle_bot.ipynb\n"
     ]
    },
    {
     "name": "stderr",
     "output_type": "stream",
     "text": [
      "[NbConvertApp] WARNING | Config option `extra_template_paths` not recognized by `HTMLExporter`.  Did you mean `template_path`?\n",
      "[NbConvertApp] Converting notebook /Users/ginoprasad/project_archive/wordle_bot.ipynb to html\n",
      "[NbConvertApp] Writing 435971 bytes to /Users/ginoprasad/ginoprasad.github.io/projects/temp.html\n",
      " 93%|█████████████████████████  | 25/27 [00:27<00:02,  1.17s/it]"
     ]
    },
    {
     "name": "stdout",
     "output_type": "stream",
     "text": [
      "\n",
      "\n",
      "interpolation.html\n",
      "Project Name: Lagrange Interpolation and Gregory-Newton Interpolation\n",
      "Converting /Users/ginoprasad/project_archive/interpolation.ipynb\n"
     ]
    },
    {
     "name": "stderr",
     "output_type": "stream",
     "text": [
      "[NbConvertApp] WARNING | Config option `extra_template_paths` not recognized by `HTMLExporter`.  Did you mean `template_path`?\n",
      "[NbConvertApp] Converting notebook /Users/ginoprasad/project_archive/interpolation.ipynb to html\n",
      "[NbConvertApp] Writing 281686 bytes to /Users/ginoprasad/ginoprasad.github.io/projects/temp.html\n",
      " 96%|██████████████████████████ | 26/27 [00:28<00:01,  1.15s/it]"
     ]
    },
    {
     "name": "stdout",
     "output_type": "stream",
     "text": [
      "\n",
      "\n",
      "edge_detector.html\n",
      "Project Name: Image Edge Detector\n",
      "Converting /Users/ginoprasad/project_archive/edge_detector.ipynb\n"
     ]
    },
    {
     "name": "stderr",
     "output_type": "stream",
     "text": [
      "[NbConvertApp] WARNING | Config option `extra_template_paths` not recognized by `HTMLExporter`.  Did you mean `template_path`?\n",
      "[NbConvertApp] Converting notebook /Users/ginoprasad/project_archive/edge_detector.ipynb to html\n",
      "[NbConvertApp] Writing 286200 bytes to /Users/ginoprasad/ginoprasad.github.io/projects/temp.html\n",
      "100%|███████████████████████████| 27/27 [00:30<00:00,  1.11s/it]"
     ]
    },
    {
     "name": "stdout",
     "output_type": "stream",
     "text": [
      "\n",
      "\n"
     ]
    },
    {
     "name": "stderr",
     "output_type": "stream",
     "text": [
      "\n"
     ]
    }
   ],
   "source": [
    "project_names, project_paths, project_dates = [], [], []\n",
    "for project_notebook_path in tqdm(metadata['Projects']):\n",
    "    notebook_metadata = get_notebook_metadata(project_notebook_path)\n",
    "    extension = project_notebook_path.split('.')[-1]\n",
    "    project_base_path = os.path.basename(project_notebook_path)[:-len(f'.{extension}')]\n",
    "\n",
    "    while len(project_base_path) > max_base_filename_length:\n",
    "        project_base_path = ' '.join(project_base_path.split(' ')[:-1])\n",
    "    if not project_base_path:\n",
    "        print(f\"\\n\\n\\n\\n\\tWarning: Project '{notebook_metadata['title']}' Name exceeds recommended length\\n\\n\\n\\n\")\n",
    "        project_base_path = notebook_metadata['title']\n",
    "    \n",
    "    project_base_path = f\"{project_base_path}.html\"\n",
    "    if extension == 'pdf':\n",
    "        project_base_path = project_base_path[:-5] + '.pdf'\n",
    "    notebook_metadata['project_path'] = f'{os.getcwd()}/projects/{project_base_path}'\n",
    "    \n",
    "    assert notebook_metadata['project_path'] not in project_paths\n",
    "    project_names.append(notebook_metadata['title'])\n",
    "    project_paths.append(notebook_metadata['project_path'])\n",
    "    project_dates.append(notebook_metadata['date'])\n",
    "    \n",
    "    if os.path.exists(notebook_metadata['project_path']) and os.path.getmtime(notebook_metadata['project_path']) > os.path.getmtime(project_notebook_path):\n",
    "        continue\n",
    "    \n",
    "    print(project_base_path)\n",
    "    print(f\"Project Name: {notebook_metadata['title']}\")\n",
    "\n",
    "    if extension == 'ipynb':\n",
    "        print(f\"Converting {project_notebook_path}\")\n",
    "        sp.run(f\"jupyter nbconvert --to html '{project_notebook_path}' --output '{temp_path}'\", shell=True)\n",
    "    else:\n",
    "        sp.run(f\"cp '{project_notebook_path}' '{notebook_metadata['project_path']}'\", shell=True)\n",
    "        continue\n",
    "        \n",
    "    with open(temp_path) as infile:\n",
    "        lines = infile.readlines()\n",
    "\n",
    "\n",
    "    title = ' '.join(map(lambda x: x[0].upper() + x[1:] if x else x, project_base_path.split('_')))\n",
    "    index = np.argmax(['title' in x for x in lines])\n",
    "    lines[index] = lines[index][:len('<title>')] + title + lines[index][lines[index].index('</title>'):]\n",
    " \n",
    "    with open(temp_path, 'w') as outfile:\n",
    "        lines.insert(5, '<link rel=\"icon\" href=\"../docs/assets/logo.png\"><iframe src=\"../header.html\" style=\"height: 12rem; width: 100%\" frameborder=\"0\" scrolling=\"no\"></iframe>\\n')\n",
    "        outfile.write(''.join(lines))\n",
    "    os.rename(temp_path, notebook_metadata['project_path'])\n",
    "    \n",
    "    print('\\n')\n",
    "\n",
    "datetimes = [datetime.datetime.strptime(project_date, '%m/%d/%Y') for project_date in project_dates]\n",
    "sort_list = lambda ls: [y[1] for y in sorted(enumerate(ls), key=lambda x: datetimes[x[0]], reverse=True)]\n",
    "project_names, project_paths, project_dates = map(sort_list, (project_names, project_paths, project_dates))\n",
    "[os.remove(x) for x in glob.glob(f'{os.getcwd()}/projects/*') if x not in project_paths]\n",
    "None"
   ]
  },
  {
   "cell_type": "code",
   "execution_count": 8,
   "id": "f2eaadff",
   "metadata": {},
   "outputs": [],
   "source": [
    "with open(index_html_path) as infile:\n",
    "    index_html_lines = infile.readlines()"
   ]
  },
  {
   "cell_type": "code",
   "execution_count": 9,
   "id": "52ad2069",
   "metadata": {},
   "outputs": [],
   "source": [
    "project_template = \"\\t\\t\\t<li><div class=link><a href=\\\"projects/{}\\\">{}</a></div><div class='date'><img src='docs/assets/calendar_icon.png'><span class=date>{}</span></div></li>\\n\"\n",
    "\n",
    "project_list_index_start = [\"Cool Projects\" in x for x in index_html_lines].index(True) + 2\n",
    "project_list_index_end = index_html_lines[project_list_index_start:].index('\\t\\t</ul>\\n') + project_list_index_start\n",
    "\n",
    "new_project_list =  [project_template.format(os.path.basename(html_path), name, date) for name, html_path, date in zip(project_names, project_paths, project_dates)]\n",
    "index_html_lines = index_html_lines[:project_list_index_start] + new_project_list + index_html_lines[project_list_index_end:]\n",
    "index_html_lines[project_list_index_start-2] = re.sub(\"(?<=\\\\().*?(?=\\\\))\",  str(len(metadata['Projects'])), index_html_lines[project_list_index_start-2])"
   ]
  },
  {
   "cell_type": "code",
   "execution_count": 10,
   "id": "0fab5c98",
   "metadata": {},
   "outputs": [],
   "source": [
    "with open(index_html_path, 'w') as outfile:\n",
    "    outfile.write(''.join(index_html_lines))"
   ]
  },
  {
   "cell_type": "markdown",
   "id": "d7745fbd",
   "metadata": {},
   "source": [
    "# Copying CV and Updating Links"
   ]
  },
  {
   "cell_type": "code",
   "execution_count": 11,
   "id": "af3c5d55-8cfb-4270-8e31-fbd5376c199a",
   "metadata": {},
   "outputs": [
    {
     "data": {
      "text/plain": [
       "'/home/giprasad/_Receipts/pdf_files/Gino_Prasad_CV.pdf'"
      ]
     },
     "execution_count": 11,
     "metadata": {},
     "output_type": "execute_result"
    }
   ],
   "source": [
    "metadata['CV']"
   ]
  },
  {
   "cell_type": "code",
   "execution_count": 12,
   "id": "6e3b72ba",
   "metadata": {},
   "outputs": [],
   "source": [
    "assert shutil.copy(metadata['CV'], f\"projects/{os.path.basename(metadata['CV'])}\")"
   ]
  },
  {
   "cell_type": "code",
   "execution_count": 13,
   "id": "e6770f3e",
   "metadata": {},
   "outputs": [
    {
     "data": {
      "text/plain": [
       "'/home/giprasad/_Receipts/pdf_files/Gino_Prasad_CV.pdf'"
      ]
     },
     "execution_count": 13,
     "metadata": {},
     "output_type": "execute_result"
    }
   ],
   "source": [
    "metadata['CV']"
   ]
  },
  {
   "cell_type": "code",
   "execution_count": 14,
   "id": "5967d7cc",
   "metadata": {},
   "outputs": [],
   "source": [
    "tag_dict = {tag: metadata[tag] for tag in ['CV', 'LinkedIn', 'GitHub', 'GoogleScholar', 'ORCID']}\n",
    "tag_dict['CV'] = f\"projects/{os.path.basename(tag_dict['CV'])}\"\n",
    "tag_dict['Logo'] = metadata['DomainLink']"
   ]
  },
  {
   "cell_type": "code",
   "execution_count": 15,
   "id": "5a4fa652",
   "metadata": {},
   "outputs": [],
   "source": [
    "with open(\"header.html\") as infile:\n",
    "    header_html_string = infile.read()"
   ]
  },
  {
   "cell_type": "code",
   "execution_count": 16,
   "id": "da233e95",
   "metadata": {},
   "outputs": [],
   "source": [
    "for tag_name, tag_value in tag_dict.items():\n",
    "    header_html_string = re.sub(f\"(?<=<a id='{tag_name}' href=').*?(?='>)\", tag_value, header_html_string)"
   ]
  },
  {
   "cell_type": "code",
   "execution_count": 17,
   "id": "1b213b15",
   "metadata": {},
   "outputs": [],
   "source": [
    "with open(\"header.html\", 'w') as outfile:\n",
    "    outfile.write(header_html_string)"
   ]
  },
  {
   "cell_type": "markdown",
   "id": "549403c3",
   "metadata": {},
   "source": [
    "# Writing Updated Index File"
   ]
  },
  {
   "cell_type": "code",
   "execution_count": 18,
   "id": "2b451d85",
   "metadata": {},
   "outputs": [
    {
     "name": "stdout",
     "output_type": "stream",
     "text": [
      "[main 2aa7abf] Automated Website Update\n",
      " 2 files changed, 37 insertions(+), 82 deletions(-)\n"
     ]
    },
    {
     "name": "stderr",
     "output_type": "stream",
     "text": [
      "To https://github.com/GinoP123/ginoprasad.github.io.git\n",
      "   fc71106..2aa7abf  main -> main\n"
     ]
    },
    {
     "data": {
      "text/plain": [
       "CompletedProcess(args=\"cd '/home/giprasad/ginoprasad.github.io'; git add .; git commit -m 'Automated Website Update'; git push origin main\", returncode=0)"
      ]
     },
     "execution_count": 18,
     "metadata": {},
     "output_type": "execute_result"
    }
   ],
   "source": [
    "sp.run(f\"cd '{os.getcwd()}'; git add .; git commit -m 'Automated Website Update'; git push origin main\", shell=True)"
   ]
  },
  {
   "cell_type": "markdown",
   "id": "ea967e3c",
   "metadata": {},
   "source": [
    "# Updating Python Script"
   ]
  },
  {
   "cell_type": "code",
   "execution_count": 19,
   "id": "9589d4fd",
   "metadata": {},
   "outputs": [
    {
     "name": "stderr",
     "output_type": "stream",
     "text": [
      "[NbConvertApp] Converting notebook update_website.ipynb to script\n",
      "[NbConvertApp] Writing 6892 bytes to update_website.py\n"
     ]
    }
   ],
   "source": [
    "if hasattr(__builtins__,'__IPYTHON__'):\n",
    "    sp.run(f\"jupyter nbconvert --to script 'update_website.ipynb' --output 'update_website'\", shell=True)"
   ]
  },
  {
   "cell_type": "code",
   "execution_count": null,
   "id": "8b0951db-3fde-4ffc-b4f4-fbd2d9e252ce",
   "metadata": {},
   "outputs": [],
   "source": []
  }
 ],
 "metadata": {
  "kernelspec": {
   "display_name": "Python 3 (ipykernel)",
   "language": "python",
   "name": "python3"
  },
  "language_info": {
   "codemirror_mode": {
    "name": "ipython",
    "version": 3
   },
   "file_extension": ".py",
   "mimetype": "text/x-python",
   "name": "python",
   "nbconvert_exporter": "python",
   "pygments_lexer": "ipython3",
   "version": "3.9.15"
  }
 },
 "nbformat": 4,
 "nbformat_minor": 5
}
