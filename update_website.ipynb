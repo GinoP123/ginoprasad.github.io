{
 "cells": [
  {
   "cell_type": "code",
   "execution_count": 7,
   "id": "da4db7fd",
   "metadata": {},
   "outputs": [],
   "source": [
    "import os\n",
    "import subprocess as sp\n",
    "import yaml\n",
    "import shutil"
   ]
  },
  {
   "cell_type": "markdown",
   "id": "d30106f3",
   "metadata": {},
   "source": [
    "# Convert notebooks to html"
   ]
  },
  {
   "cell_type": "code",
   "execution_count": 13,
   "id": "934dc49f",
   "metadata": {},
   "outputs": [],
   "source": [
    "os.chdir('/Users/ginoprasad/ginoprasad.github.io')"
   ]
  },
  {
   "cell_type": "code",
   "execution_count": 31,
   "id": "1b1568a7",
   "metadata": {},
   "outputs": [],
   "source": [
    "metadata_path = 'metadata.yaml'"
   ]
  },
  {
   "cell_type": "code",
   "execution_count": 32,
   "id": "59b4fd77",
   "metadata": {},
   "outputs": [],
   "source": [
    "with open(metadata_path) as infile:\n",
    "    metadata = yaml.safe_load(infile)"
   ]
  },
  {
   "cell_type": "code",
   "execution_count": 33,
   "id": "5183729c",
   "metadata": {},
   "outputs": [],
   "source": [
    "for project_notebook_path in metadata['Projects'][:]:\n",
    "    if not os.path.exists(project_notebook_path):\n",
    "        print(f\"REMOVING {project_notebook_path}\")\n",
    "        metadata['Projects'].remove(project_notebook_path)\n",
    "        with open(metadata_path, 'w') as outfile:\n",
    "            yaml.dump(metadata, outfile, default_flow_style=False)\n",
    "        "
   ]
  },
  {
   "cell_type": "code",
   "execution_count": 34,
   "id": "07c719b3",
   "metadata": {},
   "outputs": [
    {
     "data": {
      "text/plain": [
       "{'CV': '/Users/ginoprasad/_Receipts/pdf_files/Gino_Prasad_CV.pdf',\n",
       " 'GitHub': 'https://github.com/GinoP123',\n",
       " 'LinkedIn': 'https://www.linkedin.com/in/ginoprasad',\n",
       " 'Projects': ['/Users/ginoprasad/ai_stuff/chess_bot/mcst_alphazero.ipynb',\n",
       "  '/Users/ginoprasad/ai_stuff/Translation/transformer_seq_to_seq.ipynb',\n",
       "  '/Users/ginoprasad/ai_stuff/VAE_Face_Simulator/VAE_Face_Simulation.ipynb',\n",
       "  '/Users/ginoprasad/ai_stuff/MusicTranscription/audio_transcription.ipynb',\n",
       "  '/Users/ginoprasad/image_processing/cropping_image_logo.ipynb',\n",
       "  '/Users/ginoprasad/ai_stuff/Stable_Diffusion_Pretrained.ipynb',\n",
       "  '/Users/ginoprasad/foobar/solution_11.ipynb',\n",
       "  '/Users/ginoprasad/quantum_algorithms/complex_inner_product.ipynb',\n",
       "  '/Users/ginoprasad/ai_stuff/autotune_phase_vocoder/Autotune_MUS_15.ipynb',\n",
       "  '/Users/ginoprasad/ai_stuff/autotune_phase_vocoder/Phase_Vocoder.ipynb',\n",
       "  '/Users/ginoprasad/ai_stuff/autotune_phase_vocoder/yin_pitch_prediction.ipynb',\n",
       "  '/Users/ginoprasad/ai_stuff/autotune_phase_vocoder/autotune_combined.ipynb',\n",
       "  '/Users/ginoprasad/eng_math/fast_fourier_transform.ipynb',\n",
       "  '/Users/ginoprasad/ai_stuff/unet_implementation.ipynb',\n",
       "  '/Users/ginoprasad/ai_stuff/text_classifier/Multilayer Neural Network.ipynb',\n",
       "  '/Users/ginoprasad/ai_stuff/text_classifier/Image Segmenter.ipynb',\n",
       "  '/Users/ginoprasad/ai_stuff/text_classifier/Handwriten Text Parser.ipynb',\n",
       "  '/Users/ginoprasad/ai_stuff/Gaussian Blur Test.ipynb',\n",
       "  '/Users/ginoprasad/ai_stuff/audio_transcriber/play_note.ipynb',\n",
       "  '/Users/ginoprasad/Wordle/wordle_bot.ipynb',\n",
       "  '/Users/ginoprasad/eng_math/interpolation.ipynb',\n",
       "  '/Users/ginoprasad/ai_stuff/edge_detector.ipynb'],\n",
       " 'Publications': [{'name': 'Identifying the core genome of the nucleus-forming bacteriophage family and characterization of Erwinia phage RAY',\n",
       "   'doi': 'https://doi.org/10.1016/j.celrep.2023.112432'}]}"
      ]
     },
     "execution_count": 34,
     "metadata": {},
     "output_type": "execute_result"
    }
   ],
   "source": [
    "metadata"
   ]
  },
  {
   "cell_type": "code",
   "execution_count": 35,
   "id": "155f185e",
   "metadata": {},
   "outputs": [],
   "source": [
    "temp_path = f'{os.getcwd()}/projects/temp.html'"
   ]
  },
  {
   "cell_type": "code",
   "execution_count": 36,
   "id": "d1b56a5e",
   "metadata": {},
   "outputs": [],
   "source": [
    "max_base_filename_length = 50"
   ]
  },
  {
   "cell_type": "code",
   "execution_count": 37,
   "id": "321cf021",
   "metadata": {},
   "outputs": [
    {
     "data": {
      "text/plain": [
       "'/Users/ginoprasad/ginoprasad.github.io/projects/temp.html'"
      ]
     },
     "execution_count": 37,
     "metadata": {},
     "output_type": "execute_result"
    }
   ],
   "source": [
    "temp_path"
   ]
  },
  {
   "cell_type": "code",
   "execution_count": 38,
   "id": "05e1905d",
   "metadata": {},
   "outputs": [
    {
     "data": {
      "text/plain": [
       "'/Users/ginoprasad/ai_stuff/edge_detector.ipynb'"
      ]
     },
     "execution_count": 38,
     "metadata": {},
     "output_type": "execute_result"
    }
   ],
   "source": [
    "project_notebook_path"
   ]
  },
  {
   "cell_type": "code",
   "execution_count": 39,
   "id": "f0153e26",
   "metadata": {},
   "outputs": [
    {
     "name": "stdout",
     "output_type": "stream",
     "text": [
      "Converting /Users/ginoprasad/ai_stuff/chess_bot/mcst_alphazero.ipynb\n"
     ]
    },
    {
     "name": "stderr",
     "output_type": "stream",
     "text": [
      "[NbConvertApp] Converting notebook /Users/ginoprasad/ai_stuff/chess_bot/mcst_alphazero.ipynb to html\n",
      "[NbConvertApp] Writing 706501 bytes to /Users/ginoprasad/ginoprasad.github.io/projects/temp.html\n"
     ]
    },
    {
     "name": "stdout",
     "output_type": "stream",
     "text": [
      "Project Name: Deep Learning with Chess Monte Carlo Search Tree\n",
      "Project Path: mcst_alphazero\n",
      "\n",
      "\n",
      "Converting /Users/ginoprasad/ai_stuff/Translation/transformer_seq_to_seq.ipynb\n"
     ]
    },
    {
     "name": "stderr",
     "output_type": "stream",
     "text": [
      "[NbConvertApp] Converting notebook /Users/ginoprasad/ai_stuff/Translation/transformer_seq_to_seq.ipynb to html\n",
      "[NbConvertApp] Writing 658406 bytes to /Users/ginoprasad/ginoprasad.github.io/projects/temp.html\n"
     ]
    },
    {
     "name": "stdout",
     "output_type": "stream",
     "text": [
      "Project Name: English to French Translation using Transformers\n",
      "Project Path: transformer_seq_to_seq\n",
      "\n",
      "\n",
      "Converting /Users/ginoprasad/ai_stuff/VAE_Face_Simulator/VAE_Face_Simulation.ipynb\n"
     ]
    },
    {
     "name": "stderr",
     "output_type": "stream",
     "text": [
      "[NbConvertApp] Converting notebook /Users/ginoprasad/ai_stuff/VAE_Face_Simulator/VAE_Face_Simulation.ipynb to html\n",
      "[NbConvertApp] Writing 1011355 bytes to /Users/ginoprasad/ginoprasad.github.io/projects/temp.html\n"
     ]
    },
    {
     "name": "stdout",
     "output_type": "stream",
     "text": [
      "Project Name: Variational Auto Encoders for Simulating Human Faces\n",
      "Project Path: VAE_Face_Simulation\n",
      "\n",
      "\n",
      "Converting /Users/ginoprasad/ai_stuff/MusicTranscription/audio_transcription.ipynb\n"
     ]
    },
    {
     "name": "stderr",
     "output_type": "stream",
     "text": [
      "[NbConvertApp] Converting notebook /Users/ginoprasad/ai_stuff/MusicTranscription/audio_transcription.ipynb to html\n",
      "[NbConvertApp] Writing 44752723 bytes to /Users/ginoprasad/ginoprasad.github.io/projects/temp.html\n"
     ]
    },
    {
     "name": "stdout",
     "output_type": "stream",
     "text": [
      "Project Name: MUS 15 Project 2: Audio Transcription\n",
      "Project Path: audio_transcription\n",
      "\n",
      "\n",
      "Converting /Users/ginoprasad/image_processing/cropping_image_logo.ipynb\n"
     ]
    },
    {
     "name": "stderr",
     "output_type": "stream",
     "text": [
      "[NbConvertApp] Converting notebook /Users/ginoprasad/image_processing/cropping_image_logo.ipynb to html\n",
      "[NbConvertApp] Writing 2035347 bytes to /Users/ginoprasad/ginoprasad.github.io/projects/temp.html\n"
     ]
    },
    {
     "name": "stdout",
     "output_type": "stream",
     "text": [
      "Project Name: Cropping Image Logo for the Website\n",
      "Project Path: cropping_image_logo\n",
      "\n",
      "\n",
      "Converting /Users/ginoprasad/ai_stuff/Stable_Diffusion_Pretrained.ipynb\n"
     ]
    },
    {
     "name": "stderr",
     "output_type": "stream",
     "text": [
      "[NbConvertApp] Converting notebook /Users/ginoprasad/ai_stuff/Stable_Diffusion_Pretrained.ipynb to html\n",
      "[NbConvertApp] Writing 4344033 bytes to /Users/ginoprasad/ginoprasad.github.io/projects/temp.html\n"
     ]
    },
    {
     "name": "stdout",
     "output_type": "stream",
     "text": [
      "Project Name: Using Pretrained Stable Diffusion for the Website Logo\n",
      "Project Path: Stable_Diffusion_Pretrained\n",
      "\n",
      "\n",
      "Converting /Users/ginoprasad/foobar/solution_11.ipynb\n"
     ]
    },
    {
     "name": "stderr",
     "output_type": "stream",
     "text": [
      "[NbConvertApp] Converting notebook /Users/ginoprasad/foobar/solution_11.ipynb to html\n",
      "[NbConvertApp] Writing 602678 bytes to /Users/ginoprasad/ginoprasad.github.io/projects/temp.html\n"
     ]
    },
    {
     "name": "stdout",
     "output_type": "stream",
     "text": [
      "Project Name: Google Foobar Expanding Nebula Problem\n",
      "Project Path: solution_11\n",
      "\n",
      "\n",
      "Converting /Users/ginoprasad/quantum_algorithms/complex_inner_product.ipynb\n"
     ]
    },
    {
     "name": "stderr",
     "output_type": "stream",
     "text": [
      "[NbConvertApp] Converting notebook /Users/ginoprasad/quantum_algorithms/complex_inner_product.ipynb to html\n",
      "[NbConvertApp] Writing 594361 bytes to /Users/ginoprasad/ginoprasad.github.io/projects/temp.html\n"
     ]
    },
    {
     "name": "stdout",
     "output_type": "stream",
     "text": [
      "Project Name: Inner Product in Hilbert Space\n",
      "Project Path: complex_inner_product\n",
      "\n",
      "\n",
      "Converting /Users/ginoprasad/ai_stuff/autotune_phase_vocoder/Autotune_MUS_15.ipynb\n"
     ]
    },
    {
     "name": "stderr",
     "output_type": "stream",
     "text": [
      "[NbConvertApp] Converting notebook /Users/ginoprasad/ai_stuff/autotune_phase_vocoder/Autotune_MUS_15.ipynb to html\n",
      "[NbConvertApp] Writing 588998 bytes to /Users/ginoprasad/ginoprasad.github.io/projects/temp.html\n"
     ]
    },
    {
     "name": "stdout",
     "output_type": "stream",
     "text": [
      "Project Name: MUS 15 Project 1: Creating Autotune From Scratch Using Phase Vocoders\n",
      "Project Path: Autotune_MUS_15\n",
      "\n",
      "\n",
      "Converting /Users/ginoprasad/ai_stuff/autotune_phase_vocoder/Phase_Vocoder.ipynb\n"
     ]
    },
    {
     "name": "stderr",
     "output_type": "stream",
     "text": [
      "[NbConvertApp] Converting notebook /Users/ginoprasad/ai_stuff/autotune_phase_vocoder/Phase_Vocoder.ipynb to html\n",
      "[NbConvertApp] Writing 4030989 bytes to /Users/ginoprasad/ginoprasad.github.io/projects/temp.html\n"
     ]
    },
    {
     "name": "stdout",
     "output_type": "stream",
     "text": [
      "Project Name: Phase Vocoder Implementation\n",
      "Project Path: Phase_Vocoder\n",
      "\n",
      "\n",
      "Converting /Users/ginoprasad/ai_stuff/autotune_phase_vocoder/yin_pitch_prediction.ipynb\n"
     ]
    },
    {
     "name": "stderr",
     "output_type": "stream",
     "text": [
      "[NbConvertApp] Converting notebook /Users/ginoprasad/ai_stuff/autotune_phase_vocoder/yin_pitch_prediction.ipynb to html\n",
      "[NbConvertApp] Writing 1855370 bytes to /Users/ginoprasad/ginoprasad.github.io/projects/temp.html\n"
     ]
    },
    {
     "name": "stdout",
     "output_type": "stream",
     "text": [
      "Project Name: Yin Pitch Prediction Implementation\n",
      "Project Path: yin_pitch_prediction\n",
      "\n",
      "\n",
      "Converting /Users/ginoprasad/ai_stuff/autotune_phase_vocoder/autotune_combined.ipynb\n"
     ]
    },
    {
     "name": "stderr",
     "output_type": "stream",
     "text": [
      "[NbConvertApp] Converting notebook /Users/ginoprasad/ai_stuff/autotune_phase_vocoder/autotune_combined.ipynb to html\n",
      "[NbConvertApp] Writing 4695805 bytes to /Users/ginoprasad/ginoprasad.github.io/projects/temp.html\n"
     ]
    },
    {
     "name": "stdout",
     "output_type": "stream",
     "text": [
      "Project Name: Autotune Implementation Using Phase Vocoder\n",
      "Project Path: autotune_combined\n",
      "\n",
      "\n",
      "Converting /Users/ginoprasad/eng_math/fast_fourier_transform.ipynb\n"
     ]
    },
    {
     "name": "stderr",
     "output_type": "stream",
     "text": [
      "[NbConvertApp] Converting notebook /Users/ginoprasad/eng_math/fast_fourier_transform.ipynb to html\n",
      "[NbConvertApp] Writing 824735 bytes to /Users/ginoprasad/ginoprasad.github.io/projects/temp.html\n"
     ]
    },
    {
     "name": "stdout",
     "output_type": "stream",
     "text": [
      "Project Name: Fast Fourier Transform Implementation\n",
      "Project Path: fast_fourier_transform\n",
      "\n",
      "\n",
      "Converting /Users/ginoprasad/ai_stuff/unet_implementation.ipynb\n"
     ]
    },
    {
     "name": "stderr",
     "output_type": "stream",
     "text": [
      "[NbConvertApp] Converting notebook /Users/ginoprasad/ai_stuff/unet_implementation.ipynb to html\n",
      "[NbConvertApp] Writing 1204549 bytes to /Users/ginoprasad/ginoprasad.github.io/projects/temp.html\n"
     ]
    },
    {
     "name": "stdout",
     "output_type": "stream",
     "text": [
      "Project Name: U-Net Convolutional Neural Network Implementation\n",
      "Project Path: unet_implementation\n",
      "\n",
      "\n",
      "Converting /Users/ginoprasad/ai_stuff/text_classifier/Multilayer Neural Network.ipynb\n"
     ]
    },
    {
     "name": "stderr",
     "output_type": "stream",
     "text": [
      "[NbConvertApp] Converting notebook /Users/ginoprasad/ai_stuff/text_classifier/Multilayer Neural Network.ipynb to html\n",
      "[NbConvertApp] Writing 610307 bytes to /Users/ginoprasad/ginoprasad.github.io/projects/temp.html\n"
     ]
    },
    {
     "name": "stdout",
     "output_type": "stream",
     "text": [
      "Project Name: Multilayer Neural Network Implementation From Scratch: Handwritten Text Parser\n",
      "Project Path: Multilayer Neural Network\n",
      "\n",
      "\n",
      "Converting /Users/ginoprasad/ai_stuff/text_classifier/Image Segmenter.ipynb\n"
     ]
    },
    {
     "name": "stderr",
     "output_type": "stream",
     "text": [
      "[NbConvertApp] Converting notebook /Users/ginoprasad/ai_stuff/text_classifier/Image Segmenter.ipynb to html\n",
      "[NbConvertApp] Writing 775137 bytes to /Users/ginoprasad/ginoprasad.github.io/projects/temp.html\n"
     ]
    },
    {
     "name": "stdout",
     "output_type": "stream",
     "text": [
      "Project Name: Image Segmenter Using Connected Components\n",
      "Project Path: Image Segmenter\n",
      "\n",
      "\n",
      "Converting /Users/ginoprasad/ai_stuff/text_classifier/Handwriten Text Parser.ipynb\n"
     ]
    },
    {
     "name": "stderr",
     "output_type": "stream",
     "text": [
      "[NbConvertApp] Converting notebook /Users/ginoprasad/ai_stuff/text_classifier/Handwriten Text Parser.ipynb to html\n",
      "[NbConvertApp] Writing 620177 bytes to /Users/ginoprasad/ginoprasad.github.io/projects/temp.html\n"
     ]
    },
    {
     "name": "stdout",
     "output_type": "stream",
     "text": [
      "Project Name: Perceptron Implementation From Scratch: Handwritten Text Parser\n",
      "Project Path: Handwriten Text Parser\n",
      "\n",
      "\n",
      "Converting /Users/ginoprasad/ai_stuff/Gaussian Blur Test.ipynb\n"
     ]
    },
    {
     "name": "stderr",
     "output_type": "stream",
     "text": [
      "[NbConvertApp] Converting notebook /Users/ginoprasad/ai_stuff/Gaussian Blur Test.ipynb to html\n",
      "[NbConvertApp] Writing 1159385 bytes to /Users/ginoprasad/ginoprasad.github.io/projects/temp.html\n"
     ]
    },
    {
     "name": "stdout",
     "output_type": "stream",
     "text": [
      "Project Name: Gaussian Filter Implementation\n",
      "Project Path: Gaussian Blur Test\n",
      "\n",
      "\n",
      "Converting /Users/ginoprasad/ai_stuff/audio_transcriber/play_note.ipynb\n"
     ]
    },
    {
     "name": "stderr",
     "output_type": "stream",
     "text": [
      "[NbConvertApp] Converting notebook /Users/ginoprasad/ai_stuff/audio_transcriber/play_note.ipynb to html\n",
      "[NbConvertApp] Writing 882030 bytes to /Users/ginoprasad/ginoprasad.github.io/projects/temp.html\n"
     ]
    },
    {
     "name": "stdout",
     "output_type": "stream",
     "text": [
      "Project Name: Pitch Reconstruction with Audio Processing\n",
      "Project Path: play_note\n",
      "\n",
      "\n",
      "Converting /Users/ginoprasad/Wordle/wordle_bot.ipynb\n"
     ]
    },
    {
     "name": "stderr",
     "output_type": "stream",
     "text": [
      "[NbConvertApp] Converting notebook /Users/ginoprasad/Wordle/wordle_bot.ipynb to html\n",
      "[NbConvertApp] Writing 739599 bytes to /Users/ginoprasad/ginoprasad.github.io/projects/temp.html\n"
     ]
    },
    {
     "name": "stdout",
     "output_type": "stream",
     "text": [
      "Project Name: Wordle Bot\n",
      "Project Path: wordle_bot\n",
      "\n",
      "\n",
      "Converting /Users/ginoprasad/eng_math/interpolation.ipynb\n"
     ]
    },
    {
     "name": "stderr",
     "output_type": "stream",
     "text": [
      "[NbConvertApp] Converting notebook /Users/ginoprasad/eng_math/interpolation.ipynb to html\n",
      "[NbConvertApp] Writing 585324 bytes to /Users/ginoprasad/ginoprasad.github.io/projects/temp.html\n"
     ]
    },
    {
     "name": "stdout",
     "output_type": "stream",
     "text": [
      "Project Name: Lagrange Interpolation and Gregory-Newton Interpolation\n",
      "Project Path: interpolation\n",
      "\n",
      "\n",
      "Converting /Users/ginoprasad/ai_stuff/edge_detector.ipynb\n"
     ]
    },
    {
     "name": "stderr",
     "output_type": "stream",
     "text": [
      "[NbConvertApp] Converting notebook /Users/ginoprasad/ai_stuff/edge_detector.ipynb to html\n"
     ]
    },
    {
     "name": "stdout",
     "output_type": "stream",
     "text": [
      "Project Name: Image Edge Detector\n",
      "Project Path: edge_detector\n",
      "\n",
      "\n"
     ]
    },
    {
     "name": "stderr",
     "output_type": "stream",
     "text": [
      "[NbConvertApp] Writing 590662 bytes to /Users/ginoprasad/ginoprasad.github.io/projects/temp.html\n"
     ]
    }
   ],
   "source": [
    "project_names, project_paths = [], []\n",
    "for project_notebook_path in metadata['Projects']:\n",
    "    print(f\"Converting {project_notebook_path}\")\n",
    "    sp.run(f\"jupyter nbconvert --to html '{project_notebook_path}' --output '{temp_path}'\", shell=True)\n",
    "    \n",
    "    with open(temp_path) as infile:\n",
    "        lines = infile.readlines()\n",
    "\n",
    "    title_line = sp.run(f\"grep '<h1' '{temp_path}'\", shell=True, capture_output=True).stdout.decode().split('\\n')[0]\n",
    "    project_name = title_line[title_line.index('>')+1:]\n",
    "    project_name = project_name[:project_name.index('<')]\n",
    "    print(f'Project Name: {project_name}')\n",
    "\n",
    "    project_base_path = os.path.basename(project_notebook_path)[:-len('.ipynb')]\n",
    "    while len(project_base_path) > max_base_filename_length:\n",
    "        project_base_path = ' '.join(project_base_path.split(' ')[:-1])\n",
    "    title = ' '.join(map(lambda x: x[0].upper() + x[1:] if x else x, project_base_path.split('_')))\n",
    "    lines[5] = lines[5][:len('<title>')] + title + lines[5][lines[5].index('</title>'):]\n",
    " \n",
    "    with open(temp_path, 'w') as outfile:\n",
    "        lines.insert(5, '<link rel=\"icon\" href=\"../docs/assets/logo.png\"><iframe src=\"../header.html\" style=\"height: 12rem; width: 100%\" frameborder=\"0\" scrolling=\"no\"></iframe>\\n')\n",
    "        outfile.write(''.join(lines))\n",
    "    \n",
    "    if not project_base_path:\n",
    "        print(f\"\\n\\n\\n\\n\\tWarning: Project '{project_name}' Name exceeds recommended length\\n\\n\\n\\n\")\n",
    "        project_base_path = project_name\n",
    "    print(f'Project Path: {project_base_path}')\n",
    "    project_path = f'{os.getcwd()}/projects/{project_base_path}.html'\n",
    "    \n",
    "    assert project_path not in project_paths\n",
    "    os.rename(temp_path, project_path)\n",
    "    \n",
    "    project_names.append(project_name)\n",
    "    project_paths.append(project_path)\n",
    "    print('\\n')"
   ]
  },
  {
   "cell_type": "code",
   "execution_count": 68,
   "id": "f2eaadff",
   "metadata": {},
   "outputs": [],
   "source": [
    "index_html_path = 'index.html'"
   ]
  },
  {
   "cell_type": "code",
   "execution_count": 102,
   "id": "1c38c3d0",
   "metadata": {},
   "outputs": [],
   "source": [
    "index_html_lines = open(index_html_path).readlines()"
   ]
  },
  {
   "cell_type": "code",
   "execution_count": 103,
   "id": "36cba240",
   "metadata": {},
   "outputs": [
    {
     "data": {
      "text/plain": [
       "(25, 31)"
      ]
     },
     "execution_count": 103,
     "metadata": {},
     "output_type": "execute_result"
    }
   ],
   "source": [
    "publications_list_index_start = [\"Publications\" in x for x in index_html_lines].index(True) + 2\n",
    "publications_list_index_end = index_html_lines[publications_list_index_start:].index('\\t\\t</ul>\\n') + publications_list_index_start\n",
    "publications_list_index_start, publications_list_index_end"
   ]
  },
  {
   "cell_type": "code",
   "execution_count": 105,
   "id": "fe2c0182",
   "metadata": {},
   "outputs": [],
   "source": [
    "publications_list = []\n",
    "for publication in metadata['Publications']:\n",
    "    name = publication['name']\n",
    "    publications_list.append(f'\\t\\t\\t<li>\\n\\t\\t\\t\\t<p>{name}<p>\\n\\t\\t\\t\\t<br>\\n\\t\\t\\t\\t<a href=\"{publication[\"doi\"]}\">{publication[\"doi\"]}</a>\\n\\t\\t\\t</li>\\n')  "
   ]
  },
  {
   "cell_type": "code",
   "execution_count": 106,
   "id": "c6d56c39",
   "metadata": {},
   "outputs": [],
   "source": [
    "index_html_lines = index_html_lines[:publications_list_index_start] + publications_list + index_html_lines[publications_list_index_end:]"
   ]
  },
  {
   "cell_type": "code",
   "execution_count": 107,
   "id": "ede23497",
   "metadata": {},
   "outputs": [
    {
     "data": {
      "text/plain": [
       "(30, 52)"
      ]
     },
     "execution_count": 107,
     "metadata": {},
     "output_type": "execute_result"
    }
   ],
   "source": [
    "project_list_index_start = [\"Cool Projects\" in x for x in index_html_lines].index(True) + 2\n",
    "project_list_index_end = index_html_lines[project_list_index_start:].index('\\t\\t</ul>\\n') + project_list_index_start\n",
    "project_list_index_start, project_list_index_end"
   ]
  },
  {
   "cell_type": "code",
   "execution_count": 108,
   "id": "e42ba686",
   "metadata": {},
   "outputs": [],
   "source": [
    "new_project_list =  [f'\\t\\t\\t<li><a href=\"projects/{os.path.basename(html_path)}\">{name}</a></li>\\n' for name, html_path in zip(project_names, project_paths)]"
   ]
  },
  {
   "cell_type": "code",
   "execution_count": 110,
   "id": "7f3787b0",
   "metadata": {},
   "outputs": [],
   "source": [
    "index_html_lines = index_html_lines[:project_list_index_start] + new_project_list + index_html_lines[project_list_index_end:]"
   ]
  },
  {
   "cell_type": "code",
   "execution_count": 111,
   "id": "dab16a24",
   "metadata": {},
   "outputs": [],
   "source": [
    "index_html_lines[project_list_index_start-2] = f\"\\t\\t<h2> Cool Projects ({len(metadata['Projects'])}) </h2>\\n\""
   ]
  },
  {
   "cell_type": "markdown",
   "id": "d7745fbd",
   "metadata": {},
   "source": [
    "# Copying CV and Updating Links"
   ]
  },
  {
   "cell_type": "code",
   "execution_count": 112,
   "id": "6e3b72ba",
   "metadata": {},
   "outputs": [],
   "source": [
    "assert shutil.copy(metadata['CV'], f\"projects/{os.path.basename(metadata['CV'])}\")"
   ]
  },
  {
   "cell_type": "code",
   "execution_count": 114,
   "id": "5967d7cc",
   "metadata": {},
   "outputs": [],
   "source": [
    "tag_dict = {tag: metadata[tag] for tag in ['CV', 'LinkedIn', 'GitHub']}\n",
    "tag_dict['CV'] = f\"projects/{os.path.basename(tag_dict['CV'])}\""
   ]
  },
  {
   "cell_type": "code",
   "execution_count": 115,
   "id": "6a7d174f",
   "metadata": {},
   "outputs": [],
   "source": [
    "for i, line in enumerate(index_html_lines):\n",
    "    for tag in tag_dict:\n",
    "        prefix = f\"<a id='{tag}' href='\"\n",
    "        if line.startswith(prefix):\n",
    "            print(line.strip())\n",
    "            new_line = prefix + tag_dict[tag] + line[len(prefix) + line[len(prefix):].index(\"'\"):]\n",
    "            print(new_line)\n",
    "            index_html_lines[i] = new_line\n",
    "    \n",
    "    if line.startswith(prefix):\n",
    "        del tag_dict[tag]"
   ]
  },
  {
   "cell_type": "markdown",
   "id": "549403c3",
   "metadata": {},
   "source": [
    "# Writing Updated Index File"
   ]
  },
  {
   "cell_type": "code",
   "execution_count": 116,
   "id": "5d55453c",
   "metadata": {},
   "outputs": [],
   "source": [
    "with open(index_html_path, 'w') as outfile:\n",
    "    outfile.write(''.join(index_html_lines))"
   ]
  },
  {
   "cell_type": "code",
   "execution_count": 24,
   "id": "2b451d85",
   "metadata": {},
   "outputs": [
    {
     "name": "stdout",
     "output_type": "stream",
     "text": [
      "[main fc99a97] Automated Website Update\n",
      " 2 files changed, 48 insertions(+), 161 deletions(-)\n"
     ]
    },
    {
     "name": "stderr",
     "output_type": "stream",
     "text": [
      "remote: Resolving deltas: 100% (3/3), completed with 3 local objects.        \n",
      "To https://github.com/ginoprasad/ginoprasad.github.io\n",
      "   aefae54..fc99a97  main -> main\n"
     ]
    },
    {
     "data": {
      "text/plain": [
       "CompletedProcess(args=\"cd '/Users/ginoprasad/ginoprasad.github.io'; git add .; git commit -m 'Automated Website Update'; git push origin main\", returncode=0)"
      ]
     },
     "execution_count": 24,
     "metadata": {},
     "output_type": "execute_result"
    }
   ],
   "source": [
    "sp.run(f\"cd '{os.getcwd()}'; git add .; git commit -m 'Automated Website Update'; git push origin main\", shell=True)"
   ]
  },
  {
   "cell_type": "markdown",
   "id": "ea967e3c",
   "metadata": {},
   "source": [
    "# Updating Python Script"
   ]
  },
  {
   "cell_type": "code",
   "execution_count": 25,
   "id": "9589d4fd",
   "metadata": {},
   "outputs": [
    {
     "name": "stderr",
     "output_type": "stream",
     "text": [
      "[NbConvertApp] Converting notebook update_website.ipynb to script\n",
      "[NbConvertApp] Writing 4556 bytes to update_website.py\n"
     ]
    }
   ],
   "source": [
    "if hasattr(__builtins__,'__IPYTHON__'):\n",
    "    sp.run(f\"jupyter nbconvert --to script 'update_website.ipynb' --output 'update_website'\", shell=True)"
   ]
  },
  {
   "cell_type": "code",
   "execution_count": null,
   "id": "ed11ef25",
   "metadata": {},
   "outputs": [],
   "source": []
  }
 ],
 "metadata": {
  "kernelspec": {
   "display_name": "Python 3 (ipykernel)",
   "language": "python",
   "name": "python3"
  },
  "language_info": {
   "codemirror_mode": {
    "name": "ipython",
    "version": 3
   },
   "file_extension": ".py",
   "mimetype": "text/x-python",
   "name": "python",
   "nbconvert_exporter": "python",
   "pygments_lexer": "ipython3",
   "version": "3.9.5"
  }
 },
 "nbformat": 4,
 "nbformat_minor": 5
}
