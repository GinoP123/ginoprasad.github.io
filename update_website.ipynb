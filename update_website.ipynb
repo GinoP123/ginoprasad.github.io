{
 "cells": [
  {
   "cell_type": "code",
   "execution_count": 3,
   "id": "da4db7fd",
   "metadata": {},
   "outputs": [],
   "source": [
    "import os\n",
    "import glob\n",
    "import subprocess as sp\n",
    "import yaml\n",
    "import shutil\n",
    "from tqdm import tqdm\n",
    "import numpy as np\n",
    "import datetime\n",
    "import re"
   ]
  },
  {
   "cell_type": "markdown",
   "id": "d30106f3",
   "metadata": {},
   "source": [
    "# Convert notebooks to html"
   ]
  },
  {
   "cell_type": "code",
   "execution_count": 4,
   "id": "934dc49f",
   "metadata": {},
   "outputs": [],
   "source": [
    "os.chdir('/Users/ginoprasad/ginoprasad.github.io')\n",
    "index_html_path = 'index.html'\n",
    "header_html_path = 'header.html'\n",
    "metadata_path = 'metadata.yaml'\n",
    "temp_path = f'{os.getcwd()}/projects/temp.html'\n",
    "max_base_filename_length = 50"
   ]
  },
  {
   "cell_type": "code",
   "execution_count": 5,
   "id": "1b1568a7",
   "metadata": {},
   "outputs": [],
   "source": [
    "with open(metadata_path) as infile:\n",
    "    metadata = yaml.safe_load(infile)"
   ]
  },
  {
   "cell_type": "code",
   "execution_count": 6,
   "id": "eb883b7f",
   "metadata": {},
   "outputs": [],
   "source": [
    "def path_exists(path):\n",
    "    if path.endswith('pdf'):\n",
    "        return os.path.exists(path) and os.path.exists(path[:-3]+'yaml')\n",
    "    else:\n",
    "        return os.path.exists(path)"
   ]
  },
  {
   "cell_type": "code",
   "execution_count": 7,
   "id": "5183729c",
   "metadata": {},
   "outputs": [],
   "source": [
    "for project_notebook_path in metadata['Projects'][:]:\n",
    "    if not path_exists(project_notebook_path):\n",
    "        print(f\"REMOVING {project_notebook_path}\")\n",
    "        metadata['Projects'].remove(project_notebook_path)\n",
    "        with open(metadata_path, 'w') as outfile:\n",
    "            yaml.dump(metadata, outfile, default_flow_style=False)"
   ]
  },
  {
   "cell_type": "code",
   "execution_count": 8,
   "id": "5e201280",
   "metadata": {},
   "outputs": [],
   "source": [
    "def get_notebook_metadata(project_notebook_path):\n",
    "    if project_notebook_path.endswith('pdf'):\n",
    "        with open(f\"{project_notebook_path[:-4]}.yaml\") as infile:\n",
    "            return yaml.safe_load(infile)\n",
    "    \n",
    "    notebook_metadata_str = sp.run(f\"head -n 200 '{project_notebook_path}'\", shell=True, capture_output=True).stdout.decode().split('\\n')\n",
    "    notebook_metadata_str = ''.join(notebook_metadata_str[notebook_metadata_str.index('   \"source\": [')+1:notebook_metadata_str.index('   ]')])\n",
    "    \n",
    "    notebook_metadata = {}\n",
    "    notebook_metadata['title'] = re.search('(?<=# ).*?(?<=\\\\\\\\n)', notebook_metadata_str).group(0)[:-2]\n",
    "    notebook_metadata['authors'] = re.search('(?<=#### ).*?(?<=\\\\\\\\n)', notebook_metadata_str).group(0)[:-2]\n",
    "    notebook_metadata['date'] = re.search('[0-9][0-9]/[0-9][0-9]/[0-9][0-9][0-9][0-9]', notebook_metadata_str).group(0)\n",
    "    \n",
    "    return notebook_metadata"
   ]
  },
  {
   "cell_type": "code",
   "execution_count": 9,
   "id": "f0153e26",
   "metadata": {},
   "outputs": [
    {
     "name": "stderr",
     "output_type": "stream",
     "text": [
      " 23%|██████▍                     | 6/26 [00:00<00:00, 58.53it/s]"
     ]
    },
    {
     "name": "stdout",
     "output_type": "stream",
     "text": [
      "QC_Protein_Foldi.pdf\n",
      "Project Name: Quantum Computing Algorithm for Protein Structure Prediction\n"
     ]
    },
    {
     "name": "stderr",
     "output_type": "stream",
     "text": [
      "100%|███████████████████████████| 26/26 [00:00<00:00, 53.43it/s]\n"
     ]
    }
   ],
   "source": [
    "project_names, project_paths, project_dates = [], [], []\n",
    "for project_notebook_path in tqdm(metadata['Projects']):\n",
    "    notebook_metadata = get_notebook_metadata(project_notebook_path)    \n",
    "    project_base_path = os.path.basename(project_notebook_path)[:-len('.ipynb')]\n",
    "\n",
    "    while len(project_base_path) > max_base_filename_length:\n",
    "        project_base_path = ' '.join(project_base_path.split(' ')[:-1])\n",
    "    if not project_base_path:\n",
    "        print(f\"\\n\\n\\n\\n\\tWarning: Project '{notebook_metadata['title']}' Name exceeds recommended length\\n\\n\\n\\n\")\n",
    "        project_base_path = notebook_metadata['title']\n",
    "    \n",
    "    project_base_path = f\"{project_base_path}.html\"\n",
    "    if project_notebook_path.endswith('pdf'):\n",
    "        project_base_path = project_base_path[:-5] + '.pdf'\n",
    "    notebook_metadata['project_path'] = f'{os.getcwd()}/projects/{project_base_path}'\n",
    "    \n",
    "    assert notebook_metadata['project_path'] not in project_paths\n",
    "    project_names.append(notebook_metadata['title'])\n",
    "    project_paths.append(notebook_metadata['project_path'])\n",
    "    project_dates.append(notebook_metadata['date'])\n",
    "    \n",
    "    if os.path.exists(notebook_metadata['project_path']) and os.path.getmtime(notebook_metadata['project_path']) > os.path.getmtime(project_notebook_path):\n",
    "        continue\n",
    "    \n",
    "    print(project_base_path)\n",
    "    print(f\"Project Name: {notebook_metadata['title']}\")\n",
    "\n",
    "    if project_notebook_path.endswith('ipynb'):\n",
    "        print(f\"Converting {project_notebook_path}\")\n",
    "        sp.run(f\"jupyter nbconvert --to html '{project_notebook_path}' --output '{temp_path}'\", shell=True)\n",
    "    else:\n",
    "        sp.run(f\"cp '{project_notebook_path}' '{notebook_metadata['project_path']}'\", shell=True)\n",
    "        continue\n",
    "        \n",
    "    with open(temp_path) as infile:\n",
    "        lines = infile.readlines()\n",
    "\n",
    "\n",
    "    title = ' '.join(map(lambda x: x[0].upper() + x[1:] if x else x, project_base_path.split('_')))\n",
    "    lines[5] = lines[5][:len('<title>')] + title + lines[5][lines[5].index('</title>'):]\n",
    " \n",
    "    with open(temp_path, 'w') as outfile:\n",
    "        lines.insert(5, '<link rel=\"icon\" href=\"../docs/assets/logo.png\"><iframe src=\"../header.html\" style=\"height: 12rem; width: 100%\" frameborder=\"0\" scrolling=\"no\"></iframe>\\n')\n",
    "        outfile.write(''.join(lines))\n",
    "    os.rename(temp_path, notebook_metadata['project_path'])\n",
    "    \n",
    "    print('\\n')\n",
    "\n",
    "datetimes = [datetime.datetime.strptime(project_date, '%m/%d/%Y') for project_date in project_dates]\n",
    "sort_list = lambda ls: [y[1] for y in sorted(enumerate(ls), key=lambda x: datetimes[x[0]], reverse=True)]\n",
    "project_names, project_paths, project_dates = map(sort_list, (project_names, project_paths, project_dates))\n",
    "[os.remove(x) for x in glob.glob(f'{os.getcwd()}/projects/*') if x not in project_paths]\n",
    "None"
   ]
  },
  {
   "cell_type": "code",
   "execution_count": 10,
   "id": "f2eaadff",
   "metadata": {},
   "outputs": [],
   "source": [
    "with open(index_html_path) as infile:\n",
    "    index_html_lines = infile.readlines()"
   ]
  },
  {
   "cell_type": "code",
   "execution_count": 11,
   "id": "52ad2069",
   "metadata": {},
   "outputs": [],
   "source": [
    "project_template = \"\\t\\t\\t<li><div class=link><a href=\\\"projects/{}\\\">{}</a></div><div class='date'><img src='docs/assets/calendar_icon.png'><span class=date>{}</span></div></li>\\n\"\n",
    "\n",
    "project_list_index_start = [\"Cool Projects\" in x for x in index_html_lines].index(True) + 2\n",
    "project_list_index_end = index_html_lines[project_list_index_start:].index('\\t\\t</ul>\\n') + project_list_index_start\n",
    "\n",
    "new_project_list =  [project_template.format(os.path.basename(html_path), name, date) for name, html_path, date in zip(project_names, project_paths, project_dates)]\n",
    "index_html_lines = index_html_lines[:project_list_index_start] + new_project_list + index_html_lines[project_list_index_end:]\n",
    "index_html_lines[project_list_index_start-2] = re.sub(\"(?<=\\\\().*?(?=\\\\))\",  str(len(metadata['Projects'])), index_html_lines[project_list_index_start-2])"
   ]
  },
  {
   "cell_type": "code",
   "execution_count": 12,
   "id": "0fab5c98",
   "metadata": {},
   "outputs": [],
   "source": [
    "with open(index_html_path, 'w') as outfile:\n",
    "    outfile.write(''.join(index_html_lines))"
   ]
  },
  {
   "cell_type": "markdown",
   "id": "d7745fbd",
   "metadata": {},
   "source": [
    "# Copying CV and Updating Links"
   ]
  },
  {
   "cell_type": "code",
   "execution_count": 13,
   "id": "6e3b72ba",
   "metadata": {},
   "outputs": [],
   "source": [
    "assert shutil.copy(metadata['CV'], f\"projects/{os.path.basename(metadata['CV'])}\")"
   ]
  },
  {
   "cell_type": "code",
   "execution_count": 14,
   "id": "e6770f3e",
   "metadata": {},
   "outputs": [
    {
     "data": {
      "text/plain": [
       "'/Users/ginoprasad/_Receipts/pdf_files/Gino_Prasad_CV.pdf'"
      ]
     },
     "execution_count": 14,
     "metadata": {},
     "output_type": "execute_result"
    }
   ],
   "source": [
    "metadata['CV']"
   ]
  },
  {
   "cell_type": "code",
   "execution_count": 15,
   "id": "5967d7cc",
   "metadata": {},
   "outputs": [],
   "source": [
    "tag_dict = {tag: metadata[tag] for tag in ['CV', 'LinkedIn', 'GitHub', 'GoogleScholar', 'ORCID']}\n",
    "tag_dict['CV'] = f\"projects/{os.path.basename(tag_dict['CV'])}\"\n",
    "tag_dict['Logo'] = metadata['DomainLink']"
   ]
  },
  {
   "cell_type": "code",
   "execution_count": 16,
   "id": "5a4fa652",
   "metadata": {},
   "outputs": [],
   "source": [
    "with open(\"header.html\") as infile:\n",
    "    header_html_string = infile.read()"
   ]
  },
  {
   "cell_type": "code",
   "execution_count": 17,
   "id": "da233e95",
   "metadata": {},
   "outputs": [],
   "source": [
    "for tag_name, tag_value in tag_dict.items():\n",
    "    header_html_string = re.sub(f\"(?<=<a id='{tag_name}' href=').*?(?='>)\", tag_value, header_html_string)"
   ]
  },
  {
   "cell_type": "code",
   "execution_count": 18,
   "id": "1b213b15",
   "metadata": {},
   "outputs": [],
   "source": [
    "with open(\"header.html\", 'w') as outfile:\n",
    "    outfile.write(header_html_string)"
   ]
  },
  {
   "cell_type": "markdown",
   "id": "549403c3",
   "metadata": {},
   "source": [
    "# Writing Updated Index File"
   ]
  },
  {
   "cell_type": "code",
   "execution_count": 19,
   "id": "2b451d85",
   "metadata": {},
   "outputs": [
    {
     "name": "stdout",
     "output_type": "stream",
     "text": [
      "[main b82778d] Automated Website Update\n",
      " 3 files changed, 77 insertions(+), 45 deletions(-)\n"
     ]
    },
    {
     "name": "stderr",
     "output_type": "stream",
     "text": [
      "To https://github.com/GinoP123/ginoprasad.github.io.git\n",
      "   3e2cf10..b82778d  main -> main\n"
     ]
    },
    {
     "data": {
      "text/plain": [
       "CompletedProcess(args=\"cd '/Users/ginoprasad/ginoprasad.github.io'; git add .; git commit -m 'Automated Website Update'; git push origin main\", returncode=0)"
      ]
     },
     "execution_count": 19,
     "metadata": {},
     "output_type": "execute_result"
    }
   ],
   "source": [
    "sp.run(f\"cd '{os.getcwd()}'; git add .; git commit -m 'Automated Website Update'; git push origin main\", shell=True)"
   ]
  },
  {
   "cell_type": "markdown",
   "id": "ea967e3c",
   "metadata": {},
   "source": [
    "# Updating Python Script"
   ]
  },
  {
   "cell_type": "code",
   "execution_count": 20,
   "id": "9589d4fd",
   "metadata": {},
   "outputs": [
    {
     "name": "stderr",
     "output_type": "stream",
     "text": [
      "[NbConvertApp] WARNING | Config option `extra_template_paths` not recognized by `ScriptExporter`.  Did you mean `template_path`?\n",
      "[NbConvertApp] Converting notebook update_website.ipynb to script\n",
      "[NbConvertApp] WARNING | Config option `extra_template_paths` not recognized by `PythonExporter`.  Did you mean `template_path`?\n",
      "[NbConvertApp] Writing 6847 bytes to update_website.py\n"
     ]
    }
   ],
   "source": [
    "if hasattr(__builtins__,'__IPYTHON__'):\n",
    "    sp.run(f\"jupyter nbconvert --to script 'update_website.ipynb' --output 'update_website'\", shell=True)"
   ]
  },
  {
   "cell_type": "code",
   "execution_count": null,
   "id": "6ecfdae7",
   "metadata": {},
   "outputs": [],
   "source": []
  },
  {
   "cell_type": "code",
   "execution_count": null,
   "id": "b24bec35",
   "metadata": {},
   "outputs": [],
   "source": []
  }
 ],
 "metadata": {
  "kernelspec": {
   "display_name": "Python 3 (ipykernel)",
   "language": "python",
   "name": "python3"
  },
  "language_info": {
   "codemirror_mode": {
    "name": "ipython",
    "version": 3
   },
   "file_extension": ".py",
   "mimetype": "text/x-python",
   "name": "python",
   "nbconvert_exporter": "python",
   "pygments_lexer": "ipython3",
   "version": "3.9.15"
  }
 },
 "nbformat": 4,
 "nbformat_minor": 5
}
