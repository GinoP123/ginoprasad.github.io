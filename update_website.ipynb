{
 "cells": [
  {
   "cell_type": "code",
   "execution_count": 13,
   "id": "da4db7fd",
   "metadata": {},
   "outputs": [],
   "source": [
    "import os\n",
    "import glob\n",
    "import subprocess as sp\n",
    "import yaml\n",
    "import shutil\n",
    "from tqdm import tqdm\n",
    "import numpy as np\n",
    "import datetime\n",
    "import re"
   ]
  },
  {
   "cell_type": "markdown",
   "id": "d30106f3",
   "metadata": {},
   "source": [
    "# Convert notebooks to html"
   ]
  },
  {
   "cell_type": "code",
   "execution_count": 2,
   "id": "934dc49f",
   "metadata": {},
   "outputs": [],
   "source": [
    "os.chdir('/Users/ginoprasad/ginoprasad.github.io')"
   ]
  },
  {
   "cell_type": "code",
   "execution_count": 3,
   "id": "1b1568a7",
   "metadata": {},
   "outputs": [],
   "source": [
    "metadata_path = 'metadata.yaml'\n",
    "with open(metadata_path) as infile:\n",
    "    metadata = yaml.safe_load(infile)"
   ]
  },
  {
   "cell_type": "code",
   "execution_count": 4,
   "id": "5183729c",
   "metadata": {},
   "outputs": [],
   "source": [
    "for project_notebook_path in metadata['Projects'][:]:\n",
    "    if not os.path.exists(project_notebook_path):\n",
    "        print(f\"REMOVING {project_notebook_path}\")\n",
    "        metadata['Projects'].remove(project_notebook_path)\n",
    "        with open(metadata_path, 'w') as outfile:\n",
    "            yaml.dump(metadata, outfile, default_flow_style=False)"
   ]
  },
  {
   "cell_type": "code",
   "execution_count": 5,
   "id": "155f185e",
   "metadata": {},
   "outputs": [],
   "source": [
    "temp_path = f'{os.getcwd()}/projects/temp.html'"
   ]
  },
  {
   "cell_type": "code",
   "execution_count": 6,
   "id": "d1b56a5e",
   "metadata": {},
   "outputs": [],
   "source": [
    "max_base_filename_length = 50"
   ]
  },
  {
   "cell_type": "code",
   "execution_count": 7,
   "id": "5e201280",
   "metadata": {},
   "outputs": [],
   "source": [
    "def get_notebook_metadata(project_notebook_path):\n",
    "    notebook_metadata_str = sp.run(f\"head -n 200 '{project_notebook_path}'\", shell=True, capture_output=True).stdout.decode().split('\\n')\n",
    "    notebook_metadata_str = ''.join(notebook_metadata_str[notebook_metadata_str.index('   \"source\": [')+1:notebook_metadata_str.index('   ]')])\n",
    "    \n",
    "    notebook_metadata = {}\n",
    "    notebook_metadata['title'] = re.search('(?<=# ).*?(?<=\\\\\\\\n)', notebook_metadata_str).group(0)[:-2]\n",
    "    notebook_metadata['authors'] = re.search('(?<=#### ).*?(?<=\\\\\\\\n)', notebook_metadata_str).group(0)[:-2]\n",
    "    notebook_metadata['date'] = re.search('[0-9][0-9]/[0-9][0-9]/[0-9][0-9][0-9][0-9]', notebook_metadata_str).group(0)\n",
    "    \n",
    "    return notebook_metadata"
   ]
  },
  {
   "cell_type": "code",
   "execution_count": 8,
   "id": "f0153e26",
   "metadata": {},
   "outputs": [
    {
     "name": "stderr",
     "output_type": "stream",
     "text": [
      "100%|███████████████████████████| 22/22 [00:00<00:00, 31.91it/s]\n"
     ]
    }
   ],
   "source": [
    "project_names, project_paths, project_dates = [], [], []\n",
    "for project_notebook_path in tqdm(metadata['Projects']):\n",
    "    notebook_metadata = get_notebook_metadata(project_notebook_path)    \n",
    "    project_base_path = os.path.basename(project_notebook_path)[:-len('.ipynb')]\n",
    "\n",
    "    while len(project_base_path) > max_base_filename_length:\n",
    "        project_base_path = ' '.join(project_base_path.split(' ')[:-1])\n",
    "    if not project_base_path:\n",
    "        print(f\"\\n\\n\\n\\n\\tWarning: Project '{notebook_metadata['title']}' Name exceeds recommended length\\n\\n\\n\\n\")\n",
    "        project_base_path = notebook_metadata['title']\n",
    "    notebook_metadata['project_path'] = f'{os.getcwd()}/projects/{project_base_path}.html'\n",
    "    \n",
    "    assert notebook_metadata['project_path'] not in project_paths\n",
    "    project_names.append(notebook_metadata['title'])\n",
    "    project_paths.append(notebook_metadata['project_path'])\n",
    "    project_dates.append(notebook_metadata['date'])\n",
    "    \n",
    "    if os.path.exists(notebook_metadata['project_path']) and os.path.getmtime(notebook_metadata['project_path']) > os.path.getmtime(project_notebook_path):\n",
    "        continue\n",
    "    \n",
    "    print(project_base_path)\n",
    "    print(f\"Converting {project_notebook_path}\")\n",
    "    sp.run(f\"jupyter nbconvert --to html '{project_notebook_path}' --output '{temp_path}'\", shell=True)\n",
    "    print(f\"Project Name: {notebook_metadata['title']}\")\n",
    "\n",
    "    with open(temp_path) as infile:\n",
    "        lines = infile.readlines()\n",
    "\n",
    "\n",
    "    title = ' '.join(map(lambda x: x[0].upper() + x[1:] if x else x, project_base_path.split('_')))\n",
    "    lines[5] = lines[5][:len('<title>')] + title + lines[5][lines[5].index('</title>'):]\n",
    " \n",
    "    with open(temp_path, 'w') as outfile:\n",
    "        lines.insert(5, '<link rel=\"icon\" href=\"../docs/assets/logo.png\"><iframe src=\"../header.html\" style=\"height: 12rem; width: 100%\" frameborder=\"0\" scrolling=\"no\"></iframe>\\n')\n",
    "        outfile.write(''.join(lines))\n",
    "    os.rename(temp_path, notebook_metadata['project_path'])\n",
    "    \n",
    "    print('\\n')\n",
    "\n",
    "datetimes = [datetime.datetime.strptime(project_date, '%m/%d/%Y') for project_date in project_dates]\n",
    "sort_list = lambda ls: [y[1] for y in sorted(enumerate(ls), key=lambda x: datetimes[x[0]], reverse=True)]\n",
    "project_names, project_paths, project_dates = map(sort_list, (project_names, project_paths, project_dates))"
   ]
  },
  {
   "cell_type": "code",
   "execution_count": 15,
   "id": "8af9c25e",
   "metadata": {},
   "outputs": [
    {
     "data": {
      "text/plain": [
       "['/Users/ginoprasad/ginoprasad.github.io/projects/vae_mnist.html',\n",
       " '/Users/ginoprasad/ginoprasad.github.io/projects/audio_transcription.html',\n",
       " '/Users/ginoprasad/ginoprasad.github.io/projects/deconvolution.html',\n",
       " '/Users/ginoprasad/ginoprasad.github.io/projects/Image Segmenter.html',\n",
       " '/Users/ginoprasad/ginoprasad.github.io/projects/earth_movers_distance.html',\n",
       " '/Users/ginoprasad/ginoprasad.github.io/projects/Gaussian_Blur.html',\n",
       " '/Users/ginoprasad/ginoprasad.github.io/projects/autotune_combined.html',\n",
       " '/Users/ginoprasad/ginoprasad.github.io/projects/image_deblurring.html',\n",
       " '/Users/ginoprasad/ginoprasad.github.io/projects/Gino_Prasad_CV.pdf',\n",
       " '/Users/ginoprasad/ginoprasad.github.io/projects/unet_implementation.html',\n",
       " '/Users/ginoprasad/ginoprasad.github.io/projects/edge_detector.html',\n",
       " '/Users/ginoprasad/ginoprasad.github.io/projects/wordle_bot.html',\n",
       " '/Users/ginoprasad/ginoprasad.github.io/projects/transformer_seq_to_seq.html',\n",
       " '/Users/ginoprasad/ginoprasad.github.io/projects/mcst_alphazero_2.html',\n",
       " '/Users/ginoprasad/ginoprasad.github.io/projects/Transformer.html',\n",
       " '/Users/ginoprasad/ginoprasad.github.io/projects/Stable_Diffusion_Pretrained.html',\n",
       " '/Users/ginoprasad/ginoprasad.github.io/projects/Phase_Vocoder.html',\n",
       " '/Users/ginoprasad/ginoprasad.github.io/projects/Multilayer_Neural_Network.html',\n",
       " '/Users/ginoprasad/ginoprasad.github.io/projects/interpolation.html',\n",
       " '/Users/ginoprasad/ginoprasad.github.io/projects/play_note.html',\n",
       " '/Users/ginoprasad/ginoprasad.github.io/projects/solution_11.html',\n",
       " '/Users/ginoprasad/ginoprasad.github.io/projects/complex_inner_product.html',\n",
       " '/Users/ginoprasad/ginoprasad.github.io/projects/fast_fourier_transform.html',\n",
       " '/Users/ginoprasad/ginoprasad.github.io/projects/Handwriten_Text_Parser.html',\n",
       " '/Users/ginoprasad/ginoprasad.github.io/projects/Gaussian Blur Test.html',\n",
       " '/Users/ginoprasad/ginoprasad.github.io/projects/Autotune_MUS_15.html',\n",
       " '/Users/ginoprasad/ginoprasad.github.io/projects/VAE_Face_Simulation.html',\n",
       " '/Users/ginoprasad/ginoprasad.github.io/projects/yin_pitch_prediction.html',\n",
       " '/Users/ginoprasad/ginoprasad.github.io/projects/Multilayer Neural Network.html',\n",
       " '/Users/ginoprasad/ginoprasad.github.io/projects/cropping_image_logo.html',\n",
       " '/Users/ginoprasad/ginoprasad.github.io/projects/Handwriten Text Parser.html',\n",
       " '/Users/ginoprasad/ginoprasad.github.io/projects/Image_Segmenter.html',\n",
       " '/Users/ginoprasad/ginoprasad.github.io/projects/Running_Simple_Dense_Net.html',\n",
       " '/Users/ginoprasad/ginoprasad.github.io/projects/mcst_alphazero.html']"
      ]
     },
     "execution_count": 15,
     "metadata": {},
     "output_type": "execute_result"
    }
   ],
   "source": [
    "glob.glob(f'{os.getcwd()}/projects/*')"
   ]
  },
  {
   "cell_type": "code",
   "execution_count": 9,
   "id": "1b853634",
   "metadata": {},
   "outputs": [
    {
     "data": {
      "text/plain": [
       "['/Users/ginoprasad/ginoprasad.github.io/projects/earth_movers_distance.html',\n",
       " '/Users/ginoprasad/ginoprasad.github.io/projects/transformer_seq_to_seq.html',\n",
       " '/Users/ginoprasad/ginoprasad.github.io/projects/VAE_Face_Simulation.html',\n",
       " '/Users/ginoprasad/ginoprasad.github.io/projects/audio_transcription.html',\n",
       " '/Users/ginoprasad/ginoprasad.github.io/projects/cropping_image_logo.html',\n",
       " '/Users/ginoprasad/ginoprasad.github.io/projects/Stable_Diffusion_Pretrained.html',\n",
       " '/Users/ginoprasad/ginoprasad.github.io/projects/solution_11.html',\n",
       " '/Users/ginoprasad/ginoprasad.github.io/projects/complex_inner_product.html',\n",
       " '/Users/ginoprasad/ginoprasad.github.io/projects/Autotune_MUS_15.html',\n",
       " '/Users/ginoprasad/ginoprasad.github.io/projects/autotune_combined.html',\n",
       " '/Users/ginoprasad/ginoprasad.github.io/projects/Phase_Vocoder.html',\n",
       " '/Users/ginoprasad/ginoprasad.github.io/projects/yin_pitch_prediction.html',\n",
       " '/Users/ginoprasad/ginoprasad.github.io/projects/play_note.html',\n",
       " '/Users/ginoprasad/ginoprasad.github.io/projects/fast_fourier_transform.html',\n",
       " '/Users/ginoprasad/ginoprasad.github.io/projects/unet_implementation.html',\n",
       " '/Users/ginoprasad/ginoprasad.github.io/projects/edge_detector.html',\n",
       " '/Users/ginoprasad/ginoprasad.github.io/projects/Multilayer_Neural_Network.html',\n",
       " '/Users/ginoprasad/ginoprasad.github.io/projects/Image_Segmenter.html',\n",
       " '/Users/ginoprasad/ginoprasad.github.io/projects/Handwriten_Text_Parser.html',\n",
       " '/Users/ginoprasad/ginoprasad.github.io/projects/Gaussian_Blur.html',\n",
       " '/Users/ginoprasad/ginoprasad.github.io/projects/interpolation.html',\n",
       " '/Users/ginoprasad/ginoprasad.github.io/projects/wordle_bot.html']"
      ]
     },
     "execution_count": 9,
     "metadata": {},
     "output_type": "execute_result"
    }
   ],
   "source": [
    "project_paths"
   ]
  },
  {
   "cell_type": "code",
   "execution_count": 9,
   "id": "f2eaadff",
   "metadata": {},
   "outputs": [],
   "source": [
    "index_html_path = 'index.html'\n",
    "index_html_lines = open(index_html_path).readlines()"
   ]
  },
  {
   "cell_type": "code",
   "execution_count": 10,
   "id": "52ad2069",
   "metadata": {},
   "outputs": [],
   "source": [
    "project_template = \"\\t\\t\\t<li><div class=link><a href=\\\"projects/{}\\\">{}</a></div><div class='date'><img src='docs/assets/calendar_icon.png'><span class=date>{}</span></div></li>\\n\"\n",
    "\n",
    "project_list_index_start = [\"Cool Projects\" in x for x in index_html_lines].index(True) + 2\n",
    "project_list_index_end = index_html_lines[project_list_index_start:].index('\\t\\t</ul>\\n') + project_list_index_start\n",
    "\n",
    "new_project_list =  [project_template.format(os.path.basename(html_path), name, date) for name, html_path, date in zip(project_names, project_paths, project_dates)]\n",
    "index_html_lines = index_html_lines[:project_list_index_start] + new_project_list + index_html_lines[project_list_index_end:]\n",
    "index_html_lines[project_list_index_start-2] = f\"\\t\\t<h2> Cool Projects ({len(metadata['Projects'])}) </h2>\\n\""
   ]
  },
  {
   "cell_type": "markdown",
   "id": "d7745fbd",
   "metadata": {},
   "source": [
    "# Copying CV and Updating Links"
   ]
  },
  {
   "cell_type": "code",
   "execution_count": 11,
   "id": "6e3b72ba",
   "metadata": {},
   "outputs": [],
   "source": [
    "assert shutil.copy(metadata['CV'], f\"projects/{os.path.basename(metadata['CV'])}\")"
   ]
  },
  {
   "cell_type": "code",
   "execution_count": 13,
   "id": "5967d7cc",
   "metadata": {},
   "outputs": [],
   "source": [
    "tag_dict = {tag: metadata[tag] for tag in ['CV', 'LinkedIn', 'GitHub']}\n",
    "tag_dict['CV'] = f\"projects/{os.path.basename(tag_dict['CV'])}\""
   ]
  },
  {
   "cell_type": "code",
   "execution_count": 14,
   "id": "6a7d174f",
   "metadata": {},
   "outputs": [],
   "source": [
    "for i, line in enumerate(index_html_lines):\n",
    "    for tag in tag_dict:\n",
    "        prefix = f\"<a id='{tag}' href='\"\n",
    "        if line.startswith(prefix):\n",
    "            print(line.strip())\n",
    "            new_line = prefix + tag_dict[tag] + line[len(prefix) + line[len(prefix):].index(\"'\"):]\n",
    "            print(new_line)\n",
    "            index_html_lines[i] = new_line\n",
    "    \n",
    "    if line.startswith(prefix):\n",
    "        del tag_dict[tag]"
   ]
  },
  {
   "cell_type": "markdown",
   "id": "549403c3",
   "metadata": {},
   "source": [
    "# Writing Updated Index File"
   ]
  },
  {
   "cell_type": "code",
   "execution_count": 15,
   "id": "5d55453c",
   "metadata": {},
   "outputs": [],
   "source": [
    "with open(index_html_path, 'w') as outfile:\n",
    "    outfile.write(''.join(index_html_lines))"
   ]
  },
  {
   "cell_type": "code",
   "execution_count": 16,
   "id": "2b451d85",
   "metadata": {},
   "outputs": [
    {
     "name": "stdout",
     "output_type": "stream",
     "text": [
      "[main 6c30353] Automated Website Update\n",
      " 2 files changed, 23 insertions(+), 23 deletions(-)\n"
     ]
    },
    {
     "name": "stderr",
     "output_type": "stream",
     "text": [
      "To https://github.com/GinoP123/ginoprasad.github.io.git\n",
      "   a15feb3..6c30353  main -> main\n"
     ]
    },
    {
     "data": {
      "text/plain": [
       "CompletedProcess(args=\"cd '/Users/ginoprasad/ginoprasad.github.io'; git add .; git commit -m 'Automated Website Update'; git push origin main\", returncode=0)"
      ]
     },
     "execution_count": 16,
     "metadata": {},
     "output_type": "execute_result"
    }
   ],
   "source": [
    "sp.run(f\"cd '{os.getcwd()}'; git add .; git commit -m 'Automated Website Update'; git push origin main\", shell=True)"
   ]
  },
  {
   "cell_type": "markdown",
   "id": "ea967e3c",
   "metadata": {},
   "source": [
    "# Updating Python Script"
   ]
  },
  {
   "cell_type": "code",
   "execution_count": 18,
   "id": "9589d4fd",
   "metadata": {},
   "outputs": [
    {
     "name": "stderr",
     "output_type": "stream",
     "text": [
      "[NbConvertApp] Converting notebook update_website.ipynb to script\n",
      "[NbConvertApp] Writing 6007 bytes to update_website.py\n"
     ]
    }
   ],
   "source": [
    "if hasattr(__builtins__,'__IPYTHON__'):\n",
    "    sp.run(f\"jupyter nbconvert --to script 'update_website.ipynb' --output 'update_website'\", shell=True)"
   ]
  },
  {
   "cell_type": "code",
   "execution_count": null,
   "id": "6ecfdae7",
   "metadata": {},
   "outputs": [],
   "source": []
  }
 ],
 "metadata": {
  "kernelspec": {
   "display_name": "Python 3 (ipykernel)",
   "language": "python",
   "name": "python3"
  },
  "language_info": {
   "codemirror_mode": {
    "name": "ipython",
    "version": 3
   },
   "file_extension": ".py",
   "mimetype": "text/x-python",
   "name": "python",
   "nbconvert_exporter": "python",
   "pygments_lexer": "ipython3",
   "version": "3.9.5"
  }
 },
 "nbformat": 4,
 "nbformat_minor": 5
}
