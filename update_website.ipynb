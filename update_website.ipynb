{
 "cells": [
  {
   "cell_type": "markdown",
   "id": "d30106f3",
   "metadata": {},
   "source": [
    "# Convert notebooks to html"
   ]
  },
  {
   "cell_type": "code",
   "execution_count": 1,
   "id": "d125fbc7",
   "metadata": {},
   "outputs": [],
   "source": [
    "import pandas as pd\n",
    "import os\n",
    "import subprocess as sp"
   ]
  },
  {
   "cell_type": "code",
   "execution_count": 2,
   "id": "1b1568a7",
   "metadata": {},
   "outputs": [],
   "source": [
    "notebook_list_csv_path = 'csv_files/notebooks_to_add.csv'"
   ]
  },
  {
   "cell_type": "code",
   "execution_count": 3,
   "id": "d66b2d1e",
   "metadata": {},
   "outputs": [],
   "source": [
    "notebook_list = pd.read_csv(notebook_list_csv_path)"
   ]
  },
  {
   "cell_type": "code",
   "execution_count": 4,
   "id": "14870c8f",
   "metadata": {},
   "outputs": [
    {
     "data": {
      "text/plain": [
       "0                Fast Fourier Transform Implementation\n",
       "1    U-Net Convolutional Neural Network Implementation\n",
       "2                       Gaussian Filter Implementation\n",
       "3           Pitch Reconstruction with Audio Processing\n",
       "4            Lagrange and Gregory-Newton Interpolation\n",
       "5                                  Image Edge Detector\n",
       "Name: Name, dtype: object"
      ]
     },
     "execution_count": 4,
     "metadata": {},
     "output_type": "execute_result"
    }
   ],
   "source": [
    "notebook_list['Name']"
   ]
  },
  {
   "cell_type": "code",
   "execution_count": 20,
   "id": "f0153e26",
   "metadata": {},
   "outputs": [
    {
     "name": "stdout",
     "output_type": "stream",
     "text": [
      "Converting Fast Fourier Transform Implementation\n",
      "Output Path: /Users/ginoprasad/ginoprasad.github.io/html_files/fast_fourier_transform.html\n"
     ]
    },
    {
     "name": "stderr",
     "output_type": "stream",
     "text": [
      "[NbConvertApp] Converting notebook /Users/ginoprasad/eng_math/fast_fourier_transform.ipynb to html\n",
      "[NbConvertApp] Writing 756510 bytes to /Users/ginoprasad/ginoprasad.github.io/html_files/fast_fourier_transform.html\n"
     ]
    },
    {
     "name": "stdout",
     "output_type": "stream",
     "text": [
      "Converting U-Net Convolutional Neural Network Implementation\n",
      "Output Path: /Users/ginoprasad/ginoprasad.github.io/html_files/unet_implementation.html\n"
     ]
    },
    {
     "name": "stderr",
     "output_type": "stream",
     "text": [
      "[NbConvertApp] Converting notebook /Users/ginoprasad/ai_stuff/unet_implementation.ipynb to html\n",
      "[NbConvertApp] Writing 1204549 bytes to /Users/ginoprasad/ginoprasad.github.io/html_files/unet_implementation.html\n"
     ]
    },
    {
     "name": "stdout",
     "output_type": "stream",
     "text": [
      "Converting Gaussian Filter Implementation\n",
      "Output Path: /Users/ginoprasad/ginoprasad.github.io/html_files/Gaussian Blur Test.html\n"
     ]
    },
    {
     "name": "stderr",
     "output_type": "stream",
     "text": [
      "[NbConvertApp] Converting notebook /Users/ginoprasad/ai_stuff/Gaussian Blur Test.ipynb to html\n",
      "[NbConvertApp] Writing 1159385 bytes to /Users/ginoprasad/ginoprasad.github.io/html_files/Gaussian Blur Test.html\n"
     ]
    },
    {
     "name": "stdout",
     "output_type": "stream",
     "text": [
      "Converting Pitch Reconstruction with Audio Processing\n",
      "Output Path: /Users/ginoprasad/ginoprasad.github.io/html_files/play_note.html\n"
     ]
    },
    {
     "name": "stderr",
     "output_type": "stream",
     "text": [
      "[NbConvertApp] Converting notebook /Users/ginoprasad/ai_stuff/audio_transcriber/play_note.ipynb to html\n",
      "[NbConvertApp] Writing 880992 bytes to /Users/ginoprasad/ginoprasad.github.io/html_files/play_note.html\n"
     ]
    },
    {
     "name": "stdout",
     "output_type": "stream",
     "text": [
      "Converting Lagrange and Gregory-Newton Interpolation\n",
      "Output Path: /Users/ginoprasad/ginoprasad.github.io/html_files/interpolation.html\n"
     ]
    },
    {
     "name": "stderr",
     "output_type": "stream",
     "text": [
      "[NbConvertApp] Converting notebook /Users/ginoprasad/eng_math/interpolation.ipynb to html\n",
      "[NbConvertApp] Writing 585324 bytes to /Users/ginoprasad/ginoprasad.github.io/html_files/interpolation.html\n"
     ]
    },
    {
     "name": "stdout",
     "output_type": "stream",
     "text": [
      "Converting Image Edge Detector\n",
      "Output Path: /Users/ginoprasad/ginoprasad.github.io/html_files/edge_detector.html\n"
     ]
    },
    {
     "name": "stderr",
     "output_type": "stream",
     "text": [
      "[NbConvertApp] Converting notebook /Users/ginoprasad/ai_stuff/edge_detector.ipynb to html\n",
      "[NbConvertApp] Writing 590662 bytes to /Users/ginoprasad/ginoprasad.github.io/html_files/edge_detector.html\n"
     ]
    }
   ],
   "source": [
    "output_paths = []\n",
    "for name, path in zip(notebook_list['Name'], notebook_list['Path']):\n",
    "    file_base = os.path.splitext(os.path.basename(path))[0]\n",
    "    output_paths.append(f'{os.getcwd()}/html_files/{file_base}.html')\n",
    "    print(f\"Converting {name}\")\n",
    "    print(f'Output Path: {output_paths[-1]}')\n",
    "    sp.run(f\"jupyter nbconvert --to html '{path}' --output '{output_paths[-1]}'\", shell=True)\n",
    "notebook_list['HTML_Path'] = output_paths"
   ]
  },
  {
   "cell_type": "code",
   "execution_count": 21,
   "id": "f2eaadff",
   "metadata": {},
   "outputs": [],
   "source": [
    "index_html_path = 'index.html'"
   ]
  },
  {
   "cell_type": "code",
   "execution_count": 22,
   "id": "1c38c3d0",
   "metadata": {},
   "outputs": [],
   "source": [
    "index_html_lines = open(index_html_path).readlines()"
   ]
  },
  {
   "cell_type": "code",
   "execution_count": 23,
   "id": "c44aeb23",
   "metadata": {},
   "outputs": [],
   "source": [
    "project_list_index_start = index_html_lines.index('<ul>\\n') + 1\n",
    "project_list_index_end = index_html_lines.index('</ul>\\n')"
   ]
  },
  {
   "cell_type": "code",
   "execution_count": 25,
   "id": "e42ba686",
   "metadata": {},
   "outputs": [],
   "source": [
    "new_project_list =  [f'\\t<li><a href=\"html_files/{html_path}\">{name}</a></li>\\n' for name, html_path in zip(notebook_list['Name'], notebook_list['HTML_Path'])]"
   ]
  },
  {
   "cell_type": "code",
   "execution_count": 26,
   "id": "3bfd3be1",
   "metadata": {},
   "outputs": [
    {
     "data": {
      "text/plain": [
       "['\\t<li><a href=\"html_files//Users/ginoprasad/ginoprasad.github.io/html_files/fast_fourier_transform.html\">Fast Fourier Transform Implementation</a></li>\\n',\n",
       " '\\t<li><a href=\"html_files//Users/ginoprasad/ginoprasad.github.io/html_files/unet_implementation.html\">U-Net Convolutional Neural Network Implementation</a></li>\\n',\n",
       " '\\t<li><a href=\"html_files//Users/ginoprasad/ginoprasad.github.io/html_files/Gaussian Blur Test.html\">Gaussian Filter Implementation</a></li>\\n',\n",
       " '\\t<li><a href=\"html_files//Users/ginoprasad/ginoprasad.github.io/html_files/play_note.html\">Pitch Reconstruction with Audio Processing</a></li>\\n',\n",
       " '\\t<li><a href=\"html_files//Users/ginoprasad/ginoprasad.github.io/html_files/interpolation.html\">Lagrange and Gregory-Newton Interpolation</a></li>\\n',\n",
       " '\\t<li><a href=\"html_files//Users/ginoprasad/ginoprasad.github.io/html_files/edge_detector.html\">Image Edge Detector</a></li>\\n']"
      ]
     },
     "execution_count": 26,
     "metadata": {},
     "output_type": "execute_result"
    }
   ],
   "source": [
    "new_project_list"
   ]
  },
  {
   "cell_type": "code",
   "execution_count": 28,
   "id": "5d55453c",
   "metadata": {},
   "outputs": [],
   "source": [
    "with open(index_html_path, 'w') as outfile:\n",
    "    outfile.write(''.join(index_html_lines[:project_list_index_start] + new_project_list + index_html_lines[project_list_index_end:]))"
   ]
  },
  {
   "cell_type": "code",
   "execution_count": null,
   "id": "94f028b6",
   "metadata": {},
   "outputs": [],
   "source": []
  }
 ],
 "metadata": {
  "kernelspec": {
   "display_name": "Python 3 (ipykernel)",
   "language": "python",
   "name": "python3"
  },
  "language_info": {
   "codemirror_mode": {
    "name": "ipython",
    "version": 3
   },
   "file_extension": ".py",
   "mimetype": "text/x-python",
   "name": "python",
   "nbconvert_exporter": "python",
   "pygments_lexer": "ipython3",
   "version": "3.9.5"
  }
 },
 "nbformat": 4,
 "nbformat_minor": 5
}
