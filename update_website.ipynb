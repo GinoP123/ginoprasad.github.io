{
 "cells": [
  {
   "cell_type": "code",
   "execution_count": 2,
   "id": "da4db7fd",
   "metadata": {},
   "outputs": [],
   "source": [
    "import os\n",
    "import subprocess as sp\n",
    "import yaml\n",
    "import shutil"
   ]
  },
  {
   "cell_type": "markdown",
   "id": "d30106f3",
   "metadata": {},
   "source": [
    "# Convert notebooks to html"
   ]
  },
  {
   "cell_type": "code",
   "execution_count": 3,
   "id": "934dc49f",
   "metadata": {},
   "outputs": [],
   "source": [
    "os.chdir('/Users/ginoprasad/ginoprasad.github.io')"
   ]
  },
  {
   "cell_type": "code",
   "execution_count": 4,
   "id": "1b1568a7",
   "metadata": {},
   "outputs": [],
   "source": [
    "metadata_path = 'metadata.yaml'"
   ]
  },
  {
   "cell_type": "code",
   "execution_count": 5,
   "id": "59b4fd77",
   "metadata": {},
   "outputs": [],
   "source": [
    "with open(metadata_path) as infile:\n",
    "    metadata = yaml.safe_load(infile)"
   ]
  },
  {
   "cell_type": "code",
   "execution_count": 6,
   "id": "aed58793",
   "metadata": {},
   "outputs": [
    {
     "data": {
      "text/plain": [
       "{'Resume': '/Users/ginoprasad/_Receipts/pdf_files/Gino_Prasad_Resume.pdf',\n",
       " 'LinkedIn': 'https://www.linkedin.com/in/ginoprasad',\n",
       " 'GitHub': 'https://github.com/GinoP123',\n",
       " 'Projects': ['/Users/ginoprasad/eng_math/fast_fourier_transform.ipynb',\n",
       "  '/Users/ginoprasad/ai_stuff/unet_implementation.ipynb',\n",
       "  '/Users/ginoprasad/ai_stuff/text_classifier/Multilayer Neural Network.ipynb',\n",
       "  '/Users/ginoprasad/ai_stuff/text_classifier/Image Segmenter.ipynb',\n",
       "  '/Users/ginoprasad/ai_stuff/text_classifier/Handwriten Text Parser.ipynb',\n",
       "  '/Users/ginoprasad/ai_stuff/Gaussian Blur Test.ipynb',\n",
       "  '/Users/ginoprasad/ai_stuff/audio_transcriber/play_note.ipynb',\n",
       "  '/Users/ginoprasad/eng_math/interpolation.ipynb',\n",
       "  '/Users/ginoprasad/ai_stuff/edge_detector.ipynb']}"
      ]
     },
     "execution_count": 6,
     "metadata": {},
     "output_type": "execute_result"
    }
   ],
   "source": [
    "metadata"
   ]
  },
  {
   "cell_type": "code",
   "execution_count": 7,
   "id": "155f185e",
   "metadata": {},
   "outputs": [],
   "source": [
    "temp_path = f'{os.getcwd()}/projects/temp.html'"
   ]
  },
  {
   "cell_type": "code",
   "execution_count": 8,
   "id": "d1b56a5e",
   "metadata": {},
   "outputs": [],
   "source": [
    "max_base_filename_length = 50"
   ]
  },
  {
   "cell_type": "code",
   "execution_count": 9,
   "id": "f0153e26",
   "metadata": {},
   "outputs": [
    {
     "name": "stdout",
     "output_type": "stream",
     "text": [
      "Converting /Users/ginoprasad/eng_math/fast_fourier_transform.ipynb\n"
     ]
    },
    {
     "name": "stderr",
     "output_type": "stream",
     "text": [
      "[NbConvertApp] Converting notebook /Users/ginoprasad/eng_math/fast_fourier_transform.ipynb to html\n",
      "[NbConvertApp] Writing 824735 bytes to /Users/ginoprasad/ginoprasad.github.io/projects/temp.html\n"
     ]
    },
    {
     "name": "stdout",
     "output_type": "stream",
     "text": [
      "Project Name: Fast Fourier Transform Implementation\n",
      "\n",
      "\n",
      "Converting /Users/ginoprasad/ai_stuff/unet_implementation.ipynb\n"
     ]
    },
    {
     "name": "stderr",
     "output_type": "stream",
     "text": [
      "[NbConvertApp] Converting notebook /Users/ginoprasad/ai_stuff/unet_implementation.ipynb to html\n",
      "[NbConvertApp] Writing 1204549 bytes to /Users/ginoprasad/ginoprasad.github.io/projects/temp.html\n"
     ]
    },
    {
     "name": "stdout",
     "output_type": "stream",
     "text": [
      "Project Name: U-Net Convolutional Neural Network Implementation\n",
      "\n",
      "\n",
      "Converting /Users/ginoprasad/ai_stuff/text_classifier/Multilayer Neural Network.ipynb\n"
     ]
    },
    {
     "name": "stderr",
     "output_type": "stream",
     "text": [
      "[NbConvertApp] Converting notebook /Users/ginoprasad/ai_stuff/text_classifier/Multilayer Neural Network.ipynb to html\n",
      "[NbConvertApp] Writing 610307 bytes to /Users/ginoprasad/ginoprasad.github.io/projects/temp.html\n"
     ]
    },
    {
     "name": "stdout",
     "output_type": "stream",
     "text": [
      "Project Name: Multilayer Neural Network Implementation From Scratch: Handwritten Text Parser\n",
      "\n",
      "\n",
      "Converting /Users/ginoprasad/ai_stuff/text_classifier/Image Segmenter.ipynb\n"
     ]
    },
    {
     "name": "stderr",
     "output_type": "stream",
     "text": [
      "[NbConvertApp] Converting notebook /Users/ginoprasad/ai_stuff/text_classifier/Image Segmenter.ipynb to html\n",
      "[NbConvertApp] Writing 775137 bytes to /Users/ginoprasad/ginoprasad.github.io/projects/temp.html\n"
     ]
    },
    {
     "name": "stdout",
     "output_type": "stream",
     "text": [
      "Project Name: Image Segmenter Using Connected Components\n",
      "\n",
      "\n",
      "Converting /Users/ginoprasad/ai_stuff/text_classifier/Handwriten Text Parser.ipynb\n"
     ]
    },
    {
     "name": "stderr",
     "output_type": "stream",
     "text": [
      "[NbConvertApp] Converting notebook /Users/ginoprasad/ai_stuff/text_classifier/Handwriten Text Parser.ipynb to html\n",
      "[NbConvertApp] Writing 620177 bytes to /Users/ginoprasad/ginoprasad.github.io/projects/temp.html\n"
     ]
    },
    {
     "name": "stdout",
     "output_type": "stream",
     "text": [
      "Project Name: Perceptron Implementation From Scratch: Handwritten Text Parser\n",
      "\n",
      "\n",
      "Converting /Users/ginoprasad/ai_stuff/Gaussian Blur Test.ipynb\n"
     ]
    },
    {
     "name": "stderr",
     "output_type": "stream",
     "text": [
      "[NbConvertApp] Converting notebook /Users/ginoprasad/ai_stuff/Gaussian Blur Test.ipynb to html\n",
      "[NbConvertApp] Writing 1159385 bytes to /Users/ginoprasad/ginoprasad.github.io/projects/temp.html\n"
     ]
    },
    {
     "name": "stdout",
     "output_type": "stream",
     "text": [
      "Project Name: Gaussian Filter Implementation\n",
      "\n",
      "\n",
      "Converting /Users/ginoprasad/ai_stuff/audio_transcriber/play_note.ipynb\n"
     ]
    },
    {
     "name": "stderr",
     "output_type": "stream",
     "text": [
      "[NbConvertApp] Converting notebook /Users/ginoprasad/ai_stuff/audio_transcriber/play_note.ipynb to html\n",
      "[NbConvertApp] Writing 880992 bytes to /Users/ginoprasad/ginoprasad.github.io/projects/temp.html\n"
     ]
    },
    {
     "name": "stdout",
     "output_type": "stream",
     "text": [
      "Project Name: Pitch Reconstruction with Audio Processing\n",
      "\n",
      "\n",
      "Converting /Users/ginoprasad/eng_math/interpolation.ipynb\n"
     ]
    },
    {
     "name": "stderr",
     "output_type": "stream",
     "text": [
      "[NbConvertApp] Converting notebook /Users/ginoprasad/eng_math/interpolation.ipynb to html\n",
      "[NbConvertApp] Writing 585324 bytes to /Users/ginoprasad/ginoprasad.github.io/projects/temp.html\n"
     ]
    },
    {
     "name": "stdout",
     "output_type": "stream",
     "text": [
      "Project Name: Lagrange Interpolation and Gregory-Newton Interpolation\n",
      "\n",
      "\n",
      "Converting /Users/ginoprasad/ai_stuff/edge_detector.ipynb\n"
     ]
    },
    {
     "name": "stderr",
     "output_type": "stream",
     "text": [
      "[NbConvertApp] Converting notebook /Users/ginoprasad/ai_stuff/edge_detector.ipynb to html\n"
     ]
    },
    {
     "name": "stdout",
     "output_type": "stream",
     "text": [
      "Project Name: Image Edge Detector\n",
      "\n",
      "\n"
     ]
    },
    {
     "name": "stderr",
     "output_type": "stream",
     "text": [
      "[NbConvertApp] Writing 590662 bytes to /Users/ginoprasad/ginoprasad.github.io/projects/temp.html\n"
     ]
    }
   ],
   "source": [
    "project_names, project_paths = [], []\n",
    "for project_notebook_path in metadata['Projects']:\n",
    "    print(f\"Converting {project_notebook_path}\")\n",
    "    sp.run(f\"jupyter nbconvert --to html '{project_notebook_path}' --output '{temp_path}'\", shell=True)\n",
    "    \n",
    "    \n",
    "    title_line = sp.run(f\"grep '<h1' '{temp_path}'\", shell=True, capture_output=True).stdout.decode().split('\\n')[0]\n",
    "    project_name = title_line[title_line.index('>')+1:]\n",
    "    project_name = project_name[:project_name.index('<')]\n",
    "    print(f'Project Name: {project_name}')\n",
    "\n",
    "    project_base_path = project_name\n",
    "    while len(project_base_path) > max_base_filename_length:\n",
    "        project_base_path = ' '.join(project_base_path.split(' ')[:-1])\n",
    "    \n",
    "    if not project_base_path:\n",
    "        print(f\"\\n\\n\\n\\n\\tWarning: Project '{project_name}' Name exceeds recommended length\\n\\n\\n\\n\")\n",
    "        project_base_path = project_name\n",
    "    project_path = f'{os.getcwd()}/projects/{project_base_path}.html'\n",
    "    \n",
    "    assert project_path not in project_paths\n",
    "    os.rename(temp_path, project_path)\n",
    "    \n",
    "    project_names.append(project_name)\n",
    "    project_paths.append(project_path)\n",
    "    print('\\n')"
   ]
  },
  {
   "cell_type": "code",
   "execution_count": 10,
   "id": "f2eaadff",
   "metadata": {},
   "outputs": [],
   "source": [
    "index_html_path = 'index.html'"
   ]
  },
  {
   "cell_type": "code",
   "execution_count": 11,
   "id": "1c38c3d0",
   "metadata": {},
   "outputs": [],
   "source": [
    "index_html_lines = open(index_html_path).readlines()"
   ]
  },
  {
   "cell_type": "code",
   "execution_count": 12,
   "id": "c44aeb23",
   "metadata": {},
   "outputs": [],
   "source": [
    "project_list_index_start = index_html_lines.index('<ul>\\n') + 1\n",
    "project_list_index_end = index_html_lines.index('</ul>\\n')"
   ]
  },
  {
   "cell_type": "code",
   "execution_count": 13,
   "id": "e42ba686",
   "metadata": {},
   "outputs": [],
   "source": [
    "new_project_list =  [f'\\t<li><a href=\"projects/{os.path.basename(html_path)}\">{name}</a></li>\\n' for name, html_path in zip(project_names, project_paths)]"
   ]
  },
  {
   "cell_type": "code",
   "execution_count": 14,
   "id": "3bfd3be1",
   "metadata": {},
   "outputs": [
    {
     "data": {
      "text/plain": [
       "['\\t<li><a href=\"projects/Fast Fourier Transform Implementation.html\">Fast Fourier Transform Implementation</a></li>\\n',\n",
       " '\\t<li><a href=\"projects/U-Net Convolutional Neural Network Implementation.html\">U-Net Convolutional Neural Network Implementation</a></li>\\n',\n",
       " '\\t<li><a href=\"projects/Multilayer Neural Network Implementation From.html\">Multilayer Neural Network Implementation From Scratch: Handwritten Text Parser</a></li>\\n',\n",
       " '\\t<li><a href=\"projects/Image Segmenter Using Connected Components.html\">Image Segmenter Using Connected Components</a></li>\\n',\n",
       " '\\t<li><a href=\"projects/Perceptron Implementation From Scratch:.html\">Perceptron Implementation From Scratch: Handwritten Text Parser</a></li>\\n',\n",
       " '\\t<li><a href=\"projects/Gaussian Filter Implementation.html\">Gaussian Filter Implementation</a></li>\\n',\n",
       " '\\t<li><a href=\"projects/Pitch Reconstruction with Audio Processing.html\">Pitch Reconstruction with Audio Processing</a></li>\\n',\n",
       " '\\t<li><a href=\"projects/Lagrange Interpolation and Gregory-Newton.html\">Lagrange Interpolation and Gregory-Newton Interpolation</a></li>\\n',\n",
       " '\\t<li><a href=\"projects/Image Edge Detector.html\">Image Edge Detector</a></li>\\n']"
      ]
     },
     "execution_count": 14,
     "metadata": {},
     "output_type": "execute_result"
    }
   ],
   "source": [
    "new_project_list"
   ]
  },
  {
   "cell_type": "code",
   "execution_count": 15,
   "id": "7f3787b0",
   "metadata": {},
   "outputs": [],
   "source": [
    "index_html_lines = index_html_lines[:project_list_index_start] + new_project_list + index_html_lines[project_list_index_end:]"
   ]
  },
  {
   "cell_type": "markdown",
   "id": "d7745fbd",
   "metadata": {},
   "source": [
    "# Copying Resume and Updating Links"
   ]
  },
  {
   "cell_type": "code",
   "execution_count": 16,
   "id": "6e3b72ba",
   "metadata": {},
   "outputs": [],
   "source": [
    "assert shutil.copy(metadata['Resume'], f\"projects/{os.path.basename(metadata['Resume'])}\")"
   ]
  },
  {
   "cell_type": "code",
   "execution_count": 17,
   "id": "975b8b8a",
   "metadata": {},
   "outputs": [
    {
     "data": {
      "text/plain": [
       "['<!DOCTYPE html>\\n',\n",
       " '<html>\\n',\n",
       " '<head>\\n',\n",
       " '<title>Gino Prasad</title>\\n',\n",
       " '</head>\\n',\n",
       " '\\n',\n",
       " '<body>\\n',\n",
       " '<h1> Gino Prasad </h1>\\n',\n",
       " '<h2>\\n',\n",
       " '\\tHello, this is my personal website\\n',\n",
       " '</h2>\\n',\n",
       " '\\n',\n",
       " '<br>\\n',\n",
       " \"<a id='GitHub' href='https://github.com/GinoP123'> GitHub </a>\\n\",\n",
       " '<br>\\n',\n",
       " \"<a id='Resume' href='projects/Gino_Prasad_Resume.pdf'> Resume </a>\\n\",\n",
       " '<br>\\n',\n",
       " \"<a id='LinkedIn' href='https://www.linkedin.com/in/ginoprasad'> LinkedIn </a>\\n\",\n",
       " '<br><br>\\n',\n",
       " '\\n',\n",
       " '<h2> Cool Projects </h2>\\n',\n",
       " '<ul>\\n',\n",
       " '\\t<li><a href=\"projects/Fast Fourier Transform Implementation.html\">Fast Fourier Transform Implementation</a></li>\\n',\n",
       " '\\t<li><a href=\"projects/U-Net Convolutional Neural Network Implementation.html\">U-Net Convolutional Neural Network Implementation</a></li>\\n',\n",
       " '\\t<li><a href=\"projects/Multilayer Neural Network Implementation From.html\">Multilayer Neural Network Implementation From Scratch: Handwritten Text Parser</a></li>\\n',\n",
       " '\\t<li><a href=\"projects/Image Segmenter Using Connected Components.html\">Image Segmenter Using Connected Components</a></li>\\n',\n",
       " '\\t<li><a href=\"projects/Perceptron Implementation From Scratch:.html\">Perceptron Implementation From Scratch: Handwritten Text Parser</a></li>\\n',\n",
       " '\\t<li><a href=\"projects/Gaussian Filter Implementation.html\">Gaussian Filter Implementation</a></li>\\n',\n",
       " '\\t<li><a href=\"projects/Pitch Reconstruction with Audio Processing.html\">Pitch Reconstruction with Audio Processing</a></li>\\n',\n",
       " '\\t<li><a href=\"projects/Lagrange Interpolation and Gregory-Newton.html\">Lagrange Interpolation and Gregory-Newton Interpolation</a></li>\\n',\n",
       " '\\t<li><a href=\"projects/Image Edge Detector.html\">Image Edge Detector</a></li>\\n',\n",
       " '</ul>\\n',\n",
       " '\\n',\n",
       " '\\n',\n",
       " '</body>\\n',\n",
       " '\\n',\n",
       " '</html>']"
      ]
     },
     "execution_count": 17,
     "metadata": {},
     "output_type": "execute_result"
    }
   ],
   "source": [
    "index_html_lines"
   ]
  },
  {
   "cell_type": "code",
   "execution_count": 18,
   "id": "5967d7cc",
   "metadata": {},
   "outputs": [],
   "source": [
    "tag_dict = {tag: metadata[tag] for tag in ['Resume', 'LinkedIn', 'GitHub']}\n",
    "tag_dict['Resume'] = f\"projects/{os.path.basename(tag_dict['Resume'])}\""
   ]
  },
  {
   "cell_type": "code",
   "execution_count": 19,
   "id": "6a7d174f",
   "metadata": {},
   "outputs": [
    {
     "name": "stdout",
     "output_type": "stream",
     "text": [
      "<a id='GitHub' href='https://github.com/GinoP123'> GitHub </a>\n",
      "<a id='GitHub' href='https://github.com/GinoP123'> GitHub </a>\n",
      "\n",
      "<a id='Resume' href='projects/Gino_Prasad_Resume.pdf'> Resume </a>\n",
      "<a id='Resume' href='projects/Gino_Prasad_Resume.pdf'> Resume </a>\n",
      "\n",
      "<a id='LinkedIn' href='https://www.linkedin.com/in/ginoprasad'> LinkedIn </a>\n",
      "<a id='LinkedIn' href='https://www.linkedin.com/in/ginoprasad'> LinkedIn </a>\n",
      "\n"
     ]
    }
   ],
   "source": [
    "for i, line in enumerate(index_html_lines):\n",
    "    for tag in tag_dict:\n",
    "        prefix = f\"<a id='{tag}' href='\"\n",
    "        if line.startswith(prefix):\n",
    "            print(line.strip())\n",
    "            new_line = prefix + tag_dict[tag] + line[len(prefix) + line[len(prefix):].index(\"'\"):]\n",
    "            print(new_line)\n",
    "            index_html_lines[i] = new_line\n",
    "    \n",
    "    if line.startswith(prefix):\n",
    "        del tag_dict[tag]"
   ]
  },
  {
   "cell_type": "markdown",
   "id": "549403c3",
   "metadata": {},
   "source": [
    "# Writing Updated Index File"
   ]
  },
  {
   "cell_type": "code",
   "execution_count": 20,
   "id": "5d55453c",
   "metadata": {},
   "outputs": [],
   "source": [
    "with open(index_html_path, 'w') as outfile:\n",
    "    outfile.write(''.join(index_html_lines))"
   ]
  },
  {
   "cell_type": "code",
   "execution_count": 21,
   "id": "2b451d85",
   "metadata": {},
   "outputs": [
    {
     "name": "stdout",
     "output_type": "stream",
     "text": [
      "[main d9385c2] Automated Website Update\n",
      " 1 file changed, 10 insertions(+)\n"
     ]
    },
    {
     "name": "stderr",
     "output_type": "stream",
     "text": [
      "To https://github.com/ginoprasad/ginoprasad.github.io\n",
      "   0c8a82c..d9385c2  main -> main\n"
     ]
    },
    {
     "data": {
      "text/plain": [
       "CompletedProcess(args=\"cd '/Users/ginoprasad/ginoprasad.github.io'; git add .; git commit -m 'Automated Website Update'; git push origin main\", returncode=0)"
      ]
     },
     "execution_count": 21,
     "metadata": {},
     "output_type": "execute_result"
    }
   ],
   "source": [
    "sp.run(f\"cd '{os.getcwd()}'; git add .; git commit -m 'Automated Website Update'; git push origin main\", shell=True)"
   ]
  },
  {
   "cell_type": "code",
   "execution_count": null,
   "id": "f945cea2",
   "metadata": {},
   "outputs": [],
   "source": []
  },
  {
   "cell_type": "code",
   "execution_count": null,
   "id": "04799e72",
   "metadata": {},
   "outputs": [],
   "source": []
  }
 ],
 "metadata": {
  "kernelspec": {
   "display_name": "Python 3 (ipykernel)",
   "language": "python",
   "name": "python3"
  },
  "language_info": {
   "codemirror_mode": {
    "name": "ipython",
    "version": 3
   },
   "file_extension": ".py",
   "mimetype": "text/x-python",
   "name": "python",
   "nbconvert_exporter": "python",
   "pygments_lexer": "ipython3",
   "version": "3.9.5"
  }
 },
 "nbformat": 4,
 "nbformat_minor": 5
}
