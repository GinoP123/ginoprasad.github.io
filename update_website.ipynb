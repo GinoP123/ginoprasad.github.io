{
 "cells": [
  {
   "cell_type": "code",
   "execution_count": 1,
   "id": "da4db7fd",
   "metadata": {},
   "outputs": [],
   "source": [
    "import os\n",
    "import subprocess as sp\n",
    "import yaml\n",
    "import shutil"
   ]
  },
  {
   "cell_type": "markdown",
   "id": "d30106f3",
   "metadata": {},
   "source": [
    "# Convert notebooks to html"
   ]
  },
  {
   "cell_type": "code",
   "execution_count": 11,
   "id": "934dc49f",
   "metadata": {},
   "outputs": [],
   "source": [
    "os.chdir('/Users/ginoprasad/ginoprasad.github.io')"
   ]
  },
  {
   "cell_type": "code",
   "execution_count": 12,
   "id": "1b1568a7",
   "metadata": {},
   "outputs": [],
   "source": [
    "metadata_path = 'metadata.yaml'"
   ]
  },
  {
   "cell_type": "code",
   "execution_count": 13,
   "id": "59b4fd77",
   "metadata": {},
   "outputs": [],
   "source": [
    "with open(metadata_path) as infile:\n",
    "    metadata = yaml.safe_load(infile)"
   ]
  },
  {
   "cell_type": "code",
   "execution_count": 14,
   "id": "5183729c",
   "metadata": {},
   "outputs": [],
   "source": [
    "for project_notebook_path in metadata['Projects'][:]:\n",
    "    if not os.path.exists(project_notebook_path):\n",
    "        print(f\"REMOVING {project_notebook_path}\")\n",
    "        metadata['Projects'].remove(project_notebook_path)\n",
    "        with open(metadata_path, 'w') as outfile:\n",
    "            yaml.dump(metadata, outfile, default_flow_style=False)\n",
    "        "
   ]
  },
  {
   "cell_type": "code",
   "execution_count": 15,
   "id": "07c719b3",
   "metadata": {},
   "outputs": [
    {
     "data": {
      "text/plain": [
       "{'CV': '/Users/ginoprasad/_Receipts/pdf_files/Gino_Prasad_CV.pdf',\n",
       " 'GitHub': 'https://github.com/GinoP123',\n",
       " 'LinkedIn': 'https://www.linkedin.com/in/ginoprasad',\n",
       " 'Projects': ['/Users/ginoprasad/ai_stuff/Stable_Diffusion_Pretrained.ipynb',\n",
       "  '/Users/ginoprasad/foobar/solution_11.ipynb',\n",
       "  '/Users/ginoprasad/quantum_algorithms/complex_inner_product.ipynb',\n",
       "  '/Users/ginoprasad/image_processing/deconvolution.ipynb',\n",
       "  '/Users/ginoprasad/ai_stuff/autotune_phase_vocoder/Autotune_MUS_15.ipynb',\n",
       "  '/Users/ginoprasad/ai_stuff/autotune_phase_vocoder/Phase_Vocoder.ipynb',\n",
       "  '/Users/ginoprasad/ai_stuff/autotune_phase_vocoder/yin_pitch_prediction.ipynb',\n",
       "  '/Users/ginoprasad/ai_stuff/autotune_phase_vocoder/autotune_combined.ipynb',\n",
       "  '/Users/ginoprasad/eng_math/fast_fourier_transform.ipynb',\n",
       "  '/Users/ginoprasad/ai_stuff/unet_implementation.ipynb',\n",
       "  '/Users/ginoprasad/ai_stuff/text_classifier/Multilayer Neural Network.ipynb',\n",
       "  '/Users/ginoprasad/ai_stuff/text_classifier/Image Segmenter.ipynb',\n",
       "  '/Users/ginoprasad/ai_stuff/text_classifier/Handwriten Text Parser.ipynb',\n",
       "  '/Users/ginoprasad/ai_stuff/Gaussian Blur Test.ipynb',\n",
       "  '/Users/ginoprasad/ai_stuff/audio_transcriber/play_note.ipynb',\n",
       "  '/Users/ginoprasad/eng_math/interpolation.ipynb',\n",
       "  '/Users/ginoprasad/ai_stuff/edge_detector.ipynb']}"
      ]
     },
     "execution_count": 15,
     "metadata": {},
     "output_type": "execute_result"
    }
   ],
   "source": [
    "metadata"
   ]
  },
  {
   "cell_type": "code",
   "execution_count": 16,
   "id": "155f185e",
   "metadata": {},
   "outputs": [],
   "source": [
    "temp_path = f'{os.getcwd()}/projects/temp.html'"
   ]
  },
  {
   "cell_type": "code",
   "execution_count": 17,
   "id": "d1b56a5e",
   "metadata": {},
   "outputs": [],
   "source": [
    "max_base_filename_length = 50"
   ]
  },
  {
   "cell_type": "code",
   "execution_count": 19,
   "id": "321cf021",
   "metadata": {},
   "outputs": [
    {
     "data": {
      "text/plain": [
       "'/Users/ginoprasad/ginoprasad.github.io/projects/temp.html'"
      ]
     },
     "execution_count": 19,
     "metadata": {},
     "output_type": "execute_result"
    }
   ],
   "source": [
    "temp_path"
   ]
  },
  {
   "cell_type": "code",
   "execution_count": 20,
   "id": "05e1905d",
   "metadata": {},
   "outputs": [
    {
     "data": {
      "text/plain": [
       "'/Users/ginoprasad/ai_stuff/Stable_Diffusion_Pretrained.ipynb'"
      ]
     },
     "execution_count": 20,
     "metadata": {},
     "output_type": "execute_result"
    }
   ],
   "source": [
    "project_notebook_path"
   ]
  },
  {
   "cell_type": "code",
   "execution_count": 18,
   "id": "f0153e26",
   "metadata": {},
   "outputs": [
    {
     "name": "stdout",
     "output_type": "stream",
     "text": [
      "Converting /Users/ginoprasad/ai_stuff/Stable_Diffusion_Pretrained.ipynb\n"
     ]
    },
    {
     "name": "stderr",
     "output_type": "stream",
     "text": [
      "[NbConvertApp] Converting notebook /Users/ginoprasad/ai_stuff/Stable_Diffusion_Pretrained.ipynb to html\n",
      "Traceback (most recent call last):\n",
      "  File \"/Library/Frameworks/Python.framework/Versions/3.9/bin/jupyter-nbconvert\", line 8, in <module>\n",
      "    sys.exit(main())\n",
      "  File \"/Library/Frameworks/Python.framework/Versions/3.9/lib/python3.9/site-packages/jupyter_core/application.py\", line 276, in launch_instance\n",
      "    return super().launch_instance(argv=argv, **kwargs)\n",
      "  File \"/Library/Frameworks/Python.framework/Versions/3.9/lib/python3.9/site-packages/traitlets/config/application.py\", line 1041, in launch_instance\n",
      "    app.start()\n",
      "  File \"/Library/Frameworks/Python.framework/Versions/3.9/lib/python3.9/site-packages/nbconvert/nbconvertapp.py\", line 369, in start\n",
      "    self.convert_notebooks()\n",
      "  File \"/Library/Frameworks/Python.framework/Versions/3.9/lib/python3.9/site-packages/nbconvert/nbconvertapp.py\", line 541, in convert_notebooks\n",
      "    self.convert_single_notebook(notebook_filename)\n",
      "  File \"/Library/Frameworks/Python.framework/Versions/3.9/lib/python3.9/site-packages/nbconvert/nbconvertapp.py\", line 506, in convert_single_notebook\n",
      "    output, resources = self.export_single_notebook(notebook_filename, resources, input_buffer=input_buffer)\n",
      "  File \"/Library/Frameworks/Python.framework/Versions/3.9/lib/python3.9/site-packages/nbconvert/nbconvertapp.py\", line 435, in export_single_notebook\n",
      "    output, resources = self.exporter.from_filename(notebook_filename, resources=resources)\n",
      "  File \"/Library/Frameworks/Python.framework/Versions/3.9/lib/python3.9/site-packages/nbconvert/exporters/exporter.py\", line 190, in from_filename\n",
      "    return self.from_file(f, resources=resources, **kw)\n",
      "  File \"/Library/Frameworks/Python.framework/Versions/3.9/lib/python3.9/site-packages/nbconvert/exporters/exporter.py\", line 208, in from_file\n",
      "    return self.from_notebook_node(nbformat.read(file_stream, as_version=4), resources=resources, **kw)\n",
      "  File \"/Library/Frameworks/Python.framework/Versions/3.9/lib/python3.9/site-packages/nbconvert/exporters/html.py\", line 211, in from_notebook_node\n",
      "    return super().from_notebook_node(nb, resources, **kw)\n",
      "  File \"/Library/Frameworks/Python.framework/Versions/3.9/lib/python3.9/site-packages/nbconvert/exporters/templateexporter.py\", line 391, in from_notebook_node\n",
      "    output = self.template.render(nb=nb_copy, resources=resources)\n",
      "  File \"/Library/Frameworks/Python.framework/Versions/3.9/lib/python3.9/site-packages/jinja2/environment.py\", line 1301, in render\n",
      "    self.environment.handle_exception()\n",
      "  File \"/Library/Frameworks/Python.framework/Versions/3.9/lib/python3.9/site-packages/jinja2/environment.py\", line 936, in handle_exception\n",
      "    raise rewrite_traceback_stack(source=source)\n",
      "  File \"/Library/Frameworks/Python.framework/Versions/3.9/share/jupyter/nbconvert/templates/lab/index.html.j2\", line 3, in top-level template code\n",
      "    {% from 'jupyter_widgets.html.j2' import jupyter_widgets %}\n",
      "  File \"/Library/Frameworks/Python.framework/Versions/3.9/share/jupyter/nbconvert/templates/lab/base.html.j2\", line 260, in top-level template code\n",
      "    {% set div_id = uuid4() %}\n",
      "  File \"/Library/Frameworks/Python.framework/Versions/3.9/share/jupyter/nbconvert/templates/base/display_priority.j2\", line 1, in top-level template code\n",
      "    {%- extends 'base/null.j2' -%}\n",
      "  File \"/Library/Frameworks/Python.framework/Versions/3.9/share/jupyter/nbconvert/templates/base/null.j2\", line 26, in top-level template code\n",
      "    {%- block body -%}\n",
      "  File \"/Library/Frameworks/Python.framework/Versions/3.9/share/jupyter/nbconvert/templates/base/null.j2\", line 29, in block 'body'\n",
      "    {%- block body_loop -%}\n",
      "  File \"/Library/Frameworks/Python.framework/Versions/3.9/share/jupyter/nbconvert/templates/base/null.j2\", line 31, in block 'body_loop'\n",
      "    {%- block any_cell scoped -%}\n",
      "  File \"/Library/Frameworks/Python.framework/Versions/3.9/share/jupyter/nbconvert/templates/base/null.j2\", line 34, in block 'any_cell'\n",
      "    {%- block codecell scoped -%}\n",
      "  File \"/Library/Frameworks/Python.framework/Versions/3.9/share/jupyter/nbconvert/templates/lab/base.html.j2\", line 12, in block 'codecell'\n",
      "    {{ super() }}\n",
      "  File \"/Library/Frameworks/Python.framework/Versions/3.9/share/jupyter/nbconvert/templates/base/null.j2\", line 44, in block 'codecell'\n",
      "    {%- block output_group -%}\n",
      "  File \"/Library/Frameworks/Python.framework/Versions/3.9/share/jupyter/nbconvert/templates/lab/base.html.j2\", line 38, in block 'output_group'\n",
      "    {{ super() }}\n",
      "  File \"/Library/Frameworks/Python.framework/Versions/3.9/share/jupyter/nbconvert/templates/base/null.j2\", line 48, in block 'output_group'\n",
      "    {%- block outputs scoped -%}\n",
      "  File \"/Library/Frameworks/Python.framework/Versions/3.9/share/jupyter/nbconvert/templates/lab/base.html.j2\", line 44, in block 'outputs'\n",
      "    {{ super() }}\n",
      "  File \"/Library/Frameworks/Python.framework/Versions/3.9/share/jupyter/nbconvert/templates/base/null.j2\", line 50, in block 'outputs'\n",
      "    {%- block output scoped -%}\n",
      "  File \"/Library/Frameworks/Python.framework/Versions/3.9/share/jupyter/nbconvert/templates/lab/base.html.j2\", line 87, in block 'output'\n",
      "    {{ super() }}\n",
      "  File \"/Library/Frameworks/Python.framework/Versions/3.9/share/jupyter/nbconvert/templates/base/null.j2\", line 67, in block 'output'\n",
      "    {%- block display_data scoped -%}\n",
      "  File \"/Library/Frameworks/Python.framework/Versions/3.9/share/jupyter/nbconvert/templates/base/null.j2\", line 68, in block 'display_data'\n",
      "    {%- block data_priority scoped -%}\n",
      "  File \"/Library/Frameworks/Python.framework/Versions/3.9/share/jupyter/nbconvert/templates/lab/base.html.j2\", line 115, in block 'data_priority'\n",
      "    {{ super() }}\n",
      "  File \"/Library/Frameworks/Python.framework/Versions/3.9/share/jupyter/nbconvert/templates/base/display_priority.j2\", line 7, in block 'data_priority'\n",
      "    {%- for type in output.data | filter_data_type -%}\n",
      "  File \"/Library/Frameworks/Python.framework/Versions/3.9/lib/python3.9/site-packages/nbconvert/filters/widgetsdatatypefilter.py\", line 56, in __call__\n",
      "    metadata['widgets'][WIDGET_STATE_MIMETYPE]['state'] if\n",
      "KeyError: 'state'\n"
     ]
    },
    {
     "ename": "FileNotFoundError",
     "evalue": "[Errno 2] No such file or directory: '/Users/ginoprasad/ginoprasad.github.io/projects/temp.html'",
     "output_type": "error",
     "traceback": [
      "\u001b[0;31m---------------------------------------------------------------------------\u001b[0m",
      "\u001b[0;31mFileNotFoundError\u001b[0m                         Traceback (most recent call last)",
      "\u001b[0;32m/var/folders/hg/fb033z3906sbs5qrlt7sc2sm0000gn/T/ipykernel_38094/899489740.py\u001b[0m in \u001b[0;36m<module>\u001b[0;34m\u001b[0m\n\u001b[1;32m      4\u001b[0m     \u001b[0msp\u001b[0m\u001b[0;34m.\u001b[0m\u001b[0mrun\u001b[0m\u001b[0;34m(\u001b[0m\u001b[0;34mf\"jupyter nbconvert --to html '{project_notebook_path}' --output '{temp_path}'\"\u001b[0m\u001b[0;34m,\u001b[0m \u001b[0mshell\u001b[0m\u001b[0;34m=\u001b[0m\u001b[0;32mTrue\u001b[0m\u001b[0;34m)\u001b[0m\u001b[0;34m\u001b[0m\u001b[0;34m\u001b[0m\u001b[0m\n\u001b[1;32m      5\u001b[0m \u001b[0;34m\u001b[0m\u001b[0m\n\u001b[0;32m----> 6\u001b[0;31m     \u001b[0;32mwith\u001b[0m \u001b[0mopen\u001b[0m\u001b[0;34m(\u001b[0m\u001b[0mtemp_path\u001b[0m\u001b[0;34m)\u001b[0m \u001b[0;32mas\u001b[0m \u001b[0minfile\u001b[0m\u001b[0;34m:\u001b[0m\u001b[0;34m\u001b[0m\u001b[0;34m\u001b[0m\u001b[0m\n\u001b[0m\u001b[1;32m      7\u001b[0m         \u001b[0mlines\u001b[0m \u001b[0;34m=\u001b[0m \u001b[0minfile\u001b[0m\u001b[0;34m.\u001b[0m\u001b[0mreadlines\u001b[0m\u001b[0;34m(\u001b[0m\u001b[0;34m)\u001b[0m\u001b[0;34m\u001b[0m\u001b[0;34m\u001b[0m\u001b[0m\n\u001b[1;32m      8\u001b[0m \u001b[0;34m\u001b[0m\u001b[0m\n",
      "\u001b[0;31mFileNotFoundError\u001b[0m: [Errno 2] No such file or directory: '/Users/ginoprasad/ginoprasad.github.io/projects/temp.html'"
     ]
    }
   ],
   "source": [
    "project_names, project_paths = [], []\n",
    "for project_notebook_path in metadata['Projects']:\n",
    "    print(f\"Converting {project_notebook_path}\")\n",
    "    sp.run(f\"jupyter nbconvert --to html '{project_notebook_path}' --output '{temp_path}'\", shell=True)\n",
    "    \n",
    "    with open(temp_path) as infile:\n",
    "        lines = infile.readlines()\n",
    "\n",
    "    title_line = sp.run(f\"grep '<h1' '{temp_path}'\", shell=True, capture_output=True).stdout.decode().split('\\n')[0]\n",
    "    project_name = title_line[title_line.index('>')+1:]\n",
    "    project_name = project_name[:project_name.index('<')]\n",
    "    print(f'Project Name: {project_name}')\n",
    "\n",
    "    project_base_path = os.path.basename(project_notebook_path)[:-len('.ipynb')]\n",
    "    while len(project_base_path) > max_base_filename_length:\n",
    "        project_base_path = ' '.join(project_base_path.split(' ')[:-1])\n",
    "    title = ' '.join(map(lambda x: x[0].upper() + x[1:] if x else x, project_base_path.split('_')))\n",
    "    lines[5] = lines[5][:len('<title>')] + title + lines[5][lines[5].index('</title>'):]\n",
    " \n",
    "    with open(temp_path, 'w') as outfile:\n",
    "        lines.insert(5, '<link rel=\"icon\" href=\"../docs/assets/logo.png\"><iframe src=\"../header.html\" style=\"height: 17rem; width: 100%\" frameborder=\"0\" scrolling=\"no\"></iframe>\\n')\n",
    "        outfile.write(''.join(lines))\n",
    "    \n",
    "    if not project_base_path:\n",
    "        print(f\"\\n\\n\\n\\n\\tWarning: Project '{project_name}' Name exceeds recommended length\\n\\n\\n\\n\")\n",
    "        project_base_path = project_name\n",
    "    print(f'Project Path: {project_base_path}')\n",
    "    project_path = f'{os.getcwd()}/projects/{project_base_path}.html'\n",
    "    \n",
    "    assert project_path not in project_paths\n",
    "    os.rename(temp_path, project_path)\n",
    "    \n",
    "    project_names.append(project_name)\n",
    "    project_paths.append(project_path)\n",
    "    print('\\n')"
   ]
  },
  {
   "cell_type": "code",
   "execution_count": 10,
   "id": "f2eaadff",
   "metadata": {},
   "outputs": [],
   "source": [
    "index_html_path = 'index.html'"
   ]
  },
  {
   "cell_type": "code",
   "execution_count": 11,
   "id": "1c38c3d0",
   "metadata": {},
   "outputs": [],
   "source": [
    "index_html_lines = open(index_html_path).readlines()"
   ]
  },
  {
   "cell_type": "code",
   "execution_count": 12,
   "id": "c44aeb23",
   "metadata": {},
   "outputs": [],
   "source": [
    "project_list_index_start = index_html_lines.index('\\t\\t<ul>\\n') + 1\n",
    "project_list_index_end = index_html_lines.index('\\t\\t</ul>\\n')"
   ]
  },
  {
   "cell_type": "code",
   "execution_count": 13,
   "id": "e42ba686",
   "metadata": {},
   "outputs": [],
   "source": [
    "new_project_list =  [f'\\t\\t\\t<li><a href=\"projects/{os.path.basename(html_path)}\">{name}</a></li>\\n' for name, html_path in zip(project_names, project_paths)]"
   ]
  },
  {
   "cell_type": "code",
   "execution_count": 14,
   "id": "3bfd3be1",
   "metadata": {},
   "outputs": [
    {
     "data": {
      "text/plain": [
       "['\\t\\t\\t<li><a href=\"projects/Autotune_MUS_15.html\">MUS 15 Project 1: Creating Autotune From Scratch Using Phase Vocoders</a></li>\\n',\n",
       " '\\t\\t\\t<li><a href=\"projects/Phase_Vocoder.html\">Phase Vocoder Implementation</a></li>\\n',\n",
       " '\\t\\t\\t<li><a href=\"projects/autotune_combined.html\">Autotune Implementation Using Phase Vocoder</a></li>\\n',\n",
       " '\\t\\t\\t<li><a href=\"projects/fast_fourier_transform.html\">Fast Fourier Transform Implementation</a></li>\\n',\n",
       " '\\t\\t\\t<li><a href=\"projects/unet_implementation.html\">U-Net Convolutional Neural Network Implementation</a></li>\\n',\n",
       " '\\t\\t\\t<li><a href=\"projects/Multilayer Neural Network.html\">Multilayer Neural Network Implementation From Scratch: Handwritten Text Parser</a></li>\\n',\n",
       " '\\t\\t\\t<li><a href=\"projects/Image Segmenter.html\">Image Segmenter Using Connected Components</a></li>\\n',\n",
       " '\\t\\t\\t<li><a href=\"projects/Handwriten Text Parser.html\">Perceptron Implementation From Scratch: Handwritten Text Parser</a></li>\\n',\n",
       " '\\t\\t\\t<li><a href=\"projects/Gaussian Blur Test.html\">Gaussian Filter Implementation</a></li>\\n',\n",
       " '\\t\\t\\t<li><a href=\"projects/play_note.html\">Pitch Reconstruction with Audio Processing</a></li>\\n',\n",
       " '\\t\\t\\t<li><a href=\"projects/interpolation.html\">Lagrange Interpolation and Gregory-Newton Interpolation</a></li>\\n',\n",
       " '\\t\\t\\t<li><a href=\"projects/edge_detector.html\">Image Edge Detector</a></li>\\n']"
      ]
     },
     "execution_count": 14,
     "metadata": {},
     "output_type": "execute_result"
    }
   ],
   "source": [
    "new_project_list"
   ]
  },
  {
   "cell_type": "code",
   "execution_count": 15,
   "id": "7f3787b0",
   "metadata": {},
   "outputs": [],
   "source": [
    "index_html_lines = index_html_lines[:project_list_index_start] + new_project_list + index_html_lines[project_list_index_end:]"
   ]
  },
  {
   "cell_type": "markdown",
   "id": "d7745fbd",
   "metadata": {},
   "source": [
    "# Copying CV and Updating Links"
   ]
  },
  {
   "cell_type": "code",
   "execution_count": 16,
   "id": "6e3b72ba",
   "metadata": {},
   "outputs": [],
   "source": [
    "assert shutil.copy(metadata['CV'], f\"projects/{os.path.basename(metadata['CV'])}\")"
   ]
  },
  {
   "cell_type": "code",
   "execution_count": 17,
   "id": "975b8b8a",
   "metadata": {},
   "outputs": [
    {
     "data": {
      "text/plain": [
       "['<!DOCTYPE html>\\n',\n",
       " '<html>\\n',\n",
       " '<head>\\n',\n",
       " '\\t<link rel=\"icon\" href=\"docs/assets/star_img.png\">\\n',\n",
       " '\\t<title>\\n',\n",
       " '\\t\\t(￣▽￣)ノ\\n',\n",
       " '\\t</title>\\n',\n",
       " '</head>\\n',\n",
       " ' <iframe src=\"header.html\" style=\"height: fit-content; width: 100%\" frameborder=\"0\" scrolling=\"no\"></iframe>\\n',\n",
       " '\\n',\n",
       " '\\n',\n",
       " '<body>\\n',\n",
       " '\\t<link rel=\"stylesheet\" href=\"stylesheets/index.css\">\\n',\n",
       " \"\\t<div class='index'>\\n\",\n",
       " \"\\t\\t<h1 class='name'> Gino Prasad </h1>\\n\",\n",
       " \"\\t\\t<div class='about_container'>\\n\",\n",
       " '\\t\\t\\t<span></span>\\n',\n",
       " \"\\t\\t\\t<div class='about'>\\n\",\n",
       " \"\\t\\t\\t\\tI'm a Bioinformatics and Computer Science student at UC San Diego. I'm enthusiastic about software engineering and data science, with skills in Python, C++, and Java programming.\\n\",\n",
       " '\\t\\t\\t</div>\\n',\n",
       " '\\t\\t\\t<span></span>\\n',\n",
       " '\\n',\n",
       " '\\t\\t</div>\\n',\n",
       " '\\t\\t<br><br>\\n',\n",
       " '\\t\\t<h2> Cool Projects </h2>\\n',\n",
       " '\\t\\t<ul>\\n',\n",
       " '\\t\\t\\t<li><a href=\"projects/Autotune_MUS_15.html\">MUS 15 Project 1: Creating Autotune From Scratch Using Phase Vocoders</a></li>\\n',\n",
       " '\\t\\t\\t<li><a href=\"projects/Phase_Vocoder.html\">Phase Vocoder Implementation</a></li>\\n',\n",
       " '\\t\\t\\t<li><a href=\"projects/autotune_combined.html\">Autotune Implementation Using Phase Vocoder</a></li>\\n',\n",
       " '\\t\\t\\t<li><a href=\"projects/fast_fourier_transform.html\">Fast Fourier Transform Implementation</a></li>\\n',\n",
       " '\\t\\t\\t<li><a href=\"projects/unet_implementation.html\">U-Net Convolutional Neural Network Implementation</a></li>\\n',\n",
       " '\\t\\t\\t<li><a href=\"projects/Multilayer Neural Network.html\">Multilayer Neural Network Implementation From Scratch: Handwritten Text Parser</a></li>\\n',\n",
       " '\\t\\t\\t<li><a href=\"projects/Image Segmenter.html\">Image Segmenter Using Connected Components</a></li>\\n',\n",
       " '\\t\\t\\t<li><a href=\"projects/Handwriten Text Parser.html\">Perceptron Implementation From Scratch: Handwritten Text Parser</a></li>\\n',\n",
       " '\\t\\t\\t<li><a href=\"projects/Gaussian Blur Test.html\">Gaussian Filter Implementation</a></li>\\n',\n",
       " '\\t\\t\\t<li><a href=\"projects/play_note.html\">Pitch Reconstruction with Audio Processing</a></li>\\n',\n",
       " '\\t\\t\\t<li><a href=\"projects/interpolation.html\">Lagrange Interpolation and Gregory-Newton Interpolation</a></li>\\n',\n",
       " '\\t\\t\\t<li><a href=\"projects/edge_detector.html\">Image Edge Detector</a></li>\\n',\n",
       " '\\t\\t</ul>\\n',\n",
       " '\\t</div>\\n',\n",
       " '\\n',\n",
       " '\\n',\n",
       " '</body>\\n',\n",
       " '\\n',\n",
       " '</html>']"
      ]
     },
     "execution_count": 17,
     "metadata": {},
     "output_type": "execute_result"
    }
   ],
   "source": [
    "index_html_lines"
   ]
  },
  {
   "cell_type": "code",
   "execution_count": 18,
   "id": "5967d7cc",
   "metadata": {},
   "outputs": [],
   "source": [
    "tag_dict = {tag: metadata[tag] for tag in ['CV', 'LinkedIn', 'GitHub']}\n",
    "tag_dict['CV'] = f\"projects/{os.path.basename(tag_dict['CV'])}\""
   ]
  },
  {
   "cell_type": "code",
   "execution_count": 19,
   "id": "6a7d174f",
   "metadata": {},
   "outputs": [],
   "source": [
    "for i, line in enumerate(index_html_lines):\n",
    "    for tag in tag_dict:\n",
    "        prefix = f\"<a id='{tag}' href='\"\n",
    "        if line.startswith(prefix):\n",
    "            print(line.strip())\n",
    "            new_line = prefix + tag_dict[tag] + line[len(prefix) + line[len(prefix):].index(\"'\"):]\n",
    "            print(new_line)\n",
    "            index_html_lines[i] = new_line\n",
    "    \n",
    "    if line.startswith(prefix):\n",
    "        del tag_dict[tag]"
   ]
  },
  {
   "cell_type": "markdown",
   "id": "549403c3",
   "metadata": {},
   "source": [
    "# Writing Updated Index File"
   ]
  },
  {
   "cell_type": "code",
   "execution_count": 20,
   "id": "5d55453c",
   "metadata": {},
   "outputs": [],
   "source": [
    "with open(index_html_path, 'w') as outfile:\n",
    "    outfile.write(''.join(index_html_lines))"
   ]
  },
  {
   "cell_type": "code",
   "execution_count": 21,
   "id": "2b451d85",
   "metadata": {},
   "outputs": [
    {
     "name": "stdout",
     "output_type": "stream",
     "text": [
      "[main 6515b88] Automated Website Update\n",
      " 10 files changed, 42 insertions(+), 36 deletions(-)\n"
     ]
    },
    {
     "name": "stderr",
     "output_type": "stream",
     "text": [
      "remote: Resolving deltas: 100% (12/12), completed with 12 local objects.        \n",
      "To https://github.com/ginoprasad/ginoprasad.github.io\n",
      "   cace1f7..6515b88  main -> main\n"
     ]
    },
    {
     "data": {
      "text/plain": [
       "CompletedProcess(args=\"cd '/Users/ginoprasad/ginoprasad.github.io'; git add .; git commit -m 'Automated Website Update'; git push origin main\", returncode=0)"
      ]
     },
     "execution_count": 21,
     "metadata": {},
     "output_type": "execute_result"
    }
   ],
   "source": [
    "sp.run(f\"cd '{os.getcwd()}'; git add .; git commit -m 'Automated Website Update'; git push origin main\", shell=True)"
   ]
  },
  {
   "cell_type": "markdown",
   "id": "ea967e3c",
   "metadata": {},
   "source": [
    "# Updating Python Script"
   ]
  },
  {
   "cell_type": "code",
   "execution_count": 22,
   "id": "9589d4fd",
   "metadata": {},
   "outputs": [
    {
     "name": "stderr",
     "output_type": "stream",
     "text": [
      "[NbConvertApp] Converting notebook update_website.ipynb to script\n",
      "[NbConvertApp] Writing 4393 bytes to update_website.py\n"
     ]
    }
   ],
   "source": [
    "if hasattr(__builtins__,'__IPYTHON__'):\n",
    "    sp.run(f\"jupyter nbconvert --to script 'update_website.ipynb' --output 'update_website'\", shell=True)"
   ]
  },
  {
   "cell_type": "code",
   "execution_count": null,
   "id": "ed11ef25",
   "metadata": {},
   "outputs": [],
   "source": []
  }
 ],
 "metadata": {
  "kernelspec": {
   "display_name": "Python 3 (ipykernel)",
   "language": "python",
   "name": "python3"
  },
  "language_info": {
   "codemirror_mode": {
    "name": "ipython",
    "version": 3
   },
   "file_extension": ".py",
   "mimetype": "text/x-python",
   "name": "python",
   "nbconvert_exporter": "python",
   "pygments_lexer": "ipython3",
   "version": "3.9.5"
  }
 },
 "nbformat": 4,
 "nbformat_minor": 5
}
