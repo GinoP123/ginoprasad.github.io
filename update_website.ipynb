{
 "cells": [
  {
   "cell_type": "code",
   "execution_count": 23,
   "id": "da4db7fd",
   "metadata": {},
   "outputs": [],
   "source": [
    "import os\n",
    "import subprocess as sp\n",
    "import yaml\n",
    "import shutil\n",
    "from tqdm import tqdm\n",
    "import numpy as np\n",
    "import datetime\n",
    "import re"
   ]
  },
  {
   "cell_type": "markdown",
   "id": "d30106f3",
   "metadata": {},
   "source": [
    "# Convert notebooks to html"
   ]
  },
  {
   "cell_type": "code",
   "execution_count": 24,
   "id": "934dc49f",
   "metadata": {},
   "outputs": [],
   "source": [
    "os.chdir('/Users/ginoprasad/ginoprasad.github.io')"
   ]
  },
  {
   "cell_type": "code",
   "execution_count": 25,
   "id": "1b1568a7",
   "metadata": {},
   "outputs": [],
   "source": [
    "metadata_path = 'metadata.yaml'\n",
    "with open(metadata_path) as infile:\n",
    "    metadata = yaml.safe_load(infile)"
   ]
  },
  {
   "cell_type": "code",
   "execution_count": 26,
   "id": "5183729c",
   "metadata": {},
   "outputs": [],
   "source": [
    "for project_notebook_path in metadata['Projects'][:]:\n",
    "    if not os.path.exists(project_notebook_path):\n",
    "        print(f\"REMOVING {project_notebook_path}\")\n",
    "        metadata['Projects'].remove(project_notebook_path)\n",
    "        with open(metadata_path, 'w') as outfile:\n",
    "            yaml.dump(metadata, outfile, default_flow_style=False)"
   ]
  },
  {
   "cell_type": "code",
   "execution_count": 27,
   "id": "155f185e",
   "metadata": {},
   "outputs": [],
   "source": [
    "temp_path = f'{os.getcwd()}/projects/temp.html'"
   ]
  },
  {
   "cell_type": "code",
   "execution_count": 28,
   "id": "d1b56a5e",
   "metadata": {},
   "outputs": [],
   "source": [
    "max_base_filename_length = 50"
   ]
  },
  {
   "cell_type": "code",
   "execution_count": 29,
   "id": "5e201280",
   "metadata": {},
   "outputs": [],
   "source": [
    "def get_notebook_metadata(project_notebook_path):\n",
    "    notebook_metadata_str = sp.run(f\"head -n 200 '{project_notebook_path}'\", shell=True, capture_output=True).stdout.decode().split('\\n')\n",
    "    notebook_metadata_str = ''.join(notebook_metadata_str[notebook_metadata_str.index('   \"source\": [')+1:notebook_metadata_str.index('   ]')])\n",
    "    \n",
    "    notebook_metadata = {}\n",
    "    notebook_metadata['title'] = re.search('(?<=# ).*?(?<=\\\\\\\\n)', notebook_metadata_str).group(0)[:-2]\n",
    "    notebook_metadata['authors'] = re.search('(?<=#### ).*?(?<=\\\\\\\\n)', notebook_metadata_str).group(0)[:-2]\n",
    "    notebook_metadata['date'] = re.search('[0-9][0-9]/[0-9][0-9]/[0-9][0-9][0-9][0-9]', notebook_metadata_str).group(0)\n",
    "    \n",
    "    return notebook_metadata"
   ]
  },
  {
   "cell_type": "code",
   "execution_count": 30,
   "id": "6e91dc10",
   "metadata": {},
   "outputs": [
    {
     "data": {
      "text/plain": [
       "'01/27/24'"
      ]
     },
     "execution_count": 30,
     "metadata": {},
     "output_type": "execute_result"
    }
   ],
   "source": [
    "datetime.datetime.now().strftime('%D')"
   ]
  },
  {
   "cell_type": "code",
   "execution_count": 31,
   "id": "f0153e26",
   "metadata": {},
   "outputs": [
    {
     "name": "stderr",
     "output_type": "stream",
     "text": [
      "\r",
      "  0%|                                    | 0/22 [00:00<?, ?it/s]"
     ]
    },
    {
     "name": "stdout",
     "output_type": "stream",
     "text": [
      "earth_movers_distance\n",
      "Converting /Users/ginoprasad/ai_stuff/earth_movers_distance.ipynb\n"
     ]
    },
    {
     "name": "stderr",
     "output_type": "stream",
     "text": [
      "[NbConvertApp] Converting notebook /Users/ginoprasad/ai_stuff/earth_movers_distance.ipynb to html\n",
      "[NbConvertApp] Writing 611487 bytes to /Users/ginoprasad/ginoprasad.github.io/projects/temp.html\n",
      "  5%|█▎                          | 1/22 [00:01<00:39,  1.88s/it]"
     ]
    },
    {
     "name": "stdout",
     "output_type": "stream",
     "text": [
      "Project Name: Earth Mover's Distance for NLP using Network Simplex\n",
      "\n",
      "\n",
      "transformer_seq_to_seq\n",
      "Converting /Users/ginoprasad/ai_stuff/Translation/transformer_seq_to_seq.ipynb\n"
     ]
    },
    {
     "name": "stderr",
     "output_type": "stream",
     "text": [
      "[NbConvertApp] Converting notebook /Users/ginoprasad/ai_stuff/Translation/transformer_seq_to_seq.ipynb to html\n",
      "[NbConvertApp] Writing 658412 bytes to /Users/ginoprasad/ginoprasad.github.io/projects/temp.html\n",
      "  9%|██▌                         | 2/22 [00:03<00:36,  1.84s/it]"
     ]
    },
    {
     "name": "stdout",
     "output_type": "stream",
     "text": [
      "Project Name: English to French Translation using Transformers\n",
      "\n",
      "\n",
      "VAE_Face_Simulation\n",
      "Converting /Users/ginoprasad/ai_stuff/VAE_Face_Simulator/VAE_Face_Simulation.ipynb\n"
     ]
    },
    {
     "name": "stderr",
     "output_type": "stream",
     "text": [
      "[NbConvertApp] Converting notebook /Users/ginoprasad/ai_stuff/VAE_Face_Simulator/VAE_Face_Simulation.ipynb to html\n",
      "[NbConvertApp] Writing 1011361 bytes to /Users/ginoprasad/ginoprasad.github.io/projects/temp.html\n",
      " 14%|███▊                        | 3/22 [00:05<00:34,  1.84s/it]"
     ]
    },
    {
     "name": "stdout",
     "output_type": "stream",
     "text": [
      "Project Name: Variational Auto Encoders for Simulating Human Faces\n",
      "\n",
      "\n",
      "audio_transcription\n",
      "Converting /Users/ginoprasad/ai_stuff/MusicTranscription/audio_transcription.ipynb\n"
     ]
    },
    {
     "name": "stderr",
     "output_type": "stream",
     "text": [
      "[NbConvertApp] Converting notebook /Users/ginoprasad/ai_stuff/MusicTranscription/audio_transcription.ipynb to html\n",
      "[NbConvertApp] Writing 44753058 bytes to /Users/ginoprasad/ginoprasad.github.io/projects/temp.html\n"
     ]
    },
    {
     "name": "stdout",
     "output_type": "stream",
     "text": [
      "Project Name: MUS 15 Project 2: Audio Transcription\n"
     ]
    },
    {
     "name": "stderr",
     "output_type": "stream",
     "text": [
      "\r",
      " 18%|█████                       | 4/22 [00:08<00:38,  2.14s/it]"
     ]
    },
    {
     "name": "stdout",
     "output_type": "stream",
     "text": [
      "\n",
      "\n",
      "cropping_image_logo\n",
      "Converting /Users/ginoprasad/image_processing/cropping_image_logo.ipynb\n"
     ]
    },
    {
     "name": "stderr",
     "output_type": "stream",
     "text": [
      "[NbConvertApp] Converting notebook /Users/ginoprasad/image_processing/cropping_image_logo.ipynb to html\n",
      "[NbConvertApp] Writing 2035353 bytes to /Users/ginoprasad/ginoprasad.github.io/projects/temp.html\n",
      " 23%|██████▎                     | 5/22 [00:09<00:34,  2.02s/it]"
     ]
    },
    {
     "name": "stdout",
     "output_type": "stream",
     "text": [
      "Project Name: Cropping Image Logo for the Website\n",
      "\n",
      "\n",
      "Stable_Diffusion_Pretrained\n",
      "Converting /Users/ginoprasad/ai_stuff/Stable_Diffusion_Pretrained.ipynb\n"
     ]
    },
    {
     "name": "stderr",
     "output_type": "stream",
     "text": [
      "[NbConvertApp] Converting notebook /Users/ginoprasad/ai_stuff/Stable_Diffusion_Pretrained.ipynb to html\n",
      "[NbConvertApp] Writing 4344039 bytes to /Users/ginoprasad/ginoprasad.github.io/projects/temp.html\n",
      " 27%|███████▋                    | 6/22 [00:11<00:31,  1.95s/it]"
     ]
    },
    {
     "name": "stdout",
     "output_type": "stream",
     "text": [
      "Project Name: Using Pretrained Stable Diffusion for the Website Logo\n",
      "\n",
      "\n",
      "solution_11\n",
      "Converting /Users/ginoprasad/foobar/solution_11.ipynb\n"
     ]
    },
    {
     "name": "stderr",
     "output_type": "stream",
     "text": [
      "[NbConvertApp] Converting notebook /Users/ginoprasad/foobar/solution_11.ipynb to html\n",
      "[NbConvertApp] Writing 602684 bytes to /Users/ginoprasad/ginoprasad.github.io/projects/temp.html\n",
      " 32%|████████▉                   | 7/22 [00:13<00:28,  1.90s/it]"
     ]
    },
    {
     "name": "stdout",
     "output_type": "stream",
     "text": [
      "Project Name: Google Foobar Expanding Nebula Problem\n",
      "\n",
      "\n",
      "complex_inner_product\n",
      "Converting /Users/ginoprasad/quantum_algorithms/complex_inner_product.ipynb\n"
     ]
    },
    {
     "name": "stderr",
     "output_type": "stream",
     "text": [
      "[NbConvertApp] Converting notebook /Users/ginoprasad/quantum_algorithms/complex_inner_product.ipynb to html\n",
      "[NbConvertApp] Writing 594367 bytes to /Users/ginoprasad/ginoprasad.github.io/projects/temp.html\n",
      " 36%|██████████▏                 | 8/22 [00:15<00:26,  1.88s/it]"
     ]
    },
    {
     "name": "stdout",
     "output_type": "stream",
     "text": [
      "Project Name: Inner Product in Hilbert Space\n",
      "\n",
      "\n",
      "Autotune_MUS_15\n",
      "Converting /Users/ginoprasad/ai_stuff/autotune_phase_vocoder/Autotune_MUS_15.ipynb\n"
     ]
    },
    {
     "name": "stderr",
     "output_type": "stream",
     "text": [
      "[NbConvertApp] Converting notebook /Users/ginoprasad/ai_stuff/autotune_phase_vocoder/Autotune_MUS_15.ipynb to html\n",
      "[NbConvertApp] Writing 588877 bytes to /Users/ginoprasad/ginoprasad.github.io/projects/temp.html\n",
      " 41%|███████████▍                | 9/22 [00:17<00:24,  1.90s/it]"
     ]
    },
    {
     "name": "stdout",
     "output_type": "stream",
     "text": [
      "Project Name: MUS 15 Project 1: Creating Autotune From Scratch Using Phase Vocoders\n",
      "\n",
      "\n",
      "Phase_Vocoder\n",
      "Converting /Users/ginoprasad/ai_stuff/autotune_phase_vocoder/Phase_Vocoder.ipynb\n"
     ]
    },
    {
     "name": "stderr",
     "output_type": "stream",
     "text": [
      "[NbConvertApp] Converting notebook /Users/ginoprasad/ai_stuff/autotune_phase_vocoder/Phase_Vocoder.ipynb to html\n",
      "[NbConvertApp] Writing 4031216 bytes to /Users/ginoprasad/ginoprasad.github.io/projects/temp.html\n",
      " 45%|████████████▎              | 10/22 [00:18<00:20,  1.70s/it]"
     ]
    },
    {
     "name": "stdout",
     "output_type": "stream",
     "text": [
      "Project Name: Phase Vocoder Implementation\n",
      "\n",
      "\n",
      "yin_pitch_prediction\n",
      "Converting /Users/ginoprasad/ai_stuff/autotune_phase_vocoder/yin_pitch_prediction.ipynb\n"
     ]
    },
    {
     "name": "stderr",
     "output_type": "stream",
     "text": [
      "[NbConvertApp] Converting notebook /Users/ginoprasad/ai_stuff/autotune_phase_vocoder/yin_pitch_prediction.ipynb to html\n",
      "[NbConvertApp] Writing 1855064 bytes to /Users/ginoprasad/ginoprasad.github.io/projects/temp.html\n",
      " 50%|█████████████▌             | 11/22 [00:19<00:16,  1.53s/it]"
     ]
    },
    {
     "name": "stdout",
     "output_type": "stream",
     "text": [
      "Project Name: Yin Pitch Prediction Implementation\n",
      "\n",
      "\n",
      "autotune_combined\n",
      "Converting /Users/ginoprasad/ai_stuff/autotune_phase_vocoder/autotune_combined.ipynb\n"
     ]
    },
    {
     "name": "stderr",
     "output_type": "stream",
     "text": [
      "[NbConvertApp] Converting notebook /Users/ginoprasad/ai_stuff/autotune_phase_vocoder/autotune_combined.ipynb to html\n",
      "[NbConvertApp] Writing 4695499 bytes to /Users/ginoprasad/ginoprasad.github.io/projects/temp.html\n",
      " 55%|██████████████▋            | 12/22 [00:20<00:14,  1.42s/it]"
     ]
    },
    {
     "name": "stdout",
     "output_type": "stream",
     "text": [
      "Project Name: Autotune Implementation Using Phase Vocoder\n",
      "\n",
      "\n",
      "fast_fourier_transform\n",
      "Converting /Users/ginoprasad/eng_math/fast_fourier_transform.ipynb\n"
     ]
    },
    {
     "name": "stderr",
     "output_type": "stream",
     "text": [
      "[NbConvertApp] Converting notebook /Users/ginoprasad/eng_math/fast_fourier_transform.ipynb to html\n",
      "[NbConvertApp] Writing 824429 bytes to /Users/ginoprasad/ginoprasad.github.io/projects/temp.html\n",
      " 59%|███████████████▉           | 13/22 [00:22<00:12,  1.34s/it]"
     ]
    },
    {
     "name": "stdout",
     "output_type": "stream",
     "text": [
      "Project Name: Fast Fourier Transform Implementation\n",
      "\n",
      "\n",
      "unet_implementation\n",
      "Converting /Users/ginoprasad/ai_stuff/unet_implementation.ipynb\n"
     ]
    },
    {
     "name": "stderr",
     "output_type": "stream",
     "text": [
      "[NbConvertApp] Converting notebook /Users/ginoprasad/ai_stuff/unet_implementation.ipynb to html\n",
      "[NbConvertApp] Writing 1204776 bytes to /Users/ginoprasad/ginoprasad.github.io/projects/temp.html\n",
      " 64%|█████████████████▏         | 14/22 [00:23<00:10,  1.27s/it]"
     ]
    },
    {
     "name": "stdout",
     "output_type": "stream",
     "text": [
      "Project Name: U-Net Convolutional Neural Network Implementation\n",
      "\n",
      "\n",
      "Multilayer_Neural_Network\n",
      "Converting /Users/ginoprasad/ai_stuff/text_classifier/Multilayer_Neural_Network.ipynb\n"
     ]
    },
    {
     "name": "stderr",
     "output_type": "stream",
     "text": [
      "[NbConvertApp] Converting notebook /Users/ginoprasad/ai_stuff/text_classifier/Multilayer_Neural_Network.ipynb to html\n",
      "[NbConvertApp] Writing 610001 bytes to /Users/ginoprasad/ginoprasad.github.io/projects/temp.html\n",
      " 68%|██████████████████▍        | 15/22 [00:24<00:08,  1.22s/it]"
     ]
    },
    {
     "name": "stdout",
     "output_type": "stream",
     "text": [
      "Project Name: Multilayer Neural Network Implementation From Scratch: Handwritten Text Parser\n",
      "\n",
      "\n",
      "Image_Segmenter\n",
      "Converting /Users/ginoprasad/ai_stuff/text_classifier/Image_Segmenter.ipynb\n"
     ]
    },
    {
     "name": "stderr",
     "output_type": "stream",
     "text": [
      "[NbConvertApp] Converting notebook /Users/ginoprasad/ai_stuff/text_classifier/Image_Segmenter.ipynb to html\n",
      "[NbConvertApp] Writing 774298 bytes to /Users/ginoprasad/ginoprasad.github.io/projects/temp.html\n",
      " 73%|███████████████████▋       | 16/22 [00:25<00:07,  1.19s/it]"
     ]
    },
    {
     "name": "stdout",
     "output_type": "stream",
     "text": [
      "Project Name: Image Segmenter Using Connected Components\n",
      "\n",
      "\n",
      "Handwriten_Text_Parser\n",
      "Converting /Users/ginoprasad/ai_stuff/text_classifier/Handwriten_Text_Parser.ipynb\n"
     ]
    },
    {
     "name": "stderr",
     "output_type": "stream",
     "text": [
      "[NbConvertApp] Converting notebook /Users/ginoprasad/ai_stuff/text_classifier/Handwriten_Text_Parser.ipynb to html\n",
      "[NbConvertApp] Writing 619871 bytes to /Users/ginoprasad/ginoprasad.github.io/projects/temp.html\n",
      " 77%|████████████████████▊      | 17/22 [00:26<00:05,  1.18s/it]"
     ]
    },
    {
     "name": "stdout",
     "output_type": "stream",
     "text": [
      "Project Name: Perceptron Implementation From Scratch: Handwritten Text Parser\n",
      "\n",
      "\n",
      "Gaussian_Blur\n",
      "Converting /Users/ginoprasad/ai_stuff/Gaussian_Blur.ipynb\n"
     ]
    },
    {
     "name": "stderr",
     "output_type": "stream",
     "text": [
      "[NbConvertApp] Converting notebook /Users/ginoprasad/ai_stuff/Gaussian_Blur.ipynb to html\n",
      "[NbConvertApp] Writing 1157963 bytes to /Users/ginoprasad/ginoprasad.github.io/projects/temp.html\n",
      " 82%|██████████████████████     | 18/22 [00:27<00:04,  1.17s/it]"
     ]
    },
    {
     "name": "stdout",
     "output_type": "stream",
     "text": [
      "Project Name: Gaussian Filter Implementation\n",
      "\n",
      "\n",
      "play_note\n",
      "Converting /Users/ginoprasad/ai_stuff/audio_transcriber/play_note.ipynb\n"
     ]
    },
    {
     "name": "stderr",
     "output_type": "stream",
     "text": [
      "[NbConvertApp] Converting notebook /Users/ginoprasad/ai_stuff/audio_transcriber/play_note.ipynb to html\n",
      "[NbConvertApp] Writing 882257 bytes to /Users/ginoprasad/ginoprasad.github.io/projects/temp.html\n",
      " 86%|███████████████████████▎   | 19/22 [00:28<00:03,  1.17s/it]"
     ]
    },
    {
     "name": "stdout",
     "output_type": "stream",
     "text": [
      "Project Name: Pitch Reconstruction with Audio Processing\n",
      "\n",
      "\n",
      "wordle_bot\n",
      "Converting /Users/ginoprasad/Wordle/wordle_bot.ipynb\n"
     ]
    },
    {
     "name": "stderr",
     "output_type": "stream",
     "text": [
      "[NbConvertApp] Converting notebook /Users/ginoprasad/Wordle/wordle_bot.ipynb to html\n",
      "[NbConvertApp] Writing 739616 bytes to /Users/ginoprasad/ginoprasad.github.io/projects/temp.html\n",
      " 91%|████████████████████████▌  | 20/22 [00:30<00:02,  1.19s/it]"
     ]
    },
    {
     "name": "stdout",
     "output_type": "stream",
     "text": [
      "Project Name: Wordle Bot\n",
      "\n",
      "\n",
      "interpolation\n",
      "Converting /Users/ginoprasad/eng_math/interpolation.ipynb\n"
     ]
    },
    {
     "name": "stderr",
     "output_type": "stream",
     "text": [
      "[NbConvertApp] Converting notebook /Users/ginoprasad/eng_math/interpolation.ipynb to html\n",
      "[NbConvertApp] Writing 585551 bytes to /Users/ginoprasad/ginoprasad.github.io/projects/temp.html\n",
      " 95%|█████████████████████████▊ | 21/22 [00:31<00:01,  1.19s/it]"
     ]
    },
    {
     "name": "stdout",
     "output_type": "stream",
     "text": [
      "Project Name: Lagrange Interpolation and Gregory-Newton Interpolation\n",
      "\n",
      "\n",
      "edge_detector\n",
      "Converting /Users/ginoprasad/ai_stuff/edge_detector.ipynb\n"
     ]
    },
    {
     "name": "stderr",
     "output_type": "stream",
     "text": [
      "[NbConvertApp] Converting notebook /Users/ginoprasad/ai_stuff/edge_detector.ipynb to html\n",
      "[NbConvertApp] Writing 590889 bytes to /Users/ginoprasad/ginoprasad.github.io/projects/temp.html\n",
      "100%|███████████████████████████| 22/22 [00:32<00:00,  1.47s/it]"
     ]
    },
    {
     "name": "stdout",
     "output_type": "stream",
     "text": [
      "Project Name: Image Edge Detector\n",
      "\n",
      "\n"
     ]
    },
    {
     "name": "stderr",
     "output_type": "stream",
     "text": [
      "\n"
     ]
    }
   ],
   "source": [
    "project_names, project_paths, project_dates = [], [], []\n",
    "for project_notebook_path in tqdm(metadata['Projects']):\n",
    "    notebook_metadata = get_notebook_metadata(project_notebook_path)    \n",
    "    project_base_path = os.path.basename(project_notebook_path)[:-len('.ipynb')]\n",
    "\n",
    "    while len(project_base_path) > max_base_filename_length:\n",
    "        project_base_path = ' '.join(project_base_path.split(' ')[:-1])\n",
    "    if not project_base_path:\n",
    "        print(f\"\\n\\n\\n\\n\\tWarning: Project '{notebook_metadata['title']}' Name exceeds recommended length\\n\\n\\n\\n\")\n",
    "        project_base_path = notebook_metadata['title']\n",
    "    notebook_metadata['project_path'] = f'{os.getcwd()}/projects/{project_base_path}.html'\n",
    "    \n",
    "    assert notebook_metadata['project_path'] not in project_paths\n",
    "    project_names.append(notebook_metadata['title'])\n",
    "    project_paths.append(notebook_metadata['project_path'])\n",
    "    project_dates.append(notebook_metadata['date'])\n",
    "    \n",
    "    if os.path.exists(notebook_metadata['project_path']) and os.path.getmtime(notebook_metadata['project_path']) > os.path.getmtime(project_notebook_path):\n",
    "        continue\n",
    "    \n",
    "    print(project_base_path)\n",
    "    print(f\"Converting {project_notebook_path}\")\n",
    "    sp.run(f\"jupyter nbconvert --to html '{project_notebook_path}' --output '{temp_path}'\", shell=True)\n",
    "    print(f\"Project Name: {notebook_metadata['title']}\")\n",
    "\n",
    "    with open(temp_path) as infile:\n",
    "        lines = infile.readlines()\n",
    "\n",
    "\n",
    "    title = ' '.join(map(lambda x: x[0].upper() + x[1:] if x else x, project_base_path.split('_')))\n",
    "    lines[5] = lines[5][:len('<title>')] + title + lines[5][lines[5].index('</title>'):]\n",
    " \n",
    "    with open(temp_path, 'w') as outfile:\n",
    "        lines.insert(5, '<link rel=\"icon\" href=\"../docs/assets/logo.png\"><iframe src=\"../header.html\" style=\"height: 12rem; width: 100%\" frameborder=\"0\" scrolling=\"no\"></iframe>\\n')\n",
    "        outfile.write(''.join(lines))\n",
    "    os.rename(temp_path, notebook_metadata['project_path'])\n",
    "    \n",
    "    print('\\n')"
   ]
  },
  {
   "cell_type": "code",
   "execution_count": 37,
   "id": "fdf4fabb",
   "metadata": {},
   "outputs": [
    {
     "ename": "TypeError",
     "evalue": "'list' object is not callable",
     "output_type": "error",
     "traceback": [
      "\u001b[0;31m---------------------------------------------------------------------------\u001b[0m",
      "\u001b[0;31mTypeError\u001b[0m                                 Traceback (most recent call last)",
      "\u001b[0;32m/var/folders/hg/fb033z3906sbs5qrlt7sc2sm0000gn/T/ipykernel_24475/104936308.py\u001b[0m in \u001b[0;36m<module>\u001b[0;34m\u001b[0m\n\u001b[1;32m      1\u001b[0m \u001b[0mdatetimes\u001b[0m \u001b[0;34m=\u001b[0m \u001b[0;34m[\u001b[0m\u001b[0mdatetime\u001b[0m\u001b[0;34m.\u001b[0m\u001b[0mdatetime\u001b[0m\u001b[0;34m.\u001b[0m\u001b[0mstrptime\u001b[0m\u001b[0;34m(\u001b[0m\u001b[0mproject_date\u001b[0m\u001b[0;34m,\u001b[0m \u001b[0;34m'%m/%d/%Y'\u001b[0m\u001b[0;34m)\u001b[0m \u001b[0;32mfor\u001b[0m \u001b[0mproject_date\u001b[0m \u001b[0;32min\u001b[0m \u001b[0mproject_dates\u001b[0m\u001b[0;34m]\u001b[0m\u001b[0;34m\u001b[0m\u001b[0;34m\u001b[0m\u001b[0m\n\u001b[0;32m----> 2\u001b[0;31m \u001b[0mproject_names\u001b[0m \u001b[0;34m=\u001b[0m \u001b[0msorted\u001b[0m\u001b[0;34m(\u001b[0m\u001b[0mproject_names\u001b[0m\u001b[0;34m,\u001b[0m \u001b[0mkey\u001b[0m\u001b[0;34m=\u001b[0m\u001b[0mdatetimes\u001b[0m\u001b[0;34m)\u001b[0m\u001b[0;34m\u001b[0m\u001b[0;34m\u001b[0m\u001b[0m\n\u001b[0m\u001b[1;32m      3\u001b[0m \u001b[0mproject_dates\u001b[0m \u001b[0;34m=\u001b[0m \u001b[0msorted\u001b[0m\u001b[0;34m(\u001b[0m\u001b[0mproject_dates\u001b[0m\u001b[0;34m,\u001b[0m \u001b[0mkey\u001b[0m\u001b[0;34m=\u001b[0m\u001b[0mdatetimes\u001b[0m\u001b[0;34m)\u001b[0m\u001b[0;34m\u001b[0m\u001b[0;34m\u001b[0m\u001b[0m\n\u001b[1;32m      4\u001b[0m \u001b[0mdatetimes\u001b[0m\u001b[0;34m\u001b[0m\u001b[0;34m\u001b[0m\u001b[0m\n",
      "\u001b[0;31mTypeError\u001b[0m: 'list' object is not callable"
     ]
    }
   ],
   "source": [
    "datetimes = [datetime.datetime.strptime(project_date, '%m/%d/%Y') for project_date in project_dates]\n",
    "project_names = sorted(project_names, key=datetimes)\n",
    "project_dates = sorted(project_dates, key=datetimes)\n",
    "datetimes"
   ]
  },
  {
   "cell_type": "code",
   "execution_count": 9,
   "id": "02e0ef43",
   "metadata": {},
   "outputs": [
    {
     "data": {
      "text/plain": [
       "[\"Earth Mover's Distance for NLP using Network Simplex\",\n",
       " 'English to French Translation using Transformers',\n",
       " 'Variational Auto Encoders for Simulating Human Faces',\n",
       " 'MUS 15 Project 2: Audio Transcription',\n",
       " 'Cropping Image Logo for the Website',\n",
       " 'Using Pretrained Stable Diffusion for the Website Logo',\n",
       " 'Google Foobar Expanding Nebula Problem',\n",
       " 'Inner Product in Hilbert Space',\n",
       " 'MUS 15 Project 1: Creating Autotune From Scratch Using Phase Vocoders',\n",
       " 'Phase Vocoder Implementation',\n",
       " 'Yin Pitch Prediction Implementation',\n",
       " 'Autotune Implementation Using Phase Vocoder',\n",
       " 'Fast Fourier Transform Implementation',\n",
       " 'U-Net Convolutional Neural Network Implementation',\n",
       " 'Multilayer Neural Network Implementation From Scratch: Handwritten Text Parser',\n",
       " 'Image Segmenter Using Connected Components',\n",
       " 'Perceptron Implementation From Scratch: Handwritten Text Parser',\n",
       " 'Gaussian Filter Implementation',\n",
       " 'Pitch Reconstruction with Audio Processing',\n",
       " 'Wordle Bot',\n",
       " 'Lagrange Interpolation and Gregory-Newton Interpolation',\n",
       " 'Image Edge Detector']"
      ]
     },
     "execution_count": 9,
     "metadata": {},
     "output_type": "execute_result"
    }
   ],
   "source": [
    "project_names"
   ]
  },
  {
   "cell_type": "code",
   "execution_count": 9,
   "id": "f2eaadff",
   "metadata": {},
   "outputs": [],
   "source": [
    "index_html_path = 'index.html'\n",
    "index_html_lines = open(index_html_path).readlines()"
   ]
  },
  {
   "cell_type": "code",
   "execution_count": 15,
   "id": "52ad2069",
   "metadata": {},
   "outputs": [],
   "source": [
    "project_template = \"\\t\\t\\t<li><div class=link><a href=\\\"{}\\\">{}</a></div><div class='date'><img src='docs/assets/calendar_icon.png'><span class=date>{}</span></div></li>\\n\"\n",
    "\n",
    "project_list_index_start = [\"Cool Projects\" in x for x in index_html_lines].index(True) + 2\n",
    "project_list_index_end = index_html_lines[project_list_index_start:].index('\\t\\t</ul>\\n') + project_list_index_start\n",
    "\n",
    "new_project_list =  [project_template.format(os.path.basename(html_path), name, date) for name, html_path, date in zip(project_names, project_paths, project_dates)]\n",
    "index_html_lines = index_html_lines[:project_list_index_start] + new_project_list + index_html_lines[project_list_index_end:]\n",
    "index_html_lines[project_list_index_start-2] = f\"\\t\\t<h2> Cool Projects ({len(metadata['Projects'])}) </h2>\\n\""
   ]
  },
  {
   "cell_type": "markdown",
   "id": "d7745fbd",
   "metadata": {},
   "source": [
    "# Copying CV and Updating Links"
   ]
  },
  {
   "cell_type": "code",
   "execution_count": 16,
   "id": "6e3b72ba",
   "metadata": {},
   "outputs": [],
   "source": [
    "assert shutil.copy(metadata['CV'], f\"projects/{os.path.basename(metadata['CV'])}\")"
   ]
  },
  {
   "cell_type": "code",
   "execution_count": 17,
   "id": "5967d7cc",
   "metadata": {},
   "outputs": [],
   "source": [
    "tag_dict = {tag: metadata[tag] for tag in ['CV', 'LinkedIn', 'GitHub']}\n",
    "tag_dict['CV'] = f\"projects/{os.path.basename(tag_dict['CV'])}\""
   ]
  },
  {
   "cell_type": "code",
   "execution_count": 18,
   "id": "6a7d174f",
   "metadata": {},
   "outputs": [],
   "source": [
    "for i, line in enumerate(index_html_lines):\n",
    "    for tag in tag_dict:\n",
    "        prefix = f\"<a id='{tag}' href='\"\n",
    "        if line.startswith(prefix):\n",
    "            print(line.strip())\n",
    "            new_line = prefix + tag_dict[tag] + line[len(prefix) + line[len(prefix):].index(\"'\"):]\n",
    "            print(new_line)\n",
    "            index_html_lines[i] = new_line\n",
    "    \n",
    "    if line.startswith(prefix):\n",
    "        del tag_dict[tag]"
   ]
  },
  {
   "cell_type": "markdown",
   "id": "549403c3",
   "metadata": {},
   "source": [
    "# Writing Updated Index File"
   ]
  },
  {
   "cell_type": "code",
   "execution_count": 19,
   "id": "5d55453c",
   "metadata": {},
   "outputs": [],
   "source": [
    "with open(index_html_path, 'w') as outfile:\n",
    "    outfile.write(''.join(index_html_lines))"
   ]
  },
  {
   "cell_type": "code",
   "execution_count": 20,
   "id": "2b451d85",
   "metadata": {},
   "outputs": [
    {
     "name": "stdout",
     "output_type": "stream",
     "text": [
      "[main 55e4115] Automated Website Update\n",
      " 20 files changed, 61174 insertions(+), 184 deletions(-)\n",
      " create mode 100644 docs/assets/calendar_icon.png\n",
      " create mode 100644 projects/Gaussian_Blur.html\n",
      " create mode 100644 projects/Handwriten_Text_Parser.html\n",
      " create mode 100644 projects/Image_Segmenter.html\n",
      " create mode 100644 projects/Multilayer_Neural_Network.html\n"
     ]
    },
    {
     "name": "stderr",
     "output_type": "stream",
     "text": [
      "To https://github.com/GinoP123/ginoprasad.github.io.git\n",
      "   361b54c..55e4115  main -> main\n"
     ]
    },
    {
     "data": {
      "text/plain": [
       "CompletedProcess(args=\"cd '/Users/ginoprasad/ginoprasad.github.io'; git add .; git commit -m 'Automated Website Update'; git push origin main\", returncode=0)"
      ]
     },
     "execution_count": 20,
     "metadata": {},
     "output_type": "execute_result"
    }
   ],
   "source": [
    "sp.run(f\"cd '{os.getcwd()}'; git add .; git commit -m 'Automated Website Update'; git push origin main\", shell=True)"
   ]
  },
  {
   "cell_type": "markdown",
   "id": "ea967e3c",
   "metadata": {},
   "source": [
    "# Updating Python Script"
   ]
  },
  {
   "cell_type": "code",
   "execution_count": 22,
   "id": "9589d4fd",
   "metadata": {},
   "outputs": [
    {
     "name": "stderr",
     "output_type": "stream",
     "text": [
      "[NbConvertApp] Converting notebook update_website.ipynb to script\n",
      "[NbConvertApp] Writing 5603 bytes to update_website.py\n"
     ]
    }
   ],
   "source": [
    "if hasattr(__builtins__,'__IPYTHON__'):\n",
    "    sp.run(f\"jupyter nbconvert --to script 'update_website.ipynb' --output 'update_website'\", shell=True)"
   ]
  },
  {
   "cell_type": "code",
   "execution_count": null,
   "id": "6ecfdae7",
   "metadata": {},
   "outputs": [],
   "source": []
  }
 ],
 "metadata": {
  "kernelspec": {
   "display_name": "Python 3 (ipykernel)",
   "language": "python",
   "name": "python3"
  },
  "language_info": {
   "codemirror_mode": {
    "name": "ipython",
    "version": 3
   },
   "file_extension": ".py",
   "mimetype": "text/x-python",
   "name": "python",
   "nbconvert_exporter": "python",
   "pygments_lexer": "ipython3",
   "version": "3.9.5"
  }
 },
 "nbformat": 4,
 "nbformat_minor": 5
}
